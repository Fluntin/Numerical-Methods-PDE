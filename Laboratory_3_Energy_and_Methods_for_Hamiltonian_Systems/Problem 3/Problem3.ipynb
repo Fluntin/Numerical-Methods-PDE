{
 "cells": [
  {
   "cell_type": "markdown",
   "metadata": {},
   "source": [
    "## a) The wave equation"
   ]
  },
  {
   "cell_type": "markdown",
   "metadata": {},
   "source": [
    "### Question"
   ]
  },
  {
   "cell_type": "markdown",
   "metadata": {},
   "source": [
    "\n",
    "\n",
    "$$\n",
    "\\begin{aligned}\n",
    "\\frac{\\partial^2 u}{\\partial t^2}(x, t) & =c^2 \\frac{\\partial^2 u}{\\partial x^2}(x, t), \\quad t>0, x \\in(0,1) \\\\\n",
    "u(0, t) & =u(1, t)=0,\n",
    "\\end{aligned}\n",
    "$$\n",
    "where $c$ is a constant (speed of sound/light), can be approximated in two steps: \n",
    "\n",
    "1. Define the vector $\\bar{u}(t) \\in \\mathbb{R}^{N+1}$, where $\\bar{u}_j(t) \\simeq u(j / N, t)$ for $j=0,1,2, \\ldots, N$ \n",
    "\n",
    "2. Let $N^2\\left(\\bar{u}_{j+1}(t)-2 \\bar{u}_j(t)+\\bar{u}_{j-1}(t)\\right) \\simeq \\frac{\\partial^2 u}{\\partial x^2}(j / N, t)$ be the usual approximation of the second derivative, then we obtain the following system of differential equations\n",
    "\n",
    "$$\n",
    "\\frac{\\mathrm{d}^2 \\bar{u}_j(t)}{\\mathrm{d} t^2}=c^2 N^2\\left(\\bar{u}_{j+1}(t)-2 \\bar{u}_j(t)+u_{j-1}(t)\\right), j=1, \\ldots, N-1,\n",
    "$$\n",
    "\n",
    "so that $\\mathrm{d}^2 \\hat{u}(t) / \\mathrm{d} t^2=c^2 A \\hat{u}(t)$ where $\\hat{u}(t) \\in \\mathbb{R}^{N-1}$ is the vector with components $\\hat{u}_j(t)=\\bar{u}_j(t), j=1, \\ldots, N-1$ and $A$ is the $(N-1) \\times(N-1)$ matrix with $-2 N^2$ on the diagonal and $N^2$ on the upper and lower diagonals. \n",
    "\n",
    "- Show that the energy $|\\mathrm{d} \\hat{u}(t) / \\mathrm{d} t|^2 / 2-c^2 \\hat{u}(t) \\cdot A \\hat{u}(t) / 2$ is constant for all times, where $\\cdot$ denotes the scalar product in $\\mathbb{R}^{N-1}$. \n",
    "\n",
    "- Suggest an appropriate numerical method. \n",
    "\n",
    "- Also show that the wave equation is a Hamiltonian system.\n",
    "$$\n",
    "\\frac{\\mathrm{d}^2 \\bar{u}_j(t)}{\\mathrm{d} t^2}=c^2 N^2\\left(\\bar{u}_{j+1}(t)-2 \\bar{u}_j(t)+u_{j-1}(t)\\right), j=1, \\ldots, N-1\n",
    "$$\n",
    "\n",
    "---"
   ]
  },
  {
   "cell_type": "markdown",
   "metadata": {},
   "source": [
    "### Solution"
   ]
  },
  {
   "cell_type": "markdown",
   "metadata": {},
   "source": [
    "#### Energy: "
   ]
  },
  {
   "cell_type": "markdown",
   "metadata": {},
   "source": [
    "The energy $E$ is defined in terms of the square of the velocity first partial derivative of $\\bar{u}(t)$ with respect to time and the potential energy in terms of matrix $A$ and $\\bar{u}(t)$.\n",
    "\n",
    "$$ E = \\frac{1}{2}\\left( \\left|\\frac{\\partial \\bar{u}(t)}{\\partial t}\\right|^2 - c^2 \\bar{u}(t) \\cdot A \\bar{u}(t) \\right) = \\frac{1}{2}\\left( \\frac{\\partial \\bar{u}(t)}{\\partial t} \\cdot \\frac{\\partial \\bar{u}(t)}{\\partial t} - c^2 \\bar{u}(t) \\cdot A \\bar{u}(t) \\right) $$\n",
    "\n",
    "\n",
    "$$ \\frac{\\partial E}{\\partial t} = \\frac{1}{2}\\left( \\frac{\\partial^2 \\bar{u}(t)}{\\partial t^2} \\cdot \\frac{\\partial \\bar{u}(t)}{\\partial t} + \\frac{\\partial \\bar{u}(t)}{\\partial t} \\cdot \\frac{\\partial^2 \\bar{u}(t)}{\\partial t^2} - c^2 \\left( \\bar{u}(t) \\cdot A \\frac{\\partial \\bar{u}(t)}{\\partial t} + \\frac{\\partial \\bar{u}(t)}{\\partial t} \\cdot A \\bar{u}(t) \\right) \\right) $$\n",
    "\n",
    "Simplifying this using the properties of scalar products and the distributive property,\n",
    "$$ = \\frac{1}{2}\\left( 2 \\frac{\\partial \\bar{u}(t)}{\\partial t} \\cdot \\frac{\\partial^2 \\bar{u}(t)}{\\partial t^2} - c^2 \\left( 2 \\frac{\\partial \\bar{u}(t)}{\\partial t} \\cdot A \\bar{u}(t) \\right) \\right) $$\n",
    "$$ = \\frac{\\partial \\bar{u}(t)}{\\partial t} \\cdot \\frac{\\partial^2 \\bar{u}(t)}{\\partial t^2} - c^2 \\frac{\\partial \\bar{u}(t)}{\\partial t} \\cdot A \\bar{u}(t) $$\n",
    "\n",
    "Given the differential equation $ \\frac{\\partial^2 \\bar{u}(t)}{\\partial t^2} = c^2 A \\bar{u}(t) $, we can substitute this into the equation,\n",
    "\n",
    "\n",
    "$$ = \\frac{\\partial \\bar{u}(t)}{\\partial t} \\cdot c^2 A \\bar{u}(t) - c^2 \\frac{\\partial \\bar{u}(t)}{\\partial t} \\cdot A \\bar{u}(t) $$\n",
    "\n",
    "$$ = \\frac{\\partial \\bar{u}(t)}{\\partial t} \\cdot \\left( c^2 A \\bar{u}(t) - c^2 A \\bar{u}(t) \\right) $$\n",
    "$$ = 0 $$\n",
    "\n",
    "This shows that the rate of change of energy with respect to time is zero, indicating that the energy $E$ is constant for all times $t$."
   ]
  },
  {
   "cell_type": "markdown",
   "metadata": {},
   "source": [
    "#### Numerical:"
   ]
  },
  {
   "cell_type": "markdown",
   "metadata": {},
   "source": [
    "\n",
    "\n",
    "\n",
    "Numerically solving this system of differential equations, a suitable method would be the:\n",
    "- **finite difference method** for spatial discretization combined with a **time-stepping scheme** such as the **Crank-Nicolson** method or the **leapfrog method**. \n",
    "\n",
    "Here, we've used the fact that the dot product is linear and symmetric, that $A$ is symmetric, and that $d^2 \\hat{u}(t) / d t^2 - c^2 A \\hat{u}(t) = \\vec{0}$. But then $dE/dt = 0$, so $E$ is constant, which is exactly what was to be shown.\n",
    "\n",
    "For an appropriate numerical method, introduce a time discretization, where each time step has a length of $\\Delta t$. Furthermore, for each time $t$ in the discretization,\n",
    "$$\n",
    "\\frac{\\hat{u}(t + \\Delta t) - 2 \\hat{u}(t) + \\hat{u}(t - \\Delta t)}{\\Delta t^2} \\approx \\frac{d^2 \\hat{u}(t)}{d t^2}.\n",
    "$$\n",
    "\n",
    "Then, we can use a finite difference method according to which we approximately have that\n",
    "$$\n",
    "\\begin{aligned}\n",
    "& \\frac{\\hat{u}(t + \\Delta t) - 2 \\hat{u}(t) + \\hat{u}(t - \\Delta t)}{\\Delta t^2} = c^2 A \\hat{u}(t) \\\\\n",
    "& \\hat{u}(t + \\Delta t) - 2 \\hat{u}(t) + \\hat{u}(t - \\Delta t) = \\Delta t^2 c^2 A \\hat{u}(t) \\\\\n",
    "& \\hat{u}(t + \\Delta t) = (2I + \\Delta t^2 c^2 A) \\hat{u}(t) - \\hat{u}(t - \\Delta t).\n",
    "\\end{aligned}\n",
    "$$"
   ]
  },
  {
   "cell_type": "markdown",
   "metadata": {},
   "source": [
    "#### Wave equation is a Hamiltonian system"
   ]
  },
  {
   "cell_type": "markdown",
   "metadata": {},
   "source": []
  },
  {
   "cell_type": "markdown",
   "metadata": {},
   "source": [
    "\n",
    "---\n",
    "\n",
    "## b) d'Alembert's solution formula\n",
    "\n"
   ]
  },
  {
   "cell_type": "markdown",
   "metadata": {},
   "source": [
    "### Question"
   ]
  },
  {
   "cell_type": "markdown",
   "metadata": {},
   "source": [
    "\n",
    "$$\n",
    "u(x, t)=\\frac{1}{2}(u(x+c t, 0)+u(x-c t, 0)),\n",
    "$$\n",
    "describes the solution to the wave equation in an infinite domain\n",
    "$$\n",
    "\\frac{\\partial^2 u}{\\partial t^2}(x, t)=c^2 \\frac{\\partial^2 u}{\\partial x^2}(x, t), \\quad t>0, x \\in \\mathbb{R}\n",
    "$$\n",
    "with data $\\left.\\frac{\\partial u(x, t)}{\\partial t}\\right|_{t=0}=0$; demonstrate this. Feel free to make movies that show the solution of:\n",
    "\n",
    "$$\n",
    "\\frac{\\mathrm{d}^2 \\bar{u}_j(t)}{\\mathrm{d} t^2}=c^2 N^2\\left(\\bar{u}_{j+1}(t)-2 \\bar{u}_j(t)+u_{j-1}(t)\\right), j=1, \\ldots, N-1\n",
    "$$\n",
    " \n",
    "and \n",
    "\n",
    "$$\n",
    "u(x, t)=\\frac{1}{2}(u(x+c t, 0)+u(x-c t, 0))\n",
    "$$\n",
    " \n",
    "What happens if the boundary conditions in \n",
    "\n",
    "$$\n",
    "\\frac{\\mathrm{d}^2 \\bar{u}_j(t)}{\\mathrm{d} t^2}=c^2 N^2\\left(\\bar{u}_{j+1}(t)-2 \\bar{u}_j(t)+u_{j-1}(t)\\right), j=1, \\ldots, N-1\n",
    "$$\n",
    "\n",
    "and \n",
    "\n",
    "$$\n",
    "\\begin{aligned}\n",
    "\\frac{\\partial^2 u}{\\partial t^2}(x, t) & =c^2 \\frac{\\partial^2 u}{\\partial x^2}(x, t), \\quad t>0, x \\in(0,1) \\\\\n",
    "u(0, t) & =u(1, t)=0,\n",
    "\\end{aligned}\n",
    "$$\n",
    "\n",
    "are replaced with\n",
    "\n",
    "$$\n",
    "\\frac{\\partial u(0, t)}{\\partial x}=\\frac{\\partial u(1, t)}{\\partial x}=0\n",
    "$$\n",
    "\n",
    "---"
   ]
  },
  {
   "cell_type": "markdown",
   "metadata": {},
   "source": [
    "### Solution"
   ]
  },
  {
   "cell_type": "markdown",
   "metadata": {},
   "source": [
    "With $u(x, t)=\\frac{1}{2}(u(x+c t, 0)+u(x-c t, 0))$ as given in the statement, we see that\n",
    "$$\n",
    "u_{xx}(x, t)=\\frac{1}{2}\\left(u_{xx}(x+c t, 0)+u_{xx}(x-c t, 0)\\right).\n",
    "$$\n",
    "\n",
    "Now, note that\n",
    "$$\n",
    "u_t(x, t)=\\frac{1}{2}\\left(c u_x(x+c t, 0)-c u_x(x-c t, 0)\\right),\n",
    "$$\n",
    "which leads to $u_t(x, 0)=\\frac{1}{2}\\left(c u_x(x, 0)-c u_x(x, 0)\\right)=0$ and that\n",
    "$$\n",
    "\\begin{aligned}\n",
    "u_{tt}(x, t) & =\\frac{1}{2}\\left(c^2 u_{xx}(x+c t, 0)+(-c)^2 u_{xx}(x-c t, 0)\\right) \\\\\n",
    "& =c^2 \\frac{1}{2}\\left(u_{xx}(x+c t, 0)+u_{xx}(x-c t, 0)\\right) \\\\\n",
    "& =c^2 u_{xx}(x, t)\n",
    "\\end{aligned}\n",
    "$$\n",
    "as above. Thus, d'Alembert's formula satisfies both the initial condition and the differential equation, and therefore is a solution to the problem.\n",
    "If the boundary conditions in the equations are replaced with Neumann boundary conditions\n",
    "$$\n",
    "\\frac{\\partial u(0, t)}{\\partial x}=\\frac{\\partial u(1, t)}{\\partial x}=0,\n",
    "$$\n",
    "this has the effect of mirroring the wave at the boundary points $x=0$ and $x=1$, as if there were a solid wall obstructing the wave's progress."
   ]
  }
 ],
 "metadata": {
  "language_info": {
   "name": "python"
  }
 },
 "nbformat": 4,
 "nbformat_minor": 2
}
