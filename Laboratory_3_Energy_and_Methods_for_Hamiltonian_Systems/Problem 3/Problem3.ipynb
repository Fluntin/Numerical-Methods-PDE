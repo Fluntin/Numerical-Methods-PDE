{
 "cells": [
  {
   "cell_type": "markdown",
   "metadata": {},
   "source": [
    "## a) The wave equation"
   ]
  },
  {
   "cell_type": "markdown",
   "metadata": {},
   "source": [
    "### Question"
   ]
  },
  {
   "cell_type": "markdown",
   "metadata": {},
   "source": [
    "\n",
    "\n",
    "$$\n",
    "\\begin{aligned}\n",
    "\\frac{\\partial^2 u}{\\partial t^2}(x, t) & =c^2 \\frac{\\partial^2 u}{\\partial x^2}(x, t), \\quad t>0, x \\in(0,1) \\\\\n",
    "u(0, t) & =u(1, t)=0,\n",
    "\\end{aligned}\n",
    "$$\n",
    "where $c$ is a constant (speed of sound/light), can be approximated in two steps: \n",
    "\n",
    "1. Define the vector $\\bar{u}(t) \\in \\mathbb{R}^{N+1}$, where $\\bar{u}_j(t) \\simeq u(j / N, t)$ for $j=0,1,2, \\ldots, N$ \n",
    "\n",
    "2. Let $N^2\\left(\\bar{u}_{j+1}(t)-2 \\bar{u}_j(t)+\\bar{u}_{j-1}(t)\\right) \\simeq \\frac{\\partial^2 u}{\\partial x^2}(j / N, t)$ be the usual approximation of the second derivative, then we obtain the following system of differential equations\n",
    "\n",
    "$$\n",
    "\\frac{\\mathrm{d}^2 \\bar{u}_j(t)}{\\mathrm{d} t^2}=c^2 N^2\\left(\\bar{u}_{j+1}(t)-2 \\bar{u}_j(t)+u_{j-1}(t)\\right), j=1, \\ldots, N-1,\n",
    "$$\n",
    "\n",
    "so that $\\mathrm{d}^2 \\hat{u}(t) / \\mathrm{d} t^2=c^2 A \\hat{u}(t)$ where $\\hat{u}(t) \\in \\mathbb{R}^{N-1}$ is the vector with components $\\hat{u}_j(t)=\\bar{u}_j(t), j=1, \\ldots, N-1$ and $A$ is the $(N-1) \\times(N-1)$ matrix with $-2 N^2$ on the diagonal and $N^2$ on the upper and lower diagonals. \n",
    "\n",
    "- Show that the energy $|\\mathrm{d} \\hat{u}(t) / \\mathrm{d} t|^2 / 2-c^2 \\hat{u}(t) \\cdot A \\hat{u}(t) / 2$ is constant for all times, where $\\cdot$ denotes the scalar product in $\\mathbb{R}^{N-1}$. \n",
    "\n",
    "- Suggest an appropriate numerical method. \n",
    "\n",
    "- Also show that the wave equation is a Hamiltonian system.\n",
    "$$\n",
    "\\frac{\\mathrm{d}^2 \\bar{u}_j(t)}{\\mathrm{d} t^2}=c^2 N^2\\left(\\bar{u}_{j+1}(t)-2 \\bar{u}_j(t)+u_{j-1}(t)\\right), j=1, \\ldots, N-1\n",
    "$$\n",
    "\n",
    "---"
   ]
  },
  {
   "cell_type": "markdown",
   "metadata": {},
   "source": [
    "### Solution"
   ]
  },
  {
   "cell_type": "markdown",
   "metadata": {},
   "source": [
    "#### Energy: "
   ]
  },
  {
   "cell_type": "markdown",
   "metadata": {},
   "source": [
    "The energy $E$ is defined in terms of the square of the velocity first partial derivative of $\\bar{u}(t)$ with respect to time and the potential energy in terms of matrix $A$ and $\\bar{u}(t)$.\n",
    "\n",
    "$$ E = \\frac{1}{2}\\left( \\left|\\frac{\\partial \\bar{u}(t)}{\\partial t}\\right|^2 - c^2 \\bar{u}(t) \\cdot A \\bar{u}(t) \\right) = \\frac{1}{2}\\left( \\frac{\\partial \\bar{u}(t)}{\\partial t} \\cdot \\frac{\\partial \\bar{u}(t)}{\\partial t} - c^2 \\bar{u}(t) \\cdot A \\bar{u}(t) \\right) $$\n",
    "\n",
    "\n",
    "$$ \\frac{\\partial E}{\\partial t} = \\frac{1}{2}\\left( \\frac{\\partial^2 \\bar{u}(t)}{\\partial t^2} \\cdot \\frac{\\partial \\bar{u}(t)}{\\partial t} + \\frac{\\partial \\bar{u}(t)}{\\partial t} \\cdot \\frac{\\partial^2 \\bar{u}(t)}{\\partial t^2} - c^2 \\left( \\bar{u}(t) \\cdot A \\frac{\\partial \\bar{u}(t)}{\\partial t} + \\frac{\\partial \\bar{u}(t)}{\\partial t} \\cdot A \\bar{u}(t) \\right) \\right) $$\n",
    "\n",
    "Simplifying this using the properties of scalar products and the distributive property,\n",
    "$$ = \\frac{1}{2}\\left( 2 \\frac{\\partial \\bar{u}(t)}{\\partial t} \\cdot \\frac{\\partial^2 \\bar{u}(t)}{\\partial t^2} - c^2 \\left( 2 \\frac{\\partial \\bar{u}(t)}{\\partial t} \\cdot A \\bar{u}(t) \\right) \\right) $$\n",
    "$$ = \\frac{\\partial \\bar{u}(t)}{\\partial t} \\cdot \\frac{\\partial^2 \\bar{u}(t)}{\\partial t^2} - c^2 \\frac{\\partial \\bar{u}(t)}{\\partial t} \\cdot A \\bar{u}(t) $$\n",
    "\n",
    "Given the differential equation $ \\frac{\\partial^2 \\bar{u}(t)}{\\partial t^2} = c^2 A \\bar{u}(t) $, we can substitute this into the equation,\n",
    "\n",
    "\n",
    "$$ = \\frac{\\partial \\bar{u}(t)}{\\partial t} \\cdot c^2 A \\bar{u}(t) - c^2 \\frac{\\partial \\bar{u}(t)}{\\partial t} \\cdot A \\bar{u}(t) $$\n",
    "\n",
    "$$ = \\frac{\\partial \\bar{u}(t)}{\\partial t} \\cdot \\left( c^2 A \\bar{u}(t) - c^2 A \\bar{u}(t) \\right) $$\n",
    "$$ = 0 $$\n",
    "\n",
    "This shows that the rate of change of energy with respect to time is zero, indicating that the energy $E$ is constant for all times $t$."
   ]
  },
  {
   "cell_type": "markdown",
   "metadata": {},
   "source": [
    "#### Numerical:"
   ]
  },
  {
   "cell_type": "markdown",
   "metadata": {},
   "source": [
    "We want a numerical strategy to solve the system of differential equations that model wave propagation.\\\n",
    "Combination of **finite difference methods** for spatial discretization and **time-stepping schemes** for temporal evolution. Notably, the Crank-Nicolson method and the leapfrog method are considered for their balance between accuracy and computational efficiency.\n",
    "\n",
    "**Temporal Discretization:**\n",
    "\n",
    "To approximate solutions at discrete times, we introduce a time discretization with steps of length $\\Delta t$. \n",
    "\n",
    "$$\n",
    "\\frac{\\bar{u}(t + \\Delta t) - 2 \\bar{u}(t) + \\bar{u}(t - \\Delta t)}{\\Delta t^2} \\approx \\frac{\\partial^2 \\bar{u}(t)}{\\partial t^2}.\n",
    "$$\n",
    "\n",
    "**Finite Difference Implementation:**\n",
    "\n",
    "Utilizing the finite difference method, the approximation can be expanded to:\n",
    "$$\n",
    "\\frac{\\bar{u}(t + \\Delta t) - 2 \\bar{u}(t) + \\bar{u}(t - \\Delta t)}{\\Delta t^2} = c^2 A \\bar{u}(t),\n",
    "$$\n",
    "leading to the iterative update formula:\n",
    "$$\n",
    "\\bar{u}(t + \\Delta t) = (2I + \\Delta t^2 c^2 A) \\bar{u}(t) - \\bar{u}(t - \\Delta t),\n",
    "$$\n",
    "where $I$ denotes the identity matrix.\n",
    "\n",
    "**Explicit Numerical Method:**\n",
    "\n",
    "- **Explicit Numerical Method Framework:** This strategy employs values from the current and previous time steps ($\\bar{u}(t)$ and $\\bar{u}(t - \\Delta t)$) to calculate the next state, $\\bar{u}(t + \\Delta t)$.\n",
    "\n",
    "- **Initialization Requirements:** To begin the simulation, initial states $\\bar{u}(0)$ and $\\bar{u}(\\Delta t)$ must be known. These are derived from:\n",
    "  - The initial condition of the wave function, $u(x, 0) = u_0(x)$, which informs $\\bar{u}(0)$.\n",
    "  - The initial condition of the wave function's time derivative, $u_t(x, 0) = v_0(x)$, which is used to approximate $\\bar{u}(\\Delta t)$.\n",
    "\n",
    "- **Approximating Initial States:**\n",
    "  - For $\\bar{u}(0)$, each component $\\bar{u}_j(0)$ approximates $u_0(j/N)$, reflecting the wave function's spatial distribution at $t=0$.\n",
    "  - For $\\bar{u}(\\Delta t)$, we approximate the initial velocity distribution $(\\bar{v}_0)_j(0) \\simeq v_0(j/N)$.\n",
    "\n",
    "- **Initial Step Approximation:** With the above initial conditions, we compute the first forward step as:\n",
    "$$\n",
    "\\bar{u}(\\Delta t) = \\bar{u}(0) + \\Delta t \\bar{v}(0).\n",
    "$$\n",
    "\n",
    "This approach represents a first-order explicit method. \n",
    "\n",
    "For enhanced accuracy, one might consider a second-order forward difference approximation for the time derivative, thus modifying the initialization and update mechanism accordingly. However, this adjustment introduces an implicit method, necessitating the resolution of a linear system at each time step due to dependencies on unknown future values."
   ]
  },
  {
   "cell_type": "markdown",
   "metadata": {},
   "source": [
    "#### Wave equation is a Hamiltonian system"
   ]
  },
  {
   "cell_type": "markdown",
   "metadata": {},
   "source": [
    "- **Hamiltonian Definition:**\n",
    "$$\n",
    "H = \\frac{1}{2} \\left(\\frac{\\partial \\bar{u}}{\\partial t}\\right)^2 - \\frac{c^2}{2} \\bar{u} \\cdot A \\bar{u},\n",
    "$$\n",
    "captures both kinetic and potential energies with $\\bar{u}(t)$ and $\\frac{\\partial \\bar{u}}{\\partial t}$ as state variables and $A$ as a symmetric spatial matrix.\n",
    "\n",
    "- **Derivatives of Hamiltonian:**\n",
    "$$\n",
    "\\nabla_{\\frac{\\partial \\bar{u}}{\\partial t}} H = \\frac{\\partial \\bar{u}}{\\partial t}, \\quad -\\nabla_{\\bar{u}} H = c^2 A \\bar{u} = \\frac{\\partial^2 \\bar{u}}{\\partial t^2},\n",
    "$$\n",
    "highlighting the system's momentum and acceleration respectively.\n",
    "\n",
    "- **Conclusion:**\n",
    "The wave equation, represented by $\\frac{\\partial^2 \\bar{u}}{\\partial t^2} = c^2 A \\bar{u}$, operates within a Hamiltonian framework, ensuring energy conservation over time."
   ]
  },
  {
   "cell_type": "markdown",
   "metadata": {},
   "source": [
    "To demonstrate that the Hamiltonian $H$, defined for the wave equation, is conserved over time, we need to show that its time derivative is zero. The Hamiltonian $H$ is given by:\n",
    "$$\n",
    "H\\left(\\bar{u}(t), \\frac{d \\bar{u}(t)}{d t}\\right) = \\frac{1}{2} \\left(\\frac{d \\bar{u}(t)}{d t}\\right)^2 - \\frac{c^2}{2} \\bar{u}(t) \\cdot A \\bar{u}(t),\n",
    "$$\n",
    "where the first term represents kinetic energy and the second term potential energy.\n",
    "\n",
    "To show $\\frac{dH}{dt} = 0$, we use the chain rule:\n",
    "$$\n",
    "\\frac{dH}{dt} = \\frac{\\partial H}{\\partial \\bar{u}}\\frac{d\\bar{u}}{dt} + \\frac{\\partial H}{\\partial \\left(\\frac{d\\bar{u}}{dt}\\right)}\\frac{d}{dt}\\left(\\frac{d\\bar{u}}{dt}\\right).\n",
    "$$\n",
    "\n",
    "Given the definition of $H$, we can calculate the partial derivatives:\n",
    "$$\n",
    "\\frac{\\partial H}{\\partial \\bar{u}} = -c^2 A \\bar{u},\n",
    "$$\n",
    "$$\n",
    "\\frac{\\partial H}{\\partial \\left(\\frac{d\\bar{u}}{dt}\\right)} = \\frac{d \\bar{u}(t)}{d t}.\n",
    "$$\n",
    "\n",
    "Substituting these into the expression for $\\frac{dH}{dt}$, we get:\n",
    "$$\n",
    "\\frac{dH}{dt} = (-c^2 A \\bar{u}) \\cdot \\frac{d\\bar{u}}{dt} + \\left(\\frac{d \\bar{u}(t)}{d t}\\right) \\cdot \\frac{d^2\\bar{u}}{dt^2}.\n",
    "$$\n",
    "\n",
    "Given the wave equation $\\frac{d^2 \\bar{u}(t)}{d t^2} = c^2 A \\bar{u}(t)$, we can rewrite $\\frac{d^2\\bar{u}}{dt^2}$ in terms of $c^2 A \\bar{u}$:\n",
    "$$\n",
    "\\frac{dH}{dt} = (-c^2 A \\bar{u}) \\cdot \\frac{d\\bar{u}}{dt} + \\left(\\frac{d \\bar{u}(t)}{d t}\\right) \\cdot (c^2 A \\bar{u}).\n",
    "$$\n",
    "\n",
    "Noticing that the two terms on the right-hand side are equal and opposite, we can see they cancel each other out:\n",
    "$$\n",
    "\\frac{dH}{dt} = 0.\n",
    "$$\n",
    "\n",
    "This cancellation shows that the Hamiltonian $H$, which encapsulates both the kinetic and potential energies of the system described by the wave equation, is conserved over time. This demonstrates that the system is indeed Hamiltonian, adhering to the principle of energy conservation."
   ]
  },
  {
   "cell_type": "markdown",
   "metadata": {},
   "source": [
    "\n",
    "---\n",
    "\n",
    "## b) d'Alembert's solution formula\n",
    "\n"
   ]
  },
  {
   "cell_type": "markdown",
   "metadata": {},
   "source": [
    "### Question"
   ]
  },
  {
   "cell_type": "markdown",
   "metadata": {},
   "source": [
    "\n",
    "$$\n",
    "u(x, t)=\\frac{1}{2}(u(x+c t, 0)+u(x-c t, 0)),\n",
    "$$\n",
    "describes the solution to the wave equation in an infinite domain\n",
    "$$\n",
    "\\frac{\\partial^2 u}{\\partial t^2}(x, t)=c^2 \\frac{\\partial^2 u}{\\partial x^2}(x, t), \\quad t>0, x \\in \\mathbb{R}\n",
    "$$\n",
    "with data $\\left.\\frac{\\partial u(x, t)}{\\partial t}\\right|_{t=0}=0$; demonstrate this. Feel free to make movies that show the solution of:\n",
    "\n",
    "$$\n",
    "\\frac{\\mathrm{d}^2 \\bar{u}_j(t)}{\\mathrm{d} t^2}=c^2 N^2\\left(\\bar{u}_{j+1}(t)-2 \\bar{u}_j(t)+u_{j-1}(t)\\right), j=1, \\ldots, N-1\n",
    "$$\n",
    " \n",
    "and \n",
    "\n",
    "$$\n",
    "u(x, t)=\\frac{1}{2}(u(x+c t, 0)+u(x-c t, 0))\n",
    "$$\n",
    " \n",
    "What happens if the boundary conditions in \n",
    "\n",
    "$$\n",
    "\\frac{\\mathrm{d}^2 \\bar{u}_j(t)}{\\mathrm{d} t^2}=c^2 N^2\\left(\\bar{u}_{j+1}(t)-2 \\bar{u}_j(t)+u_{j-1}(t)\\right), j=1, \\ldots, N-1\n",
    "$$\n",
    "\n",
    "and \n",
    "\n",
    "$$\n",
    "\\begin{aligned}\n",
    "\\frac{\\partial^2 u}{\\partial t^2}(x, t) & =c^2 \\frac{\\partial^2 u}{\\partial x^2}(x, t), \\quad t>0, x \\in(0,1) \\\\\n",
    "u(0, t) & =u(1, t)=0,\n",
    "\\end{aligned}\n",
    "$$\n",
    "\n",
    "are replaced with\n",
    "\n",
    "$$\n",
    "\\frac{\\partial u(0, t)}{\\partial x}=\\frac{\\partial u(1, t)}{\\partial x}=0\n",
    "$$\n",
    "\n",
    "---"
   ]
  },
  {
   "cell_type": "markdown",
   "metadata": {},
   "source": [
    "### Solution"
   ]
  },
  {
   "cell_type": "markdown",
   "metadata": {},
   "source": [
    "The second spatial derivative of $u$, denoted by $\\frac{\\partial^2 u}{\\partial x^2}(x, t)$, can be rewritten as:\n",
    "$$\n",
    "\\frac{\\partial^2 u}{\\partial x^2}(x, t) = \\frac{1}{2}\\left(\\frac{\\partial^2 u}{\\partial x^2}(x+ct, 0) + \\frac{\\partial^2 u}{\\partial x^2}(x-ct, 0)\\right).\n",
    "$$\n",
    "\n",
    "For the temporal derivative of $u$, indicated as $\\frac{\\partial u}{\\partial t}(x, t)$, we find:\n",
    "$$\n",
    "\\frac{\\partial u}{\\partial t}(x, t) = \\frac{1}{2}\\left(c \\frac{\\partial u}{\\partial x}(x+ct, 0) - c \\frac{\\partial u}{\\partial x}(x-ct, 0)\\right),\n",
    "$$\n",
    "which simplifies to $\\frac{\\partial u}{\\partial t}(x, 0) = 0$ given the equation:\n",
    "$$\n",
    "\\frac{\\partial u}{\\partial t}(x, 0) = \\frac{1}{2}(c \\frac{\\partial u}{\\partial x}(x, 0) - c \\frac{\\partial u}{\\partial x}(x, 0)) = 0.\n",
    "$$\n",
    "\n",
    "Evaluating the second time derivative of $u$, $\\frac{\\partial^2 u}{\\partial t^2}(x, t)$, yields:\n",
    "$$\n",
    "\\begin{aligned}\n",
    "\\frac{\\partial^2 u}{\\partial t^2}(x, t) & = \\frac{1}{2}\\left(c^2 \\frac{\\partial^2 u}{\\partial x^2}(x+ct, 0) + c^2 \\frac{\\partial^2 u}{\\partial x^2}(x-ct, 0)\\right) \\\\\n",
    "& = c^2 \\frac{1}{2}\\left(\\frac{\\partial^2 u}{\\partial x^2}(x+ct, 0) + \\frac{\\partial^2 u}{\\partial x^2}(x-ct, 0)\\right) \\\\\n",
    "& = c^2 \\frac{\\partial^2 u}{\\partial x^2}(x, t),\n",
    "\\end{aligned}\n",
    "$$\n",
    "corresponding to the prior equation. \n",
    "\n",
    "When transitioning to Neumann boundary conditions:\n",
    "$$\n",
    "\\frac{\\partial u(0, t)}{\\partial x} = \\frac{\\partial u(1, t)}{\\partial x} = 0,\n",
    "$$\n",
    "\n",
    "it essentially reflects the wave at the boundaries $x=0$ and $x=1$, simulating a scenario where the wave encounters an impenetrable barrier at these points."
   ]
  }
 ],
 "metadata": {
  "language_info": {
   "name": "python"
  }
 },
 "nbformat": 4,
 "nbformat_minor": 2
}
