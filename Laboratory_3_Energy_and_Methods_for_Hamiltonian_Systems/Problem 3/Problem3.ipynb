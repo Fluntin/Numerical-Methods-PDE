{
 "cells": [
  {
   "cell_type": "markdown",
   "metadata": {},
   "source": [
    "## a) The wave equation"
   ]
  },
  {
   "cell_type": "markdown",
   "metadata": {},
   "source": [
    "### Question"
   ]
  },
  {
   "cell_type": "markdown",
   "metadata": {},
   "source": [
    "\n",
    "\n",
    "$$\n",
    "\\begin{aligned}\n",
    "\\frac{\\partial^2 u}{\\partial t^2}(x, t) & =c^2 \\frac{\\partial^2 u}{\\partial x^2}(x, t), \\quad t>0, x \\in(0,1) \\\\\n",
    "u(0, t) & =u(1, t)=0,\n",
    "\\end{aligned}\n",
    "$$\n",
    "where $c$ is a constant (speed of sound/light), can be approximated in two steps: define the vector $\\bar{u}(t) \\in \\mathbb{R}^{N+1}$, where $\\bar{u}_j(t) \\simeq u(j / N, t)$ for $j=0,1,2, \\ldots, N$ and let $N^2\\left(\\bar{u}_{j+1}(t)-2 \\bar{u}_j(t)+\\bar{u}_{j-1}(t)\\right) \\simeq \\frac{\\partial^2 u}{\\partial x^2}(j / N, t)$ be the usual approximation of the second derivative, then we obtain the following system of differential equations\n",
    "$$\n",
    "\\frac{\\mathrm{d}^2 \\bar{u}_j(t)}{\\mathrm{d} t^2}=c^2 N^2\\left(\\bar{u}_{j+1}(t)-2 \\bar{u}_j(t)+u_{j-1}(t)\\right), j=1, \\ldots, N-1,\n",
    "$$\n",
    "so that $\\mathrm{d}^2 \\hat{u}(t) / \\mathrm{d} t^2=c^2 A \\hat{u}(t)$ where $\\hat{u}(t) \\in \\mathbb{R}^{N-1}$ is the vector with components $\\hat{u}_j(t)=\\bar{u}_j(t), j=1, \\ldots, N-1$ and $A$ is the $(N-1) \\times(N-1)$ matrix with $-2 N^2$ on the diagonal and $N^2$ on the upper and lower diagonals. Show that the energy $|\\mathrm{d} \\hat{u}(t) / \\mathrm{d} t|^2 / 2-c^2 \\hat{u}(t) \\cdot A \\hat{u}(t) / 2$ is constant for all times, where $\\cdot$ denotes the scalar product in $\\mathbb{R}^{N-1}$. Suggest an appropriate numerical method. Also show that the wave equation:\n",
    "$$\n",
    "\\frac{\\mathrm{d}^2 \\bar{u}_j(t)}{\\mathrm{d} t^2}=c^2 N^2\\left(\\bar{u}_{j+1}(t)-2 \\bar{u}_j(t)+u_{j-1}(t)\\right), j=1, \\ldots, N-1\n",
    "$$\n",
    "is a Hamiltonian system.\n",
    "\n",
    "---"
   ]
  },
  {
   "cell_type": "markdown",
   "metadata": {},
   "source": [
    "### Solution"
   ]
  },
  {
   "cell_type": "markdown",
   "metadata": {},
   "source": [
    "We'll demonstrate that the energy is constant for all times $t$. Let the energy be denoted by\n",
    "$$ E = \\frac{1}{2}\\left( \\left|\\frac{d \\hat{u}(t)}{dt}\\right|^2 - c^2 \\hat{u}(t) \\cdot A \\hat{u}(t) \\right) = \\frac{1}{2}\\left( \\frac{d \\hat{u}(t)}{dt} \\cdot \\frac{d \\hat{u}(t)}{dt} - c^2 \\hat{u}(t) \\cdot A \\hat{u}(t) \\right) $$\n",
    "\n",
    "- **Definition of Energy:**  The energy $E$ is defined in terms of the square of the velocity (first derivative of $\\hat{u}(t)$ with respect to time) and the potential energy (in terms of matrix $A$ and $\\hat{u}(t)$). This definition encapsulates the kinetic and potential energies of the system.\n",
    "\n",
    "Given that the matrix $A$ is symmetric and that $ \\frac{d^2 \\hat{u}(t)}{dt^2} - c^2 A \\hat{u}(t) = \\vec{0} $ according to the problem statement, we can use vector algebra to see that\n",
    "$$ \\frac{dE}{dt} = \\frac{1}{2}\\left( \\frac{d^2 \\hat{u}(t)}{dt^2} \\cdot \\frac{d \\hat{u}(t)}{dt} + \\frac{d \\hat{u}(t)}{dt} \\cdot \\frac{d^2 \\hat{u}(t)}{dt^2} - c^2 \\left( \\hat{u}(t) \\cdot A \\frac{d \\hat{u}(t)}{dt} + \\frac{d \\hat{u}(t)}{dt} \\cdot A \\hat{u}(t) \\right) \\right) $$\n",
    "\n",
    "- **Use of Symmetry and Differential Equation:** It's noted that matrix $A$ is symmetric, and the differential equation provided by the problem statement implies a certain relationship between the acceleration (second derivative of $\\hat{u}(t)$) and the spatial configuration ($\\hat{u}(t)$) of the system.\n",
    "\n",
    "- **Calculation of $dE/dt$:** The derivative of energy with respect to time is expanded using the product rule and the properties of scalar products. This step involves simplifying expressions to show how the change in energy over time is related to the system's dynamics.\n",
    "\n",
    "Simplifying this using the properties of scalar products and the distributive property,\n",
    "$$ = \\frac{1}{2}\\left( 2 \\frac{d \\hat{u}(t)}{dt} \\cdot \\frac{d^2 \\hat{u}(t)}{dt^2} - c^2 \\left( 2 \\frac{d \\hat{u}(t)}{dt} \\cdot A \\hat{u}(t) \\right) \\right) $$\n",
    "$$ = \\frac{d \\hat{u}(t)}{dt} \\cdot \\frac{d^2 \\hat{u}(t)}{dt^2} - c^2 \\frac{d \\hat{u}(t)}{dt} \\cdot A \\hat{u}(t) $$\n",
    "\n",
    "\n",
    "\n",
    "Given the differential equation $ \\frac{d^2 \\hat{u}(t)}{dt^2} = c^2 A \\hat{u}(t) $, we can substitute this into the equation,\n",
    "$$ = \\frac{d \\hat{u}(t)}{dt} \\cdot \\left( \\frac{d^2 \\hat{u}(t)}{dt^2} - c^2 A \\hat{u}(t) \\right) $$\n",
    "$$ = \\frac{d \\hat{u}(t)}{dt} \\cdot \\vec{0} $$\n",
    "$$ = 0 $$\n",
    "\n",
    "- **Simplification** After simplifying, we see that the time derivative of energy equals zero, meaning that the energy $E$ does not change over time; it is conserved.\n",
    "\n",
    "\n",
    "\n",
    "Numerically solving this system of differential equations, a suitable method would be the:\n",
    "- **finite difference method** for spatial discretization combined with a **time-stepping scheme** such as the **Crank-Nicolson** method or the **leapfrog method**. "
   ]
  },
  {
   "cell_type": "markdown",
   "metadata": {},
   "source": [
    "\n",
    "---\n",
    "\n",
    "## b) d'Alembert's solution formula\n",
    "\n"
   ]
  },
  {
   "cell_type": "markdown",
   "metadata": {},
   "source": [
    "### Question"
   ]
  },
  {
   "cell_type": "markdown",
   "metadata": {},
   "source": [
    "\n",
    "$$\n",
    "u(x, t)=\\frac{1}{2}(u(x+c t, 0)+u(x-c t, 0)),\n",
    "$$\n",
    "describes the solution to the wave equation in an infinite domain\n",
    "$$\n",
    "\\frac{\\partial^2 u}{\\partial t^2}(x, t)=c^2 \\frac{\\partial^2 u}{\\partial x^2}(x, t), \\quad t>0, x \\in \\mathbb{R}\n",
    "$$\n",
    "with data $\\left.\\frac{\\partial u(x, t)}{\\partial t}\\right|_{t=0}=0$; demonstrate this. Feel free to make movies that show the solution of:\n",
    "\n",
    "$$\n",
    "\\frac{\\mathrm{d}^2 \\bar{u}_j(t)}{\\mathrm{d} t^2}=c^2 N^2\\left(\\bar{u}_{j+1}(t)-2 \\bar{u}_j(t)+u_{j-1}(t)\\right), j=1, \\ldots, N-1\n",
    "$$\n",
    " \n",
    "and \n",
    "\n",
    "$$\n",
    "u(x, t)=\\frac{1}{2}(u(x+c t, 0)+u(x-c t, 0))\n",
    "$$\n",
    " \n",
    "What happens if the boundary conditions in \n",
    "\n",
    "$$\n",
    "\\frac{\\mathrm{d}^2 \\bar{u}_j(t)}{\\mathrm{d} t^2}=c^2 N^2\\left(\\bar{u}_{j+1}(t)-2 \\bar{u}_j(t)+u_{j-1}(t)\\right), j=1, \\ldots, N-1\n",
    "$$\n",
    "\n",
    "and \n",
    "\n",
    "$$\n",
    "\\begin{aligned}\n",
    "\\frac{\\partial^2 u}{\\partial t^2}(x, t) & =c^2 \\frac{\\partial^2 u}{\\partial x^2}(x, t), \\quad t>0, x \\in(0,1) \\\\\n",
    "u(0, t) & =u(1, t)=0,\n",
    "\\end{aligned}\n",
    "$$\n",
    "\n",
    "are replaced with\n",
    "\n",
    "$$\n",
    "\\frac{\\partial u(0, t)}{\\partial x}=\\frac{\\partial u(1, t)}{\\partial x}=0\n",
    "$$\n",
    "\n",
    "---"
   ]
  },
  {
   "cell_type": "markdown",
   "metadata": {},
   "source": [
    "### Solution"
   ]
  },
  {
   "cell_type": "markdown",
   "metadata": {},
   "source": []
  }
 ],
 "metadata": {
  "language_info": {
   "name": "python"
  }
 },
 "nbformat": 4,
 "nbformat_minor": 2
}
