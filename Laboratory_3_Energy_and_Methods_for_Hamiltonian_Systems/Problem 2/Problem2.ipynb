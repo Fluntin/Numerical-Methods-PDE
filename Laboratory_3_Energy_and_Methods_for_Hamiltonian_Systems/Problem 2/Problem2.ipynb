{
 "cells": [
  {
   "cell_type": "markdown",
   "metadata": {},
   "source": [
    "# Hamiltonian system"
   ]
  },
  {
   "cell_type": "markdown",
   "metadata": {},
   "source": [
    "### Question"
   ]
  },
  {
   "cell_type": "markdown",
   "metadata": {},
   "source": [
    "The simplest Hamiltonian system is\n",
    "$$\n",
    "y^{\\prime}=\\mathrm{i} y\n",
    "$$\n",
    "where i is the imaginary unit and $y(t) \\in \\mathbb{C}$. We see that the Hamiltonian is $|y|^2 / 2$ and that the real part and imaginary part of $y$ solve the harmonic oscillator equation $\\ddot{x}=-x$. Equation (3) is suitable for comparing numerical methods analytically with explicit calculations. Prove that the energy, i.e., $H$ as a function of $t$, is\n",
    "increasing for the forward Euler method,\n",
    "decreasing for the backward Euler method,\n",
    "constant for the midpoint method and the exact solution.\n",
    "\n",
    "---\n"
   ]
  },
  {
   "cell_type": "markdown",
   "metadata": {},
   "source": [
    "### Solution"
   ]
  },
  {
   "cell_type": "markdown",
   "metadata": {},
   "source": [
    "Given the equation\n",
    "$$\n",
    "\\dot{y} = i y,\n",
    "$$\n",
    "where $y: \\mathbb{R}^{+} \\to \\mathbb{C}$, we define the Hamiltonian as $H(y) = \\frac{1}{2} |y|^2$, with $y(t) = q(t) + i p(t)$ for real-valued $q(t), p(t)$. Using the forward Euler method, $y_{n+1} = y_n + i h y_n = y_n(1 + i h)$, thus\n",
    "$$\n",
    "H(y_{n+1}) = \\frac{1}{2} |y_n(1 + i h)|^2 = (1 + h^2) \\frac{1}{2} |y_n|^2 = (1 + h^2) H(y_n) > H(y_n),\n",
    "$$\n",
    "indicating $H$ is increasing, as $|1 + i h| > 1$.\n",
    "\n",
    "---\n",
    "\n",
    "For the backward Euler method, where $y_{n+1} = y_n + i h y_{n+1} \\Longrightarrow y_{n+1}(1 - i h) = y_n$, it follows that\n",
    "$$\n",
    "H(y_{n+1}) = \\frac{1}{2} |y_n|^2 = \\frac{1}{2} |y_{n+1}(1 - i h)|^2 = (1 + h^2) \\frac{1}{2} |y_{n+1}|^2 = (1 + h^2) H(y_{n+1}),\n",
    "$$\n",
    "indicating $H$ is decreasing, contrary to the initial setup. To correct and align with the original statement:\n",
    "$$\n",
    "H(y_n) = \\frac{1}{(1 + h^2)} H(y_{n+1}) < H(y_{n+1}),\n",
    "$$\n",
    "since $|1 - i h|^2 = 1 + h^2 > 1$. This signifies $H$ is indeed decreasing as per the backward Euler method.\n",
    "\n",
    "---\n",
    "\n",
    "For the midpoint method, the relationship $y_{n+1} = y_n + i h \\left(\\frac{y_n + y_{n+1}}{2}\\right) \\Longrightarrow y_{n+1} \\left(1 - \\frac{i h}{2}\\right) = y_n \\left(1 + \\frac{i h}{2}\\right)$ is given. Thus,\n",
    "$$\n",
    "H(y_{n+1}) = \\frac{1}{2} \\left|y_n\\right|^2 \\left|\\frac{1 + \\frac{i h}{2}}{1 - \\frac{i h}{2}}\\right|^2 = H(y_n),\n",
    "$$\n",
    "demonstrates that $H$ remains constant. This is because the magnitude $ \\left|\\frac{1 + \\frac{i h}{2}}{1 - \\frac{i h}{2}}\\right|^2 $ evaluates to $1$, maintaining the Hamiltonian $H$ unchanged from $y_n$ to $y_{n+1}$.\n",
    "\n",
    "--\n",
    "\n",
    "For the exact solution, considering $y(t) = q(t) + i p(t)$ where $q(t)$ and $p(t)$ represent the real and imaginary parts of $y(t)$ respectively, and given $\\dot{y} = i y$ leads to $\\dot{q}(t) + i \\dot{p}(t) = i(q(t) + i p(t)) = -p(t) + i q(t)$, implying $\\dot{q} = -p$ and $\\dot{p} = q$ for all $t$. Therefore,\n",
    "$$\n",
    "\\begin{aligned}\n",
    "\\frac{d}{dt}\\left(\\frac{1}{2}|y|^2\\right) &= \\frac{d}{dt}\\left(\\frac{1}{2}|q + i p|^2\\right) \\\\\n",
    "&= \\frac{d}{dt}\\left(\\frac{1}{2}(q^2 + p^2)\\right) \\\\\n",
    "&= q\\dot{q} + p\\dot{p} \\\\\n",
    "&= q(-p) + p(q) \\\\\n",
    "&= 0,\n",
    "\\end{aligned}\n",
    "$$\n",
    "indicating that the exact solution conserves energy.\n",
    "\n"
   ]
  }
 ],
 "metadata": {
  "language_info": {
   "name": "python"
  }
 },
 "nbformat": 4,
 "nbformat_minor": 2
}
