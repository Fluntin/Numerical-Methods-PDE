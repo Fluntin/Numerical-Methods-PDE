{
 "cells": [
  {
   "cell_type": "markdown",
   "metadata": {},
   "source": [
    "# Setup"
   ]
  },
  {
   "cell_type": "markdown",
   "metadata": {},
   "source": [
    "Compare the four methods forward Euler (explicit Euler), backward Euler (implicit Euler), midpoint method, and symplectic Euler, which take the following form for $y^{\\prime}=f(y), \\Delta t=h, y^n \\approx y(n h)$\n",
    "$$\n",
    "\\begin{aligned}\n",
    "& y^{n+1}=y^n+h f\\left(y^n\\right) \\quad \\text{forward Euler} \\\\\n",
    "& y^{n+1}=y^n+h f\\left(y^{n+1}\\right) \\quad \\text{backward Euler} \\\\\n",
    "& y^{n+1}=y^n+h f\\left(\\frac{1}{2}\\left(y^n+y^{n+1}\\right)\\right) \\quad \\text{(implicit) midpoint method.}\n",
    "\\end{aligned}\n",
    "$$\n",
    "A Hamiltonian system is a dynamical system that can be written in the form\n",
    "$$\n",
    "\\begin{aligned}\n",
    "& \\dot{q}(t)=\\nabla_p H(p(t), q(t)), \\\\\n",
    "& \\dot{p}(t)=-\\nabla_q H(p(t), q(t)),\n",
    "\\end{aligned}\n",
    "$$\n",
    "where $\\nabla_p$ is the gradient with respect to $p$ (here $p=\\left(p_1, p_2\\right)$. For Hamiltonian systems, the symplectic Euler method can be written as\n",
    "$$\n",
    "\\begin{aligned}\n",
    "& q^{n+1}=q^n+h \\nabla_p H\\left(p^{n+1}, q^n\\right), \\\\\n",
    "& p^{n+1}=p^n-h \\nabla_q H\\left(p^{n+1}, q^n\\right).\n",
    "\\end{aligned}\n",
    "$$"
   ]
  },
  {
   "cell_type": "markdown",
   "metadata": {},
   "source": [
    "\n",
    "---\n",
    "\n",
    "## a)\n",
    "\n",
    "First, show that (1) is a Hamiltonian system with the Hamiltonian\n",
    "$$\n",
    "H(p, q) = \\frac{1}{2}|p|^2 - \\frac{1}{|q|},\n",
    "$$\n",
    "where $|q| = \\sqrt{q_1^2 + q_2^2}$; that is, show that:\n",
    "$$\n",
    "\\begin{aligned}\n",
    "& \\ddot{q}_1(t)=-\\frac{q_1(t)}{\\left(q_1^2(t)+q_2^2(t)\\right)^{3 / 2}}, \\\\\n",
    "& \\ddot{q}_2(t)=-\\frac{q_2(t)}{\\left(q_1^2(t)+q_2^2(t)\\right)^{3 / 2}},\n",
    "\\end{aligned}\n",
    "$$\n",
    "\n",
    "can be written in the form of:\n",
    "\n",
    "$$\n",
    "\\begin{aligned}\n",
    "& \\dot{q}(t)=\\nabla_p H(p(t), q(t)) \\\\\n",
    "& \\dot{p}(t)=-\\nabla_q H(p(t), q(t))\n",
    "\\end{aligned}\n",
    "$$"
   ]
  },
  {
   "cell_type": "markdown",
   "metadata": {},
   "source": [
    "Solution:\n",
    "\n"
   ]
  },
  {
   "cell_type": "markdown",
   "metadata": {},
   "source": [
    "\n",
    "---\n",
    "\n",
    "## b)\n",
    "\n",
    "Show that the energy $H(p(t), q(t))$ is constant for the exact solution:\n",
    "\n",
    "$$\n",
    "\\begin{aligned}\n",
    "& \\ddot{q}_1(t)=-\\frac{q_1(t)}{\\left(q_1^2(t)+q_2^2(t)\\right)^{3 / 2}}, \\\\\n",
    "& \\ddot{q}_2(t)=-\\frac{q_2(t)}{\\left(q_1^2(t)+q_2^2(t)\\right)^{3 / 2}},\n",
    "\\end{aligned}\n",
    "$$"
   ]
  },
  {
   "cell_type": "markdown",
   "metadata": {},
   "source": [
    "Solution:"
   ]
  },
  {
   "cell_type": "markdown",
   "metadata": {},
   "source": [
    "\n",
    "---\n",
    "\n",
    "## c)\n",
    "\n",
    "Plot the trajectories $(q_1(t), q_2(t))$ in a coordinate system in the plane, for the different methods with initial data\n",
    "$$\n",
    "q_1(0)=1-a, \\quad q_2(0)=0, \\quad p_1(0)=0, \\quad p_2(0)=\\sqrt{\\frac{1+a}{1-a}}\n",
    "$$\n",
    "where $0 \\leq a < 1$ is called the eccentricity. Equation (1) represents the so-called two-body problem, where two bodies attract each other with Newton's force, and the coordinates are chosen so that one body is at the origin. Newton mathematically showed that the path becomes an ellipse with eccentricity $a$. Kepler observed such planetary orbits earlier. Choose, for example, $a=0.5$."
   ]
  },
  {
   "cell_type": "markdown",
   "metadata": {},
   "source": [
    "Solution:"
   ]
  },
  {
   "cell_type": "markdown",
   "metadata": {},
   "source": [
    "\n",
    "---\n",
    "\n",
    "## d)\n",
    "\n",
    "What happens to the energy $H(p(t), q(t))$ as a function of $t$ for the methods?"
   ]
  },
  {
   "cell_type": "markdown",
   "metadata": {},
   "source": [
    "Solution:"
   ]
  }
 ],
 "metadata": {
  "language_info": {
   "name": "python"
  }
 },
 "nbformat": 4,
 "nbformat_minor": 2
}
