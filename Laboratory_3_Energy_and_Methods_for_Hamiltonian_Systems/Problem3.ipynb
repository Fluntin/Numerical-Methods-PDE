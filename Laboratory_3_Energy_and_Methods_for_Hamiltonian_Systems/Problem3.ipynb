{
 "cells": [
  {
   "cell_type": "markdown",
   "metadata": {},
   "source": [
    "## a) The wave equation"
   ]
  },
  {
   "cell_type": "markdown",
   "metadata": {},
   "source": [
    "### Question"
   ]
  },
  {
   "cell_type": "markdown",
   "metadata": {},
   "source": [
    "\n",
    "\n",
    "$$\n",
    "\\begin{aligned}\n",
    "\\frac{\\partial^2 u}{\\partial t^2}(x, t) & =c^2 \\frac{\\partial^2 u}{\\partial x^2}(x, t), \\quad t>0, x \\in(0,1) \\\\\n",
    "u(0, t) & =u(1, t)=0,\n",
    "\\end{aligned}\n",
    "$$\n",
    "where $c$ is a constant (speed of sound/light), can be approximated in two steps: define the vector $\\bar{u}(t) \\in \\mathbb{R}^{N+1}$, where $\\bar{u}_j(t) \\simeq u(j / N, t)$ for $j=0,1,2, \\ldots, N$ and let $N^2\\left(\\bar{u}_{j+1}(t)-2 \\bar{u}_j(t)+\\bar{u}_{j-1}(t)\\right) \\simeq \\frac{\\partial^2 u}{\\partial x^2}(j / N, t)$ be the usual approximation of the second derivative, then we obtain the following system of differential equations\n",
    "$$\n",
    "\\frac{\\mathrm{d}^2 \\bar{u}_j(t)}{\\mathrm{d} t^2}=c^2 N^2\\left(\\bar{u}_{j+1}(t)-2 \\bar{u}_j(t)+u_{j-1}(t)\\right), j=1, \\ldots, N-1,\n",
    "$$\n",
    "so that $\\mathrm{d}^2 \\hat{u}(t) / \\mathrm{d} t^2=c^2 A \\hat{u}(t)$ where $\\hat{u}(t) \\in \\mathbb{R}^{N-1}$ is the vector with components $\\hat{u}_j(t)=\\bar{u}_j(t), j=1, \\ldots, N-1$ and $A$ is the $(N-1) \\times(N-1)$ matrix with $-2 N^2$ on the diagonal and $N^2$ on the upper and lower diagonals. Show that the energy $|\\mathrm{d} \\hat{u}(t) / \\mathrm{d} t|^2 / 2-c^2 \\hat{u}(t) \\cdot A \\hat{u}(t) / 2$ is constant for all times, where $\\cdot$ denotes the scalar product in $\\mathbb{R}^{N-1}$. Suggest an appropriate numerical method. Also show that the wave equation:\n",
    "$$\n",
    "\\frac{\\mathrm{d}^2 \\bar{u}_j(t)}{\\mathrm{d} t^2}=c^2 N^2\\left(\\bar{u}_{j+1}(t)-2 \\bar{u}_j(t)+u_{j-1}(t)\\right), j=1, \\ldots, N-1\n",
    "$$\n",
    "is a Hamiltonian system.\n",
    "\n",
    "---"
   ]
  },
  {
   "cell_type": "markdown",
   "metadata": {},
   "source": [
    "### Solution"
   ]
  },
  {
   "cell_type": "markdown",
   "metadata": {},
   "source": []
  },
  {
   "cell_type": "markdown",
   "metadata": {},
   "source": [
    "\n",
    "---\n",
    "\n",
    "## b) d'Alembert's solution formula\n",
    "\n"
   ]
  },
  {
   "cell_type": "markdown",
   "metadata": {},
   "source": [
    "### Question"
   ]
  },
  {
   "cell_type": "markdown",
   "metadata": {},
   "source": [
    "\n",
    "$$\n",
    "u(x, t)=\\frac{1}{2}(u(x+c t, 0)+u(x-c t, 0)),\n",
    "$$\n",
    "describes the solution to the wave equation in an infinite domain\n",
    "$$\n",
    "\\frac{\\partial^2 u}{\\partial t^2}(x, t)=c^2 \\frac{\\partial^2 u}{\\partial x^2}(x, t), \\quad t>0, x \\in \\mathbb{R}\n",
    "$$\n",
    "with data $\\left.\\frac{\\partial u(x, t)}{\\partial t}\\right|_{t=0}=0$; demonstrate this. Feel free to make movies that show the solution of:\n",
    "\n",
    "$$\n",
    "\\frac{\\mathrm{d}^2 \\bar{u}_j(t)}{\\mathrm{d} t^2}=c^2 N^2\\left(\\bar{u}_{j+1}(t)-2 \\bar{u}_j(t)+u_{j-1}(t)\\right), j=1, \\ldots, N-1\n",
    "$$\n",
    " \n",
    "and \n",
    "\n",
    "$$\n",
    "u(x, t)=\\frac{1}{2}(u(x+c t, 0)+u(x-c t, 0))\n",
    "$$\n",
    " \n",
    "What happens if the boundary conditions in \n",
    "\n",
    "$$\n",
    "\\frac{\\mathrm{d}^2 \\bar{u}_j(t)}{\\mathrm{d} t^2}=c^2 N^2\\left(\\bar{u}_{j+1}(t)-2 \\bar{u}_j(t)+u_{j-1}(t)\\right), j=1, \\ldots, N-1\n",
    "$$\n",
    "\n",
    "and \n",
    "\n",
    "$$\n",
    "\\begin{aligned}\n",
    "\\frac{\\partial^2 u}{\\partial t^2}(x, t) & =c^2 \\frac{\\partial^2 u}{\\partial x^2}(x, t), \\quad t>0, x \\in(0,1) \\\\\n",
    "u(0, t) & =u(1, t)=0,\n",
    "\\end{aligned}\n",
    "$$\n",
    "\n",
    "are replaced with\n",
    "\n",
    "$$\n",
    "\\frac{\\partial u(0, t)}{\\partial x}=\\frac{\\partial u(1, t)}{\\partial x}=0\n",
    "$$\n",
    "\n",
    "---"
   ]
  },
  {
   "cell_type": "markdown",
   "metadata": {},
   "source": [
    "### Solution"
   ]
  },
  {
   "cell_type": "markdown",
   "metadata": {},
   "source": [
    "123"
   ]
  }
 ],
 "metadata": {
  "language_info": {
   "name": "python"
  }
 },
 "nbformat": 4,
 "nbformat_minor": 2
}
