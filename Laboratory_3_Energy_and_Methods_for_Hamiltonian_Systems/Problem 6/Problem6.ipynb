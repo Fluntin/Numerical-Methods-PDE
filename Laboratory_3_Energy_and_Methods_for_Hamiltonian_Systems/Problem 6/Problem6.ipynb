{
 "cells": [
  {
   "cell_type": "markdown",
   "metadata": {},
   "source": [
    "## Symplectic Euler method"
   ]
  },
  {
   "cell_type": "markdown",
   "metadata": {},
   "source": [
    "### Question:"
   ]
  },
  {
   "cell_type": "markdown",
   "metadata": {},
   "source": [
    "The dominant method for standard molecular dynamics, $\\ddot{q}=-f(q)$, with a constant number of particles, volume, and energy, is Verlet's method (called Störmer's method in astronomy) which leads to\n",
    "$$\n",
    "\\frac{q^{n+1}-2 q^n+q^{n-1}}{h^2}=-f\\left(q^n\\right) .\n",
    "$$\n",
    "\n",
    "Show that this also applies to the symplectic Euler method. Molecular dynamics is used, for example, in materials science to determine material properties such as diffusion constant, conductivity, and viscosity from fundamental principles and in biochemistry to study the movement of proteins. Here, $q$ is a vector in $\\mathbb{R}^{3 N}$ that indicates the positions of $N$ atoms, and $f$ are the forces acting on the atoms. In molecular dynamics, one is interested in approximating so-called observables $\\lim _{T \\rightarrow \\infty} \\int_0^T g(q(t)) d t / T$ for given functions $g$, for example, the potential energy $g(q)=V(q)$, where $V^{\\prime}(q)=f(q)$.\n",
    "\n",
    "---\n"
   ]
  },
  {
   "cell_type": "markdown",
   "metadata": {},
   "source": [
    "### Solution:"
   ]
  },
  {
   "cell_type": "markdown",
   "metadata": {},
   "source": []
  }
 ],
 "metadata": {
  "language_info": {
   "name": "python"
  }
 },
 "nbformat": 4,
 "nbformat_minor": 2
}
