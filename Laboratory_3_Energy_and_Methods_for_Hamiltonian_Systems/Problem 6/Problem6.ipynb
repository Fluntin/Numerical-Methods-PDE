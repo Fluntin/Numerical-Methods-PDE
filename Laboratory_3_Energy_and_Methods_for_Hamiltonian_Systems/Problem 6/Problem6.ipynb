{
 "cells": [
  {
   "cell_type": "markdown",
   "metadata": {},
   "source": [
    "## Symplectic Euler method"
   ]
  },
  {
   "cell_type": "markdown",
   "metadata": {},
   "source": [
    "### Question:"
   ]
  },
  {
   "cell_type": "markdown",
   "metadata": {},
   "source": [
    "The dominant method for standard molecular dynamics, $\\ddot{q}=-f(q)$, with a constant number of particles, volume, and energy, is Verlet's method (called Störmer's method in astronomy) which leads to\n",
    "$$\n",
    "\\frac{q^{n+1}-2 q^n+q^{n-1}}{h^2}=-f\\left(q^n\\right) .\n",
    "$$\n",
    "\n",
    "Show that this also applies to the symplectic Euler method. Molecular dynamics is used, for example, in materials science to determine material properties such as diffusion constant, conductivity, and viscosity from fundamental principles and in biochemistry to study the movement of proteins. Here, $q$ is a vector in $\\mathbb{R}^{3 N}$ that indicates the positions of $N$ atoms, and $f$ are the forces acting on the atoms. In molecular dynamics, one is interested in approximating so-called observables $\\lim _{T \\rightarrow \\infty} \\int_0^T g(q(t)) d t / T$ for given functions $g$, for example, the potential energy $g(q)=V(q)$, where $V^{\\prime}(q)=f(q)$.\n",
    "\n",
    "---\n"
   ]
  },
  {
   "cell_type": "markdown",
   "metadata": {},
   "source": [
    "### Solution:"
   ]
  },
  {
   "cell_type": "markdown",
   "metadata": {},
   "source": [
    "### Symplectic Euler Method\n",
    "\n",
    "The symplectic Euler method is outlined by two equations for updating position and momentum, respectively:\n",
    "\n",
    "1. Position update:\n",
    "$$\n",
    "q_{n+1}=q_n+h \\nabla_p H(q_n, p_n)\n",
    "$$\n",
    "\n",
    "2. Momentum update:\n",
    "$$\n",
    "p_{n+1}=p_n-h \\nabla_q H(q_{n+1}, p_n)\n",
    "$$\n",
    "\n",
    "These equations calculate the new position ($q_{n+1}$) and momentum ($p_{n+1}$) using the gradients of the Hamiltonian function $H(q, p)$, which represents the system's total energy (kinetic plus potential energy).\n",
    "\n",
    "### Relating Momentum to Velocity and the Hamiltonian Function\n",
    "\n",
    "By setting $p=\\dot{q}$ (momentum equals the derivative of position with respect to time) and defining the Hamiltonian as $H(q, p)=\\frac{|p|^2}{2}-V(q)$ (where $V(q)$ is the potential energy), we simplify the symplectic Euler updates to:\n",
    "\n",
    "For position:\n",
    "$$\n",
    "q_{n+1} = q_n + h p_n\n",
    "$$\n",
    "From which we infer the momentum as:\n",
    "$$\n",
    "p_n = \\frac{q_{n+1}-q_n}{h}\n",
    "$$\n",
    "\n",
    "For momentum:\n",
    "$$\n",
    "p_{n+1} = p_n + h V'(q_{n+1})\n",
    "$$\n",
    "\n",
    "### Deriving a Connection to the Verlet Method\n",
    "\n",
    "Inserting the expressions derived above and manipulating them leads to:\n",
    "\n",
    "$$\n",
    "\\frac{q_{n+2}-q_{n+1}}{h} = \\frac{q_{n+1}-q_n}{h} + h V'(q_{n+1})\n",
    "$$\n",
    "\n",
    "This equation simplifies further to:\n",
    "\n",
    "$$\n",
    "\\frac{q_{n+2}-2q_{n+1}+q_n}{h^2} = V'(q_{n+1})\n",
    "$$\n",
    "\n",
    "Finally, by recognizing that the force $f(q_n)$ is equal to the negative gradient of the potential energy $V'(q_n)$, we obtain:\n",
    "\n",
    "$$\n",
    "\\frac{q_{n+1}-2q_n+q_{n-1}}{h^2} = -f(q_n)\n",
    "$$\n",
    "\n",
    "### Conclusion\n",
    "\n",
    "The final equation mirrors the form of the Verlet method, showing that if we define the force as the negative gradient of the potential energy, the symplectic Euler method's adjustments for position can align with the predictions made by the Verlet method. This connection highlights how the Verlet method can be seen as a specific application of the symplectic Euler method under the Hamiltonian framework, particularly for systems where the force directly relates to the negative gradient of a potential energy function."
   ]
  }
 ],
 "metadata": {
  "language_info": {
   "name": "python"
  }
 },
 "nbformat": 4,
 "nbformat_minor": 2
}
