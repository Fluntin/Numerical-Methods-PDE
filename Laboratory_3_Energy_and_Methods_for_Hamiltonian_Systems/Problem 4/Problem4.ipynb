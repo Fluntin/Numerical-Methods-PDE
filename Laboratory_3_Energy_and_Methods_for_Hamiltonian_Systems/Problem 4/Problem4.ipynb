{
 "cells": [
  {
   "cell_type": "markdown",
   "metadata": {},
   "source": [
    "## Schrödinger"
   ]
  },
  {
   "cell_type": "markdown",
   "metadata": {},
   "source": [
    "### Question:"
   ]
  },
  {
   "cell_type": "markdown",
   "metadata": {},
   "source": [
    "When the  equation\n",
    "$$\n",
    "\\frac{\\mathrm{d}}{\\mathrm{d} t} \\psi(t)=-\\mathrm{i} H \\psi(t)\n",
    "$$\n",
    "is to be solved numerically, one wants the total probability $|\\psi(t)|^2=\\sum_{i=1}^n \\psi_i(t) \\bar{\\psi}_i(t)$ to be conserved (i.e., constant over time). Here, $\\bar{\\psi}_i$ is the complex conjugate of $\\psi_i$, the matrix $H$ is a constant symmetric real $n \\times n$ matrix (the spatial discretization has already been done), and $\\psi(t) \\in \\mathbb{C}^n$ is the wave function at time $t$.\n",
    "- Suggest a suitable numerical method. Show that the Schrödinger equation is a Hamiltonian system.\n",
    "\n",
    "---"
   ]
  },
  {
   "cell_type": "markdown",
   "metadata": {},
   "source": [
    "### Solution"
   ]
  },
  {
   "cell_type": "markdown",
   "metadata": {},
   "source": []
  }
 ],
 "metadata": {
  "language_info": {
   "name": "python"
  }
 },
 "nbformat": 4,
 "nbformat_minor": 2
}
