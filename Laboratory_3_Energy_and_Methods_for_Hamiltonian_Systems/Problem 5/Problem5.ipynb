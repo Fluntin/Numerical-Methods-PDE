{
 "cells": [
  {
   "cell_type": "markdown",
   "metadata": {},
   "source": [
    "## Kepler problem"
   ]
  },
  {
   "cell_type": "markdown",
   "metadata": {},
   "source": [
    "### Question:"
   ]
  },
  {
   "cell_type": "markdown",
   "metadata": {},
   "source": [
    "Solve the Kepler problem using a method with formally high accuracy, such as MATLAB's ode45. \n",
    "- Is ode45 better than the midpoint method and symplectic Euler also for long times? \n",
    "- What is the order of accuracy for these methods?\n",
    "\n",
    "---\n"
   ]
  },
  {
   "cell_type": "markdown",
   "metadata": {},
   "source": [
    "### Solution:"
   ]
  },
  {
   "cell_type": "markdown",
   "metadata": {},
   "source": [
    "**ode45** method is known for its high precision, having an accuracy of order $4$, while the midpoint method has accuracy of order $2$, and the symplectic Euler method is at the accuracy of order $2$.\n",
    "\n",
    "Despite **ode45's** higher accuracy on paper, it doesn't perform as well as the midpoint method and symplectic Euler when we're looking at simulations over long periods.\n",
    "\n",
    "A notable issue with ode45 is that it tends to lose energy in a similar way to the backward Euler method. This loss makes orbits shrink inward as if spiraling down, which isn't ideal.\n",
    "\n",
    "Despite these issues, **ode45** stands out for its speed during simulations that cover long stretches of time, suggesting it uses fewer, larger steps to compute results. This efficiency comes from its high accuracy order, but there's a trade-off in the form of energy loss over time.\n",
    "\n",
    "Interestingly, **ode45** doesn't behave like the backward Euler method in all scenarios. For instance, when the value of $q$ gets very small, the system's energy doesn't continuously decrease. Instead, after an initial drop, the energy suddenly spikes. Specifically, when the simulated orbit gets to the center of the system, it stays there with surprisingly low energy, which is different from some expectations based on its accuracy level."
   ]
  }
 ],
 "metadata": {
  "language_info": {
   "name": "python"
  }
 },
 "nbformat": 4,
 "nbformat_minor": 2
}
