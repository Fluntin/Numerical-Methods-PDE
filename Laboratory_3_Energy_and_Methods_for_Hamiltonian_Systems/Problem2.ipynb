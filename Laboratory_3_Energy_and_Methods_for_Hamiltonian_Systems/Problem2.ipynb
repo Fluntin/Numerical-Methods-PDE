{
 "cells": [
  {
   "cell_type": "markdown",
   "metadata": {},
   "source": [
    "# Hamiltonian system"
   ]
  },
  {
   "cell_type": "markdown",
   "metadata": {},
   "source": [
    "### Question"
   ]
  },
  {
   "cell_type": "markdown",
   "metadata": {},
   "source": [
    "The simplest Hamiltonian system is\n",
    "$$\n",
    "y^{\\prime}=\\mathrm{i} y\n",
    "$$\n",
    "where i is the imaginary unit and $y(t) \\in \\mathbb{C}$. We see that the Hamiltonian is $|y|^2 / 2$ and that the real part and imaginary part of $y$ solve the harmonic oscillator equation $\\ddot{x}=-x$. Equation (3) is suitable for comparing numerical methods analytically with explicit calculations. Prove that the energy, i.e., $H$ as a function of $t$, is\n",
    "increasing for the forward Euler method,\n",
    "decreasing for the backward Euler method,\n",
    "constant for the midpoint method and the exact solution."
   ]
  },
  {
   "cell_type": "markdown",
   "metadata": {},
   "source": [
    "### Solution"
   ]
  },
  {
   "cell_type": "markdown",
   "metadata": {},
   "source": []
  }
 ],
 "metadata": {
  "language_info": {
   "name": "python"
  }
 },
 "nbformat": 4,
 "nbformat_minor": 2
}
