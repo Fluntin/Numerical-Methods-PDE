{
 "cells": [
  {
   "cell_type": "markdown",
   "metadata": {},
   "source": [
    "# Setup"
   ]
  },
  {
   "cell_type": "markdown",
   "metadata": {},
   "source": [
    "Compare the four methods forward Euler (explicit Euler), backward Euler (implicit Euler), midpoint method, and symplectic Euler, which take the following form for $y^{\\prime}=f(y), \\Delta t=h, y^n \\approx y(n h)$\n",
    "$$\n",
    "\\begin{aligned}\n",
    "& y^{n+1}=y^n+h f\\left(y^n\\right) \\quad \\text{forward Euler} \\\\\n",
    "& y^{n+1}=y^n+h f\\left(y^{n+1}\\right) \\quad \\text{backward Euler} \\\\\n",
    "& y^{n+1}=y^n+h f\\left(\\frac{1}{2}\\left(y^n+y^{n+1}\\right)\\right) \\quad \\text{(implicit) midpoint method.}\n",
    "\\end{aligned}\n",
    "$$\n",
    "A Hamiltonian system is a dynamical system that can be written in the form\n",
    "$$\n",
    "\\begin{aligned}\n",
    "& \\dot{q}(t)=\\nabla_p H(p(t), q(t)), \\\\\n",
    "& \\dot{p}(t)=-\\nabla_q H(p(t), q(t)),\n",
    "\\end{aligned}\n",
    "$$\n",
    "where $\\nabla_p$ is the gradient with respect to $p$ (here $p=\\left(p_1, p_2\\right)$. For Hamiltonian systems, the symplectic Euler method can be written as\n",
    "$$\n",
    "\\begin{aligned}\n",
    "& q^{n+1}=q^n+h \\nabla_p H\\left(p^{n+1}, q^n\\right), \\\\\n",
    "& p^{n+1}=p^n-h \\nabla_q H\\left(p^{n+1}, q^n\\right).\n",
    "\\end{aligned}\n",
    "$$"
   ]
  },
  {
   "cell_type": "markdown",
   "metadata": {},
   "source": [
    "\n",
    "---\n",
    "\n",
    "## a)\n"
   ]
  },
  {
   "cell_type": "markdown",
   "metadata": {},
   "source": [
    "### Question"
   ]
  },
  {
   "cell_type": "markdown",
   "metadata": {},
   "source": [
    "First, show that (1) is a Hamiltonian system with the Hamiltonian\n",
    "$$\n",
    "H(p, q) = \\frac{1}{2}|p|^2 - \\frac{1}{|q|},\n",
    "$$\n",
    "where $|q| = \\sqrt{q_1^2 + q_2^2}$; that is, show that:\n",
    "$$\n",
    "\\begin{aligned}\n",
    "& \\ddot{q}_1(t)=-\\frac{q_1(t)}{\\left(q_1^2(t)+q_2^2(t)\\right)^{3 / 2}}, \\\\\n",
    "& \\ddot{q}_2(t)=-\\frac{q_2(t)}{\\left(q_1^2(t)+q_2^2(t)\\right)^{3 / 2}},\n",
    "\\end{aligned}\n",
    "$$\n",
    "\n",
    "can be written in the form of:\n",
    "\n",
    "$$\n",
    "\\begin{aligned}\n",
    "& \\dot{q}(t)=\\nabla_p H(p(t), q(t)) \\\\\n",
    "& \\dot{p}(t)=-\\nabla_q H(p(t), q(t))\n",
    "\\end{aligned}\n",
    "$$\n",
    "\n",
    "---"
   ]
  },
  {
   "cell_type": "markdown",
   "metadata": {},
   "source": [
    "### Solution"
   ]
  },
  {
   "cell_type": "markdown",
   "metadata": {},
   "source": [
    "The main equation we're looking at says that the acceleration of an object is directly related to its position in space.\n",
    "$$\n",
    "\\ddot{q} = -\\frac{q}{|q|^3},\n",
    "$$\n",
    "- $q$ is a function that tells us the position of the object in space over time, and it works in one, two, or three dimensions. \n",
    "- Example, focusing on two dimensions,like looking at a flat map of the object's path.\n",
    "\n",
    "For the Kepler problem, the Hamiltonian looks like this:\n",
    "\n",
    "$$\n",
    "H(p, q) = \\frac{1}{2}|p|^2 - \\frac{1}{|q|},\n",
    "$$\n",
    "\n",
    "- $p$ is the momentum of the object \n",
    "- $q$ is its position. \n",
    "\n",
    "Momentum $p$ is just the rate of change of the position, or in other words: \n",
    "\n",
    "$$\n",
    "p = \\dot{q}\n",
    "$$\n",
    "\n",
    "To show that the Kepler problem fits into category of physics problems called *Hamiltonian systems*:\n",
    "Take gradients. \n",
    "\n",
    "- The gradient of the Hamiltonian with respect to $p$ gives us back the momentum equation\n",
    "- The negative gradient with respect to $q$ gives us our acceleration equation. \n",
    "\n",
    "$$\n",
    "\\begin{aligned}\n",
    "\\nabla_p H & = \\nabla_p \\frac{1}{2}|p|^2 = p = \\dot{q}, \\\\\n",
    "-\\nabla_q H & = - \\nabla_q \\frac{1}{\\sqrt{q_1^2 + q_2^2}} = -\\frac{q}{|q|^3} = \\ddot{q} = \\dot{p},\n",
    "\\end{aligned}\n",
    "$$\n",
    "\n",
    "Thus Kepler problem can be described using Hamilton's framework! \n",
    "As long as the momentum $p$ is just the derivative of the position over time ($p = \\dot{q}$). "
   ]
  },
  {
   "cell_type": "markdown",
   "metadata": {},
   "source": [
    "\n",
    "---\n",
    "\n",
    "## b)"
   ]
  },
  {
   "cell_type": "markdown",
   "metadata": {},
   "source": [
    "### Question"
   ]
  },
  {
   "cell_type": "markdown",
   "metadata": {},
   "source": [
    "Show that the energy $H(p(t), q(t))$ is constant for the exact solution:\n"
   ]
  },
  {
   "cell_type": "markdown",
   "metadata": {},
   "source": [
    "\n",
    "$$\n",
    "\\begin{aligned}\n",
    "& \\ddot{q}_1(t)=-\\frac{q_1(t)}{\\left(q_1^2(t)+q_2^2(t)\\right)^{3 / 2}}, \\\\\n",
    "& \\ddot{q}_2(t)=-\\frac{q_2(t)}{\\left(q_1^2(t)+q_2^2(t)\\right)^{3 / 2}},\n",
    "\\end{aligned}\n",
    "$$\n",
    "\n",
    "---\n"
   ]
  },
  {
   "cell_type": "markdown",
   "metadata": {},
   "source": [
    "### Solution"
   ]
  },
  {
   "cell_type": "markdown",
   "metadata": {},
   "source": [
    "Idea -> Demonstrate that the time derivative of $H(p, q)$ is zero, $\\frac{d}{dt} H(p, q) = 0$.\n",
    "Derivative of the Hamiltonian with respect to time, $\\frac{d}{dt} H(p, q)$, equals zero.\n",
    "\n",
    "**Step 1: Calculating the Time Derivative of $H(p, q)$**\n",
    "- $\\frac{d}{dt} H(p, q)$, use the Chain Rule:\n",
    "  $$\n",
    "  \\frac{d}{dt} H(p, q) = \\dot{p} \\cdot \\nabla_p H(p, q) + \\dot{q} \\cdot \\nabla_q H(p, q).\n",
    "  $$\n",
    "\n",
    "**Step 2: Substituting $\\nabla_p H$ and $\\nabla_q H$**\n",
    "- We know from Hamilton's equations that $\\nabla_p H(p, q) = \\dot{q}$ and $-\\nabla_q H(p, q) = \\dot{p}$\n",
    "  $$\n",
    "  \\frac{d}{dt} H(p, q) = \\dot{p} \\cdot \\dot{q} + \\dot{q} \\cdot (-\\dot{p}).\n",
    "  $$\n",
    "\n",
    "**Step 3: Simplifying the Equation**\n",
    "- $\\dot{p} \\cdot \\dot{q}$ and $\\dot{q} \\cdot (-\\dot{p})$ cancel each other out because they are equal in magnitude but opposite in direction!\n",
    "  $$\n",
    "  \\frac{d}{dt} H(p, q) = 0.\n",
    "  $$\n",
    "\n",
    "**Conclusion:**\n",
    "- Since the derivative of the Hamiltonian $H(p, q)$ with respect to time is zero, it means that the energy of the system $H(p, q)$ remains constant over time for the exact solution of the given differential equations."
   ]
  },
  {
   "cell_type": "markdown",
   "metadata": {},
   "source": [
    "\n",
    "---\n",
    "\n",
    "## c)\n"
   ]
  },
  {
   "cell_type": "markdown",
   "metadata": {},
   "source": [
    "### Question"
   ]
  },
  {
   "cell_type": "markdown",
   "metadata": {},
   "source": [
    "\n",
    "Plot the trajectories $(q_1(t), q_2(t))$ in a coordinate system in the plane, for the different methods with initial data\n",
    "$$\n",
    "q_1(0)=1-a, \\quad q_2(0)=0, \\quad p_1(0)=0, \\quad p_2(0)=\\sqrt{\\frac{1+a}{1-a}}\n",
    "$$\n",
    "where $0 \\leq a < 1$ is called the eccentricity. Equation (1) represents the so-called two-body problem, where two bodies attract each other with Newton's force, and the coordinates are chosen so that one body is at the origin. Newton mathematically showed that the path becomes an ellipse with eccentricity $a$. Kepler observed such planetary orbits earlier. Choose, for example, $a=0.5$.\n",
    "\n",
    "---"
   ]
  },
  {
   "cell_type": "markdown",
   "metadata": {},
   "source": [
    "### Solution"
   ]
  },
  {
   "cell_type": "markdown",
   "metadata": {},
   "source": [
    "We focused on the dynamics of a Hamiltonian system, for which the updates to the position ($q$) and momentum ($p$) are used for simulating the trajectories of bodies under mutual gravitational influence. \n",
    "This was done by employing the gradients of the Hamiltonian, $\\nabla_p H(p, q)$ and $\\nabla_q H(p, q)$, to guide these updates across different numerical methods.\n",
    "\n",
    "- Position updates:\n",
    "We utilized the gradient $\\nabla_p H(p, q) = p$, which signifies that the change in position over time is directly influenced by the momentum.\n",
    "\n",
    "- Momentum updates, \n",
    "We applied the gradient $\\nabla_q H(p, q) = \\frac{q}{\\left|q\\right|^3}$\n",
    "\n",
    "The core difference between the numerical methods we used is in the timing of when these gradients are evaluated for updating $p$ and $q$. This choice is important for the simulation's accuracy, particularly regarding energy conservation and the fidelity of the trajectories.\n",
    "\n",
    "1. **Forward Euler**\n",
    "We updated the position and momentum using the current valuesThis approach is prone to accumulating errors over time, especially in energy conservation.\n",
    "\n",
    "$$\n",
    "\\begin{cases}\n",
    "q_{n+1} = q_{n} + h \\cdot p_{n}, \\\\\n",
    "p_{n+1} = p_{n} - h \\cdot \\left( \\frac{q_{n}}{\\|q_{n}\\|^{3}} \\right)\n",
    "\\end{cases}\n",
    "$$\n",
    "\n",
    "2. **Backward Euler** \n",
    "Required us to predict future values for both position and momentum, creating a nonlinear system that was solved iteratively at each step. This method attempts to correct some inaccuracies inherent in the Forward Euler approach but introduces its computational complexities.\n",
    "\n",
    "$$\n",
    "\\begin{cases}\n",
    "q_{n+1} = q_{n} + h \\cdot p_{n+1}, \\\\\n",
    "p_{n+1} = p_{n} - h \\cdot \\left( \\frac{q_{n+1}}{\\|q_{n+1}\\|^3} \\right)\n",
    "\\end{cases}\n",
    "$$\n",
    "\n",
    "\n",
    "3. **Implicit Midpoint Method**\n",
    "Balance, updating both quantities by considering the average of their current and future values. This approach yielded more accurate elliptical orbits and demonstrated superior energy conservation properties.\n",
    "\n",
    "$$\n",
    "\\begin{cases}\n",
    "p_{n+1} = p_{n} - h \\cdot \\frac{\\frac{1}{2} q_{n+1} + \\frac{1}{2} q_{n}}{\\| \\frac{1}{2} q_{n+1} + \\frac{1}{2} q_{n} \\|^3}, \\\\\n",
    "q_{n+1} = q_{n} + h \\cdot \\left( \\frac{1}{2} p_{n+1} + \\frac{1}{2} p_{n} \\right).\n",
    "\\end{cases}\n",
    "$$\n",
    "\n",
    "\n",
    "4. **Symplectic Euler** \n",
    "We could explicitly update the momentum with current position values and then use this updated momentum to compute the next position. This sequential updating scheme preserved the Hamiltonian structure more effectively, maintaining energy levels with minimal fluctuation over time.\n",
    "\n",
    "$$\n",
    "\\begin{cases}\n",
    "p_{n+1} = p_{n} - h \\cdot \\left( \\frac{q_{n}}{\\|q_{n}\\|^3} \\right), \\\\\n",
    "q_{n+1} = q_{n} + h \\cdot p_{n+1}.\n",
    "\\end{cases}\n",
    "$$"
   ]
  },
  {
   "cell_type": "markdown",
   "metadata": {},
   "source": [
    "\n",
    "---\n",
    "\n",
    "## d)\n",
    "\n"
   ]
  },
  {
   "cell_type": "markdown",
   "metadata": {},
   "source": [
    "### Question"
   ]
  },
  {
   "cell_type": "markdown",
   "metadata": {},
   "source": [
    "What happens to the energy $H(p(t), q(t))$ as a function of $t$ for the methods?\n",
    "\n",
    "---"
   ]
  },
  {
   "cell_type": "markdown",
   "metadata": {},
   "source": [
    "### Solution"
   ]
  },
  {
   "cell_type": "markdown",
   "metadata": {},
   "source": [
    "1. **Forward Euler**\n",
    "We observed that energy increases with any level of eccentricity. For lower eccentricities, individual orbits around the central body are clearly visible on the energy graph. However, at higher eccentricities, energy spikes sharply and then stabilizes. This happens because the orbiting body quickly gains too much energy, moving away from the central body, causing the energy related to $q$ to become almost negligible. Thus, the interaction between the bodies weakens, and $p$ remains almost constant, leading to minimal energy changes later on. This is evident in Figure 1, especially in parts where eccentricity is $0.5$ and  $0.75$, where the bodies move at a constant speed and distance themselves from the central body.\n",
    "\n",
    "2. **Backward Euler** \n",
    "Using the Backward Euler method, we clearly saw energy decrease. To illustrate this, we adjusted the timestep count ($N$) for various eccentricities and chose a smaller timestep size compared to the Forward Euler method. It's important to note that this energy decrease is only an initial phase. If the simulation continues beyond the point where the magnitude of $q$ becomes very small, the magnitude of $p$ will suddenly increase, propelling the body away and causing a sharp increase in energy. This phenomenon is particularly noticeable in simulations where eccentricity is around $0.5$, timestep is relativley small $<10^{-3}$, and $N$ is sufficiently large $>5000$. The orbit initially spirals inward before being ejected outward, at which point energy gradually declines before spiking suddenly as the body is ejected, eventually stabilizing at a higher level than before.\n",
    "\n",
    "3. **Implicit Midpoint Method**\n",
    "We observed that the energy varies at a predictable rate, yet remains nearly constant, with only negligible differences. This aligns well with the fact that, upon plotting the trajectories post-simulation, the paths using the Implicit Midpoint Method more closely resemble elliptical orbits compared to the results from the other three methods.\n",
    "\n",
    "\n",
    "4. **Symplectic Euler** \n",
    "With the Symplectic Euler method, we noticed that energy neither decreases nor increases steadily. The energy variations are several orders of magnitude greater than those observed with the Implicit Midpoint Method, yet they remain largely negligible, especially for nearly circular orbits."
   ]
  }
 ],
 "metadata": {
  "language_info": {
   "name": "python"
  }
 },
 "nbformat": 4,
 "nbformat_minor": 2
}
