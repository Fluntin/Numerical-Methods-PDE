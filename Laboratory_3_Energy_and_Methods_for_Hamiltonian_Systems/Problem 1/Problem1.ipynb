{
 "cells": [
  {
   "cell_type": "markdown",
   "metadata": {},
   "source": [
    "# Setup"
   ]
  },
  {
   "cell_type": "markdown",
   "metadata": {},
   "source": [
    "Compare the four methods forward Euler (explicit Euler), backward Euler (implicit Euler), midpoint method, and symplectic Euler, which take the following form for $y^{\\prime}=f(y), \\Delta t=h, y^n \\approx y(n h)$\n",
    "$$\n",
    "\\begin{aligned}\n",
    "& y^{n+1}=y^n+h f\\left(y^n\\right) \\quad \\text{forward Euler} \\\\\n",
    "& y^{n+1}=y^n+h f\\left(y^{n+1}\\right) \\quad \\text{backward Euler} \\\\\n",
    "& y^{n+1}=y^n+h f\\left(\\frac{1}{2}\\left(y^n+y^{n+1}\\right)\\right) \\quad \\text{(implicit) midpoint method.}\n",
    "\\end{aligned}\n",
    "$$\n",
    "A Hamiltonian system is a dynamical system that can be written in the form\n",
    "$$\n",
    "\\begin{aligned}\n",
    "& \\dot{q}(t)=\\nabla_p H(p(t), q(t)), \\\\\n",
    "& \\dot{p}(t)=-\\nabla_q H(p(t), q(t)),\n",
    "\\end{aligned}\n",
    "$$\n",
    "where $\\nabla_p$ is the gradient with respect to $p$ (here $p=\\left(p_1, p_2\\right)$. For Hamiltonian systems, the symplectic Euler method can be written as\n",
    "$$\n",
    "\\begin{aligned}\n",
    "& q^{n+1}=q^n+h \\nabla_p H\\left(p^{n+1}, q^n\\right), \\\\\n",
    "& p^{n+1}=p^n-h \\nabla_q H\\left(p^{n+1}, q^n\\right).\n",
    "\\end{aligned}\n",
    "$$"
   ]
  },
  {
   "cell_type": "markdown",
   "metadata": {},
   "source": [
    "\n",
    "---\n",
    "\n",
    "## a)\n"
   ]
  },
  {
   "cell_type": "markdown",
   "metadata": {},
   "source": [
    "### Question"
   ]
  },
  {
   "cell_type": "markdown",
   "metadata": {},
   "source": [
    "First, show that (1) is a Hamiltonian system with the Hamiltonian\n",
    "$$\n",
    "H(p, q) = \\frac{1}{2}|p|^2 - \\frac{1}{|q|},\n",
    "$$\n",
    "where $|q| = \\sqrt{q_1^2 + q_2^2}$; that is, show that:\n",
    "$$\n",
    "\\begin{aligned}\n",
    "& \\ddot{q}_1(t)=-\\frac{q_1(t)}{\\left(q_1^2(t)+q_2^2(t)\\right)^{3 / 2}}, \\\\\n",
    "& \\ddot{q}_2(t)=-\\frac{q_2(t)}{\\left(q_1^2(t)+q_2^2(t)\\right)^{3 / 2}},\n",
    "\\end{aligned}\n",
    "$$\n",
    "\n",
    "can be written in the form of:\n",
    "\n",
    "$$\n",
    "\\begin{aligned}\n",
    "& \\dot{q}(t)=\\nabla_p H(p(t), q(t)) \\\\\n",
    "& \\dot{p}(t)=-\\nabla_q H(p(t), q(t))\n",
    "\\end{aligned}\n",
    "$$\n",
    "\n",
    "---"
   ]
  },
  {
   "cell_type": "markdown",
   "metadata": {},
   "source": [
    "### Solution"
   ]
  },
  {
   "cell_type": "markdown",
   "metadata": {},
   "source": [
    "The main equation we're looking at says that the acceleration of an object is directly related to its position in space.\n",
    "$$\n",
    "\\ddot{q} = -\\frac{q}{|q|^3},\n",
    "$$\n",
    "- $q$ is a function that tells us the position of the object in space over time, and it works in one, two, or three dimensions. \n",
    "- Example, focusing on two dimensions,like looking at a flat map of the object's path.\n",
    "\n",
    "For the Kepler problem, the Hamiltonian looks like this:\n",
    "\n",
    "$$\n",
    "H(p, q) = \\frac{1}{2}|p|^2 - \\frac{1}{|q|},\n",
    "$$\n",
    "\n",
    "- $p$ is the momentum of the object \n",
    "- $q$ is its position. \n",
    "\n",
    "Momentum $p$ is just the rate of change of the position, or in other words: \n",
    "\n",
    "$$\n",
    "p = \\dot{q}\n",
    "$$\n",
    "\n",
    "To show that the Kepler problem fits into category of physics problems called *Hamiltonian systems*:\n",
    "Take gradients. \n",
    "\n",
    "- The gradient of the Hamiltonian with respect to $p$ gives us back the momentum equation\n",
    "- The negative gradient with respect to $q$ gives us our acceleration equation. \n",
    "\n",
    "$$\n",
    "\\begin{aligned}\n",
    "\\nabla_p H & = \\nabla_p \\frac{1}{2}|p|^2 = p = \\dot{q}, \\\\\n",
    "-\\nabla_q H & = - \\nabla_q \\frac{1}{\\sqrt{q_1^2 + q_2^2}} = -\\frac{q}{|q|^3} = \\ddot{q} = \\dot{p},\n",
    "\\end{aligned}\n",
    "$$\n",
    "\n",
    "Thus Kepler problem can be described using Hamilton's framework! \n",
    "As long as the momentum $p$ is just the derivative of the position over time ($p = \\dot{q}$). "
   ]
  },
  {
   "cell_type": "markdown",
   "metadata": {},
   "source": [
    "\n",
    "---\n",
    "\n",
    "## b)"
   ]
  },
  {
   "cell_type": "markdown",
   "metadata": {},
   "source": [
    "### Question"
   ]
  },
  {
   "cell_type": "markdown",
   "metadata": {},
   "source": [
    "Show that the energy $H(p(t), q(t))$ is constant for the exact solution:\n"
   ]
  },
  {
   "cell_type": "markdown",
   "metadata": {},
   "source": [
    "\n",
    "$$\n",
    "\\begin{aligned}\n",
    "& \\ddot{q}_1(t)=-\\frac{q_1(t)}{\\left(q_1^2(t)+q_2^2(t)\\right)^{3 / 2}}, \\\\\n",
    "& \\ddot{q}_2(t)=-\\frac{q_2(t)}{\\left(q_1^2(t)+q_2^2(t)\\right)^{3 / 2}},\n",
    "\\end{aligned}\n",
    "$$\n",
    "\n",
    "---\n"
   ]
  },
  {
   "cell_type": "markdown",
   "metadata": {},
   "source": [
    "### Solution"
   ]
  },
  {
   "cell_type": "markdown",
   "metadata": {},
   "source": [
    "Idea -> Demonstrate that the time derivative of $H(p, q)$ is zero, $\\frac{d}{dt} H(p, q) = 0$.\n",
    "Derivative of the Hamiltonian with respect to time, $\\frac{d}{dt} H(p, q)$, equals zero.\n",
    "\n",
    "**Step 1: Calculating the Time Derivative of $H(p, q)$**\n",
    "- $\\frac{d}{dt} H(p, q)$, use the Chain Rule:\n",
    "  $$\n",
    "  \\frac{d}{dt} H(p, q) = \\dot{p} \\cdot \\nabla_p H(p, q) + \\dot{q} \\cdot \\nabla_q H(p, q).\n",
    "  $$\n",
    "\n",
    "**Step 2: Substituting $\\nabla_p H$ and $\\nabla_q H$**\n",
    "- We know from Hamilton's equations that $\\nabla_p H(p, q) = \\dot{q}$ and $-\\nabla_q H(p, q) = \\dot{p}$\n",
    "  $$\n",
    "  \\frac{d}{dt} H(p, q) = \\dot{p} \\cdot \\dot{q} + \\dot{q} \\cdot (-\\dot{p}).\n",
    "  $$\n",
    "\n",
    "**Step 3: Simplifying the Equation**\n",
    "- $\\dot{p} \\cdot \\dot{q}$ and $\\dot{q} \\cdot (-\\dot{p})$ cancel each other out because they are equal in magnitude but opposite in direction!\n",
    "  $$\n",
    "  \\frac{d}{dt} H(p, q) = 0.\n",
    "  $$\n",
    "\n",
    "**Conclusion:**\n",
    "- Since the derivative of the Hamiltonian $H(p, q)$ with respect to time is zero, it means that the energy of the system $H(p, q)$ remains constant over time for the exact solution of the given differential equations."
   ]
  },
  {
   "cell_type": "markdown",
   "metadata": {},
   "source": [
    "\n",
    "---\n",
    "\n",
    "## c)\n"
   ]
  },
  {
   "cell_type": "markdown",
   "metadata": {},
   "source": [
    "### Question"
   ]
  },
  {
   "cell_type": "markdown",
   "metadata": {},
   "source": [
    "\n",
    "Plot the trajectories $(q_1(t), q_2(t))$ in a coordinate system in the plane, for the different methods with initial data\n",
    "$$\n",
    "q_1(0)=1-a, \\quad q_2(0)=0, \\quad p_1(0)=0, \\quad p_2(0)=\\sqrt{\\frac{1+a}{1-a}}\n",
    "$$\n",
    "where $0 \\leq a < 1$ is called the eccentricity. Equation (1) represents the so-called two-body problem, where two bodies attract each other with Newton's force, and the coordinates are chosen so that one body is at the origin. Newton mathematically showed that the path becomes an ellipse with eccentricity $a$. Kepler observed such planetary orbits earlier. Choose, for example, $a=0.5$.\n",
    "\n",
    "---"
   ]
  },
  {
   "cell_type": "markdown",
   "metadata": {},
   "source": [
    "### Solution"
   ]
  },
  {
   "cell_type": "markdown",
   "metadata": {},
   "source": []
  },
  {
   "cell_type": "markdown",
   "metadata": {},
   "source": [
    "\n",
    "---\n",
    "\n",
    "## d)\n",
    "\n"
   ]
  },
  {
   "cell_type": "markdown",
   "metadata": {},
   "source": [
    "### Question"
   ]
  },
  {
   "cell_type": "markdown",
   "metadata": {},
   "source": [
    "What happens to the energy $H(p(t), q(t))$ as a function of $t$ for the methods?\n",
    "\n",
    "---"
   ]
  },
  {
   "cell_type": "markdown",
   "metadata": {},
   "source": [
    "### Solution"
   ]
  },
  {
   "cell_type": "markdown",
   "metadata": {},
   "source": []
  }
 ],
 "metadata": {
  "language_info": {
   "name": "python"
  }
 },
 "nbformat": 4,
 "nbformat_minor": 2
}
