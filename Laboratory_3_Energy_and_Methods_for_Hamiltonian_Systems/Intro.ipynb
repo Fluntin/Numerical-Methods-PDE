{
 "cells": [
  {
   "cell_type": "markdown",
   "metadata": {},
   "source": [
    "### Kepler problem"
   ]
  },
  {
   "cell_type": "markdown",
   "metadata": {},
   "source": [
    "This lab first involves studying the Kepler problem\n",
    "$$\n",
    "\\begin{aligned}\n",
    "& \\ddot{q}_1(t)=-\\frac{q_1(t)}{\\left(q_1^2(t)+q_2^2(t)\\right)^{3 / 2}}, \\\\\n",
    "& \\ddot{q}_2(t)=-\\frac{q_2(t)}{\\left(q_1^2(t)+q_2^2(t)\\right)^{3 / 2}},\n",
    "\\end{aligned}\n",
    "$$\n",
    "and comparing the approximation of different numerical methods over long periods. An important property is to preserve the system's energy. The lab highlights qualitative similarities with the wave equation, the Schrödinger equation, molecular dynamics, and planetary systems. For example, the reflection of waves is illustrated in a Matlab movie. The questions below, which are not always precisely formulated, should be seen as guidance for writing a lab report.\n",
    "\n",
    "Kepler discovered, through careful measurements, that the planets in the solar system move in elliptical orbits with the sun at one focus (Kepler's first law, 1609). Newton explained (1687) this motion with the force of gravity (proportional to $1 / r^2$ where $r$ is the distance) and the relationship between forces and acceleration (Newton's second law). This paved the way for studying the mechanics of the celestial vault using differential equations. Now, Newton's mechanics are also used to study molecular dynamics and much more. The purpose of this lab is to see that the total energy is preserved for such differential equations (including the wave equation) and to study how different numerical methods handle the energy and approximation over long time.\n",
    "\n",
    "Choose the time step and number of steps sufficiently large so that the calculation does not take too long and the plots look reasonable. (Perhaps a step length of 0.05 is good with 5000 steps for second-order methods and a step length of 0.0005 with 500000 steps for first-order methods). The notations for the components of a vector are $y=\\left(y_1, y_2, \\ldots, y_d\\right) \\in \\mathbb{R}^d$ and the vector's value at time step $n$ is $y^n$."
   ]
  }
 ],
 "metadata": {
  "language_info": {
   "name": "python"
  }
 },
 "nbformat": 4,
 "nbformat_minor": 2
}
