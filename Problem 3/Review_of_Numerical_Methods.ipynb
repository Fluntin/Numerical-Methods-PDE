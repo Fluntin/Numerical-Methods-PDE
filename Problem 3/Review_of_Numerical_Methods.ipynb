{
 "cells": [
  {
   "cell_type": "markdown",
   "metadata": {},
   "source": [
    "# Summary of Analysis\n",
    "\n",
    "- **Plotting Fourier Series**: \n",
    "  - Visualized Fourier series with 1 and 64 terms for the initial condition $ g(x) = x(\\pi - x) $.\n",
    "\n",
    "- **Analysis of the First Initial Condition**:\n",
    "  - Examined a continuous initial condition with continuous derivatives:\n",
    "    - Minimal difference observed between series with a few and many terms.\n",
    "    - Discovered that half of the coefficients are zero, and the remaining coefficients decrease following $ \\mathrm{O}\\left(n^{-3}\\right) $.\n",
    "    - Noted that the second non-zero coefficient is approximately 0.09, with subsequent terms decreasing at a faster rate due to $ \\exp \\left(-n^2 \\tau\\right) $.\n",
    "\n",
    "- **Analysis of the Second Initial Condition (Discontinuous Function)**:\n",
    "  - Investigated the Fourier series with fewer terms:\n",
    "    - Did not provide an accurate approximation.\n",
    "    - Improved the approximation significantly by using 200 terms.\n",
    "    - Recognized that a larger number of terms is necessary for an accurate approximation compared to a continuous function, as the coefficients decrease more slowly, following $ \\mathrm{O}\\left(n^{-1}\\right) $.\n",
    "\n",
    "- **Application of the Finite Difference Approximation**:\n",
    "  - Employed the finite difference method for both initial conditions:\n",
    "    - Achieved better results in approximating the discontinuous initial condition.\n",
    "    - Observed that the discontinuous function, being piecewise linear, led to an exact approximation except near the discontinuity.\n",
    "    - Noticed no significant difference between solutions with larger and smaller $ \\Delta x $.\n",
    "\n",
    "- **Comparison Between Fourier Series and Finite Difference Method**:\n",
    "  - Concluded that Fourier series are suitable for large $ \\tau $:\n",
    "    - Producing valid functions for all $ x \\in[0, \\pi] $ and $ \\tau>0 $.\n",
    "  - Recognized that the finite difference method demands $ \\mathrm{O}\\left(n_x \\cdot n_\\tau\\right) $ steps:\n",
    "    - Making it less efficient for large $ \\tau $.\n",
    "  - Noted that a high-resolution in $ \\tau $ is essential for stable solutions due to the stability requirement $ \\Delta \\tau /(\\Delta x)^2 \\leq \\frac{1}{2} $.\n",
    "  - Highlighted that an inadequate choice of $ \\Delta \\tau $ leads to instability and introduces oscillations in the solution.\n",
    "\n",
    "- **Illustration of Instability**:\n",
    "  - Demonstrated instability through an example where $ \\Delta \\tau /(\\Delta x)^2 > \\frac{1}{2} $:\n",
    "    - Resulting in significant oscillations that obscure the initial condition.\n"
   ]
  }
 ],
 "metadata": {
  "language_info": {
   "name": "python"
  }
 },
 "nbformat": 4,
 "nbformat_minor": 2
}
