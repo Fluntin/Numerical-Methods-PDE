{
 "cells": [
  {
   "cell_type": "markdown",
   "metadata": {},
   "source": [
    "### Problem Statement"
   ]
  },
  {
   "cell_type": "markdown",
   "metadata": {},
   "source": [
    "Let $g=1$ and consider the two cases $(a(x)=1+x, f(x)=0)$ and $(a(x)=e^x, f(x)=e^x)$, for $x \\in [0,1]$.\\\n",
    "Plot the solutions provided by the finite element program.\\\n",
    "Experimentally determine the computational complexity in a log-log plot, i.e., find out how many equally sized elements (or computation time) are needed for a given error in the $L^2$ norm and one-point Gaussian quadrature.\\\n",
    "Soes the computational complexity change significantly if Gaussian quadrature is performed with one or two points in each element?"
   ]
  },
  {
   "cell_type": "markdown",
   "metadata": {},
   "source": [
    "### Solution"
   ]
  },
  {
   "cell_type": "markdown",
   "metadata": {},
   "source": [
    "$$\n",
    "u_1(x)=\\int_0^x \\frac{1+\\int_y^1 0 d z}{1+y} d y=\\int_0^x \\frac{1}{1+y} d y=\\ln (1+x)\n",
    "$$\n",
    "\n",
    "$$ u_2(x) = \\int_0^x \\frac{1+\\int_y^1 e^z dz}{e^y} dy = \\int_0^x \\frac{1+e-e^y}{e^y} dy = (1+e) \\int_0^x e^{-y} dy - \\int_0^x 1 dy = (1+e)(1-e^{-x}) - x $$\n",
    "\n"
   ]
  },
  {
   "cell_type": "markdown",
   "metadata": {},
   "source": [
    "#### Short"
   ]
  },
  {
   "cell_type": "markdown",
   "metadata": {},
   "source": [
    "1. **Exact Solutions for Both Cases:**\n",
    "   - **Case 1:** $ f_1(x) = 0, a_1(x) = 1 + x $\n",
    "     - The exact solution: $ u_1(x) = \\ln(1 + x) $.\n",
    "   - **Case 2:** $ f_2(x) = e^x, a_2(x) = e^x $\n",
    "     - The exact solution: $ u_2(x) = (1 + e)(1 - e^{-x}) - x $.\n",
    "\n",
    "2. **Comparison Using Finite Element Method (FEM):**\n",
    "\n",
    "   - We should compare FEM solutions are compared with the exact solutions for different numbers of elements.\n",
    "\n",
    "   - Visual inspection of the solution curves using both one-point and two-point Gaussian quadrature shows no noticeable difference in the appearance of the graphs for either set of boundary conditions. \n",
    "\n",
    "3. **Computational Complexity:**\n",
    "\n",
    "   - The choice between one-point and two-point Gaussian quadrature does not significantly affect the computational complexity.\n",
    "\n",
    "   - Approximately the same number of elements are needed in both methods, and the additional function evaluations in the two-point method are relatively inexpensive.\n",
    "\n",
    "4. **Energy Norm:**\n",
    "\n",
    "   - The energy norm is calculated as:\n",
    "    $$ \\|v\\|_V = \\sqrt{\\int_0^1 a(x)(v'(x))^2 dx} $$\n",
    "\n",
    "   - The residuals of the energy norm are very similar between the one-point and two-point methods.\n",
    "\n",
    "   - Method used for calculating the energy norm is intentionally approximate, balancing purpose and implementation complexity.\n",
    "\n",
    "5. **Quantitative Analysis:**\n",
    "\n",
    "   - For both function sets, the energy norm residuals (denoted as $ \\rho $) were calculated for various element counts.\n",
    "\n",
    "   - For the first set, fewer elements were needed to achieve a certain $ \\rho $ compared to the second set. For instance, $ n = 3 $ for $ \\rho < 0.6 $, while for the second set, $ n = 20 $ was needed for the same $ \\rho $.\n",
    "\n",
    "6. **Conclusion:**\n",
    "\n",
    "   - While there is no significant difference in efficiency between the one-point and two-point methods, the second set of functions consistently requires a finer discretization (more elements) for the same level of accuracy.\n",
    "   \n",
    "   - This observation is consistent across various levels of the energy norm residuals."
   ]
  },
  {
   "cell_type": "markdown",
   "metadata": {},
   "source": [
    "https://www.youtube.com/watch?v=GHjopp47vvQ&ab_channel=TheEfficientEngineer\n",
    "\n",
    "https://www.youtube.com/watch?v=C6X9Ry02mPU&ab_channel=SolidMechanicsClassroom\n",
    "\n",
    "https://www.youtube.com/watch?v=Rp4PRLqKKXQ&ab_channel=GraspEngineering\n",
    "\n",
    "\n",
    "\n",
    "\"Grown man will weep...\""
   ]
  }
 ],
 "metadata": {
  "language_info": {
   "name": "python"
  }
 },
 "nbformat": 4,
 "nbformat_minor": 2
}
