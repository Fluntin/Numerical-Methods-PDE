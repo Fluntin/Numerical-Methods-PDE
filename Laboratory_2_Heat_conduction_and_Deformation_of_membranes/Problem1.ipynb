{
 "cells": [
  {
   "cell_type": "markdown",
   "metadata": {},
   "source": [
    "### Problem Statement"
   ]
  },
  {
   "cell_type": "markdown",
   "metadata": {},
   "source": [
    "Let a rod with length 1 and varying conductivity be heated with the source $\\int:[0,1] \\rightarrow \\mathbb{R}$ per unit length. \n",
    "Justify why the temperature $u:[0,1] \\rightarrow \\mathbb{R}$ in the rod, where one end has a temperature of 0 and the other end has a heat flux of $g \\in \\mathbb{R}$, can be modeled by the boundary value problem\n",
    "$$\n",
    "-\\left(a(x) u^{\\prime}(x)\\right)^{\\prime} =\\int(x), \\quad x \\in(0,1)\n",
    "$$\n",
    "$$\n",
    "u(0)  =0 \n",
    "$$\n",
    "$$\n",
    "a(1) u^{\\prime}(1)  =g\n",
    "$$\n",
    "where $a:[0,1] \\rightarrow(0, \\infty)$ and $f:[0,1] \\rightarrow \\mathbb{R}$ are given functions.\\\n",
    "Assume that the heat flow around the perimeter of the rod is negligible, and that the temperature is time-independent. How does $a$ depend on the cross-sectional area and thermal conductivity?\\\n",
    "Write a finite element program in Matlab to approximate (1) with piece-wise linear elements, a constant element size, and arbitrary functions $a:[0,1] \\rightarrow(0, \\infty), f:[0,1] \\rightarrow \\mathbb{R}$ and provide $g \\in \\mathbb{R}$.\n",
    "\n",
    "---"
   ]
  },
  {
   "cell_type": "markdown",
   "metadata": {},
   "source": [
    "### Solution"
   ]
  },
  {
   "cell_type": "markdown",
   "metadata": {},
   "source": [
    "#### Modeling the Problem:"
   ]
  },
  {
   "cell_type": "markdown",
   "metadata": {},
   "source": [
    "**First we make a couple of assumtions:**\n",
    "1. We assume that the heat flow around the rod's circumference is minimal.\n",
    "2. Since we are dealing with a thin rod it is safe to say that the primary direction of heat transfer is along its length rather than radially.\n",
    "3. Temperature distribution within the rod does not change over time, indicating a steady-state condition thus we can treat the temperature at any point along the rod as constant with respect to time. $\\frac{\\partial u}{\\partial t}=0$"
   ]
  },
  {
   "cell_type": "markdown",
   "metadata": {},
   "source": [
    "**According to the Assumtions above we can adopt a One-Dimensional Approach**\\\n",
    "This model effectively captures the temperature variation along the length of the rod, which is the primary direction of interest, and excludes any variations in the other two dimensions."
   ]
  },
  {
   "cell_type": "markdown",
   "metadata": {},
   "source": [
    "**Formulating the Heat Conduction Equation:**\\\n",
    "The foundation of our model is the heat conduction equation, which in its general form for a three-dimensional space is expressed as:\n",
    "\n",
    "$$\\frac{\\partial u}{\\partial t}=\\nabla \\cdot(\\kappa \\nabla u) + f(x, t)$$\n",
    "\n",
    "Where:\n",
    "- $u$ represents the temperature, \n",
    "- $\\kappa$ denotes the thermal conductivity, and \n",
    "- $f(x, t)$ is the heat generation per unit volume.\n",
    "\n",
    "For our specific scenario, considering the time-independent (steady-state) condition, the term $\\frac{\\partial u}{\\partial t}$ becomes zero. Moreover, due to the one-dimensional nature of the problem, the divergence operator $\\nabla \\cdot(\\kappa \\nabla u)$ simplifies significantly. This leads to a more streamlined version of the heat equation that accurately represents heat conduction along the rod, considering its varying thermal conductivity and the given heat source term.\n",
    "\n",
    "---"
   ]
  },
  {
   "cell_type": "markdown",
   "metadata": {},
   "source": [
    "#### Boundary Conditions:"
   ]
  },
  {
   "cell_type": "markdown",
   "metadata": {},
   "source": [
    "#### Variational Formulation of the Boundary Value Problem"
   ]
  },
  {
   "cell_type": "markdown",
   "metadata": {},
   "source": [
    "**Temperature at One End -> Dirichlet Condition:**\\\n",
    "The first boundary condition is set at one end of the rod, where the temperature is fixed at zero.\\\n",
    "Dirichlet condition: \n",
    "\n",
    "$$u(0)=0$$\n",
    "\n",
    "**Heat Flux at the Other End -> Neumann Condition:**\\\n",
    "The second boundary condition concerns the opposite end of the rod. Here, we define a Neumann condition, which is based on the heat flux at this end. Specifically, we stipulate that the product of the rod’s thermal conductivity at this point and the temperature gradient equals a given value $g$. \n",
    "\n",
    "$$\n",
    "a(1) u^{\\prime}(1)=g\n",
    "$$\n",
    "\n",
    "- The thermal conductivity of the rod is represented by a function $a(x)$, which varies along the length of the rod. This variation is crucial to accurately modeling how different sections of the rod conduct heat.\n",
    "\n",
    "- The function $f(x)$ represents the heat source term and is vital in determining how heat is generated or absorbed at different points along the rod.\n",
    "\n",
    "Thus we know that:\n",
    "\n",
    "$$\n",
    "0=\\nabla \\cdot(a(x) \\nabla u(x))+f(x)\n",
    "$$\n",
    "$$\n",
    "-\\left(a(x) u^{\\prime}(x)\\right)^{\\prime}=f(x)\n",
    "$$"
   ]
  },
  {
   "cell_type": "markdown",
   "metadata": {},
   "source": [
    "1. Starting with the integral form of the differential equation:\n",
    "   $$ -\\int_0^1 \\left(a(x) u^{\\prime}(x)\\right)^{\\prime} v(x) \\, dx = \\int_0^1 f(x) v(x) \\, dx $$\n",
    "   *Represents a balance between the heat conducted in the rod and the heat generated within it, where $v(x)$ is a test function.*\n",
    "\n",
    "2. Applying integration by parts:\n",
    "   $$ -\\left[a(x) u^{\\prime}(x) v(x)\\right]_0^1 + \\int_0^1 a(x) u^{\\prime}(x) v^{\\prime}(x) \\, dx = \\int_0^1 f(x) v(x) \\, dx $$\n",
    "\n",
    "3. Incorporating the Neumann boundary condition:\n",
    "   $$ -g v(1) + \\int_0^1 a(x) u^{\\prime}(x) v^{\\prime}(x) \\, dx = \\int_0^1 f(x) v(x) \\, dx $$\n",
    "\n",
    "4. Arriving at the final form of the variational formulation:\n",
    "   $$ \\int_0^1 a(x) u^{\\prime}(x) v^{\\prime}(x) \\, dx = \\int_0^1 f(x) v(x) \\, dx + g v(1) $$\n",
    "   \n",
    "   *This equation will form the basis for the numerical solution using FEM.*\n",
    "\n",
    "---"
   ]
  },
  {
   "cell_type": "markdown",
   "metadata": {},
   "source": [
    "**Defining the Linear System for FEM**:\n",
    "To solve this problem using FEM, we define:\n",
    "- Stiffness matrix\n",
    " $$A(u, v) = \\int_0^1 a(x) u^{\\prime}(x) v^{\\prime}(x) dx$$ \n",
    "\n",
    "- Load vector in the FEM context\n",
    " $$L(v) = \\int_0^1 f(x) v(x) dx + g v(1)$$\n",
    "\n",
    "*The solution involves finding a function $u$ that satisfies this variational equation for all possible test functions $v$. In the context of FEM, this leads to solving a linear system derived from these integral equations.*\n",
    "\n",
    "---"
   ]
  },
  {
   "cell_type": "markdown",
   "metadata": {},
   "source": [
    "#### Implementing the Finite Element Method for the Rod's Temperature Distribution:\n"
   ]
  },
  {
   "cell_type": "markdown",
   "metadata": {},
   "source": [
    "1. **Selection of Basis Functions**:\n",
    "   - The first step in FEM is to choose appropriate basis functions. For our problem, we use piecewise linear functions, known as $\\varphi_i$. These functions are defined such that $\\varphi_i(j) = \\delta_{ij}$, where $\\delta_{ij}$ is the Kronecker delta function. This choice simplifies the computation while adequately representing the solution's variation along the rod.\n",
    "\n",
    "   https://en.wikipedia.org/wiki/Kronecker_delta\n",
    "\n",
    "2. **Discretization of the Rod**:\n",
    "   - The rod is discretized into smaller segments or elements. This discretization process involves dividing the rod into a finite number of nodes and elements, allowing us to apply the FEM on a step-by-step basis along the length of the rod.\n",
    "\n",
    "3. **Assembly of the System Matrix and Load Vector**:\n",
    "   - In FEM, the variational formulation is translated into a system of linear equations. This involves constructing the system matrix $\\tilde{A}$ and the load vector $\\tilde{L}$. The elements of $\\tilde{A}$ and $\\tilde{L}$ are determined by the functions $A(\\varphi_j, \\varphi_i)$ and $L(\\varphi_j)$, respectively. These functions incorporate the rod's varying thermal conductivity, the heat source, and the boundary conditions.\n",
    "   - $L\\left(\\varphi_j\\right)$ we remember that $g \\varphi_j(1)=0$ for all $j \\neq n$ och $g \\varphi_j(1)=g$ if $j=n$, where $n$ is number of nodes in discretisation.\n",
    "\n",
    "4. **Incorporating Boundary Conditions**:\n",
    "   - Boundary conditions are an integral part of the FEM solution. The Dirichlet boundary condition (temperature fixed at one end) is applied by modifying specific entries in the system matrix and load vector. This ensures that the solution adheres to the prescribed temperature at one end of the rod.\n",
    "\n",
    "5. **Solving the Linear System**:\n",
    "   - With the system matrix and load vector assembled, the final step is to solve the linear system $\\tilde{A} \\vec{u} = \\tilde{L}$. The solution vector $\\vec{u}$ gives the approximate temperatures at the discretized points along the rod. The FEM solution, denoted as $\\hat{u}$, is then constructed as a linear combination of the basis functions weighted by the elements of $\\vec{u}$.\n",
    "\n",
    "**Conclusion of the FEM Implementation**:\n",
    "\n",
    "- Through the Finite Element Method, we efficiently approximate the temperature distribution along the rod. This method's strength lies in its flexibility to handle varying material properties and complex boundary conditions, providing a reliable and accurate solution to our heat conduction problem.\n",
    "\n",
    "---"
   ]
  },
  {
   "cell_type": "markdown",
   "metadata": {},
   "source": [
    "#### Utilizing Gaussian Quadrature in the Finite Element Method"
   ]
  },
  {
   "cell_type": "markdown",
   "metadata": {},
   "source": [
    "https://www.youtube.com/watch?v=w2xjlPwYock&ab_channel=JeffreyChasnov\n",
    "\n",
    "1. **Principle of Gaussian Quadrature**:\n",
    "   - Gaussian Quadrature is based on the principle of approximating an integral by a weighted sum of function values at specific points, known as Gauss points. This method is particularly effective because it provides a high degree of accuracy with fewer evaluation points compared to other numerical integration methods.\n",
    "\n",
    "2. **Application in FEM**:\n",
    "   - In the context of FEM, we need to compute integrals of the form $\\int_0^1 a(x) u^{\\prime}(x) v^{\\prime}(x) dx$ and $\\int_0^1 f(x) v(x) dx$. Gaussian Quadrature allows us to approximate these integrals efficiently. \n",
    "\n",
    "3. **Selecting Gauss Points and Weights**:\n",
    "   - The selection of appropriate Gauss points and their corresponding weights is a crucial step. These points and weights are chosen to maximize the accuracy of the integral approximation. The method ensures that the integral of polynomial functions up to a certain degree can be computed exactly.\n",
    "\n",
    "4. **Simplifying the Integration Process**:\n",
    "   - By applying Gaussian Quadrature, the complex task of evaluating these integrals is simplified. The method transforms the integrals into a sum over the chosen Gauss points, significantly reducing computational complexity.\n",
    "\n",
    "5. **Handling Non-uniform Properties**:\n",
    "   - Gaussian Quadrature is particularly advantageous when dealing with non-uniform properties of the rod, such as varying thermal conductivity. It accurately captures the variations in these properties across the length of the rod, ensuring that the FEM solution remains reliable.\n",
    "\n",
    "**Enhancing Computational Efficiency**:\n",
    "\n",
    "- The use of Gaussian Quadrature in our FEM implementation enhances the overall computational efficiency. It allows us to calculate integral values more accurately and quickly, which is crucial for solving the linear system accurately and obtaining a precise approximation of the temperature distribution in the rod.\n",
    "\n",
    "---\n"
   ]
  },
  {
   "cell_type": "markdown",
   "metadata": {},
   "source": [
    "#### Additional Considerations in the Finite Element Model"
   ]
  },
  {
   "cell_type": "markdown",
   "metadata": {},
   "source": [
    "1. **Incorporation of Boundary Conditions**: \n",
    "   - A critical aspect of our FEM model is the meticulous incorporation of boundary conditions. The Neumann boundary condition, defined by the heat flux at one end of the rod, is integrated directly into the variational formulation, ensuring that the physical reality of the heat transfer is accurately represented in the model.\n",
    "\n",
    "2. **Handling Specific Boundary Conditions in FEM**:\n",
    "   - The treatment of specific boundary values, particularly the Dirichlet condition (fixed temperature), involves adjusting the system matrix and load vector in the FEM. This ensures that the solution respects the prescribed temperature constraint at the rod's end.\n",
    "\n",
    "3. **Efficient Computation Strategies**:\n",
    "   - Our FEM model benefits from computational efficiencies. For example, the sparse nature of the system matrix (due to the localized nature of the basis functions) allows for optimized computation and storage. This efficiency is crucial for larger-scale problems or more complex geometries.\n",
    "\n",
    "4. **Gaussian Quadrature in Practice**:\n",
    "   - The practical application of Gaussian Quadrature in our model warrants further discussion. We focus on selecting the optimal number of Gauss points to balance computational efficiency with the accuracy of integral approximations, particularly for varying properties across the rod.\n",
    "\n",
    "5. **Adaptation to Varied Scenarios**:\n",
    "   - The versatility of our FEM model is a significant advantage. It can be adapted to different scenarios by changing the functions representing thermal conductivity and heat sources, as well as by adjusting the boundary conditions, making it a powerful tool for a wide range of heat conduction problems.\n",
    "\n",
    "**Concluding Remarks on Model Implementation**:\n",
    "\n",
    "- The successful implementation of the Finite Element Method in our temperature distribution model is a testament to its flexibility and effectiveness. The attention to detail in incorporating boundary conditions, the application of Gaussian Quadrature, and the efficient computation strategies collectively ensure that our model is not only accurate but also practical for various applications in thermal analysis."
   ]
  }
 ],
 "metadata": {
  "language_info": {
   "name": "python"
  }
 },
 "nbformat": 4,
 "nbformat_minor": 2
}
