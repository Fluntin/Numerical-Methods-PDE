{
 "cells": [
  {
   "cell_type": "markdown",
   "metadata": {},
   "source": [
    "1. **Starting with the Differential Equation**:\\\n",
    "   $$ -\\left(a(x) u^{\\prime}(x)\\right)^{\\prime} = f(x) $$\n",
    "   \n",
    "2. **Integration Over a Range**:\\\n",
    "   Integrate the original equation from $ y $ to $ 1 $. \n",
    "   $$ -a(1) u^{\\prime}(1) + a(y) u^{\\prime}(y) = \\int_y^1 f(z) dz $$\n",
    "   \n",
    "   \n",
    "\n",
    "3. **Introducing a Constant $ g $**:\\\n",
    "   Introduce $ g $ that represents the constant term $ -a(1) u^{\\prime}(1) $\n",
    "   $$ -g + a(y) u^{\\prime}(y) = \\int_y^1 f(z) dz $$\n",
    "\n",
    "   $$ a(y) u^{\\prime}(y) = \\int_y^1 f(z) dz + g $$\n",
    "\n",
    "\n",
    "4. **Expression for $ u(x) - u(0) $ in Integral Form**:\\\n",
    "   Now we express function $ u(x) $ minus $ u(0) $ is expressed as an integral.\\\n",
    "   Integrate the $ a(y) u^{\\prime}(y) $ from $ 0 $ to $ x $.\n",
    "\n",
    "   $$ u(x) - u(0) = \\int_0^x \\frac{g + \\int_y^1 f(z) dz}{a(y)} dy $$\n",
    "\n",
    "\n",
    "   $$ u(x) = \\int_0^x \\frac{\\int_y^1 f(z) dz + g}{a(y)} dy$$\n",
    "\n",
    "\n",
    "We managed to transform a differential equation into an integral form!\n",
    "\n",
    "- The integral expression relates the value of the function $ u(x) $ at any point $ x $ to the integral of the given function $ f(z) $ and a constant $ g $, modulated by the function $ a(y) $.\n",
    "- This form is particularly useful in applications where $ f(z) $, $ a(y) $, and $ g $ are known, allowing for the determination of $ u(x) $ across its domain."
   ]
  }
 ],
 "metadata": {
  "language_info": {
   "name": "python"
  }
 },
 "nbformat": 4,
 "nbformat_minor": 2
}
