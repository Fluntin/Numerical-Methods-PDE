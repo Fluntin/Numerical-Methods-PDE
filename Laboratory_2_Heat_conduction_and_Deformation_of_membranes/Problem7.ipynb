{
 "cells": [
  {
   "cell_type": "markdown",
   "metadata": {},
   "source": [
    "### Problem Statement"
   ]
  },
  {
   "cell_type": "markdown",
   "metadata": {},
   "source": [
    "Let $U$ be defined by:\n",
    "\n",
    "$$\n",
    "U(x)=\\sum_{i=0}^N u_i \\varphi_i(x), \\text { med } u_0=1 \\text { och } u_N=0\n",
    "$$\n",
    "\n",
    "$$\n",
    "\\min _{\\left(u_1, \\ldots, u_{N-1}\\right) \\in \\mathbb{R}^{N-1}} \\int_\\epsilon^1 x\\left(U^{\\prime}(x)\\right)^2 \\mathrm{~d} x\n",
    "$$\n",
    "\n",
    "- An iterative method for approximating the minimization problem is the gradient method:\n",
    "\n",
    "$$\n",
    "u_k[n+1] = u_k[n] - \\delta \\frac{\\partial}{\\partial u_k}\\left(\\sum_{i=0}^N \\sum_{j=0}^N \\Lambda_{i j} u_i[n] u_j[n]\\right), \\quad n=1, \\ldots, N-1\n",
    "$$\n",
    "\n",
    "for $\\delta > 0$ and iterations $n=1,2,3, \\ldots$. \n",
    "\n",
    "- How can $\\delta$ be chosen, and how many iterations are needed to achieve sufficient accuracy? \n",
    "\n",
    "It is useful to relate\n",
    "\n",
    "$$\n",
    "u_k[n+1]=u_k[n]-\\delta \\frac{\\partial}{\\partial u_k}\\left(\\sum_{i=0}^N \\sum_{j=0}^N A_{i j} u_i[n] u_j[n]\\right), \\quad n=1, \\ldots, N-1\n",
    "$$\n",
    "\n",
    "to the heat conduction equation with explicit time-stepping to address this question. \n",
    "For example, choose $\\epsilon=0.1$ and study convergence experimentally.\n",
    "\n",
    "Iterative minimization is not only useful for numerical approximation but also fundamental in the     theory of partial differential equations. For instance, the existence and uniqueness of solutions to elliptic partial differential equations are demonstrated in Lax-Milgram's theorem using iterative minimization. \n",
    "\n",
    "- Refer to Theorem 1.9 in \"A short introduction to the finite element method\" in Canvas files.\n",
    "\n",
    "---\n",
    "\n",
    "The history of Dirichlet's principle is interesting and instructive. You can explore it in works such as [R. Courant, Dirichlet's principle, conformal mapping, and minimal surfaces, Springer-Verlag] and [John Goulet, The Dirichlet problem: a mathematical development, Pi Mu Epsilon Journal, Vol. 7, No. 8 (SPRING 1983), pp. 502-511].\n",
    "\n",
    "---"
   ]
  },
  {
   "cell_type": "markdown",
   "metadata": {},
   "source": [
    "### Solution"
   ]
  },
  {
   "cell_type": "markdown",
   "metadata": {},
   "source": []
  }
 ],
 "metadata": {
  "language_info": {
   "name": "python"
  }
 },
 "nbformat": 4,
 "nbformat_minor": 2
}
