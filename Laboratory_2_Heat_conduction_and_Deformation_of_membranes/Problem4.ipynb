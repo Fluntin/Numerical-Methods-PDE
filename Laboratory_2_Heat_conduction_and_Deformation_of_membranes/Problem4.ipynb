{
 "cells": [
  {
   "cell_type": "markdown",
   "metadata": {},
   "source": [
    "### Problem Statement"
   ]
  },
  {
   "cell_type": "markdown",
   "metadata": {},
   "source": [
    "Consider an almost conical tent as a stretched membrane, where the height above the ground of the tent fabric, denoted as $u(x_1, x_2)$ at the point $(x_1, x_2) \\in \\mathbb{R}^2$, satisfies the following:\n",
    "\n",
    "$$\n",
    "\\begin{aligned}\n",
    "-\\Delta u(x_1, x_2) = 0, & \\epsilon^2 < x_1^2 + x_2^2 < 1, \\\\\n",
    "u(x_1, x_2) = 1, & x_1^2 + x_2^2 = \\epsilon^2, \\\\\n",
    "u(x_1, x_2) = 0, & x_1^2 + x_2^2 = 1.\n",
    "\\end{aligned}\n",
    "$$\n",
    "\n",
    "Let $0 < \\epsilon < 1$, and define $\\Omega_\\epsilon := \\left\\{x \\in \\mathbb{R}^2: \\epsilon \\leq |x| \\leq 1\\right\\}$. Show that $u: \\Omega_\\epsilon \\rightarrow \\mathbb{R}$ satisfies:\n",
    "\n",
    "$$\n",
    "\\min _{v \\in V_\\epsilon} \\int_{\\epsilon<|x|<1}|\\nabla v(x)|^2 \\mathrm{~d} x=\\int_{\\epsilon<|x|<1}|\\nabla u(x)|^2 \\mathrm{~d} x\n",
    "$$\n",
    "\n",
    "where \n",
    "\n",
    "$$\n",
    "V_\\epsilon:=\\left\\{v: \\Omega_\\epsilon \\rightarrow \\mathbb{R}: \\int_{\\epsilon<|x|<1}|\\nabla v(x)|^2 \\mathrm{~d} x<\\infty, v(x)=0 \\text { for }|x|=1 \\text {, and } v(x)=1 \\text { for }|x|=\\epsilon\\right\\}\n",
    "$$\n",
    "\n",
    "- Determine the solution $u$ analytically. \n",
    "- What happens as $\\epsilon \\rightarrow 0^+$? \n",
    "- What does the maximum principle say about the height of the tent fabric $u$?"
   ]
  },
  {
   "cell_type": "markdown",
   "metadata": {},
   "source": [
    "### Solution"
   ]
  },
  {
   "cell_type": "markdown",
   "metadata": {},
   "source": [
    "\n",
    "---\n",
    "\n",
    "#### Analytical solution $u$ "
   ]
  },
  {
   "cell_type": "markdown",
   "metadata": {},
   "source": [
    "We want to demostrate that a specific function $u$, which adheres to a given differential equation, minimizes a particular integral $J$ within a set $ V_\\epsilon $.\n",
    "\n",
    "$$\n",
    "\\min _{v \\in V_\\epsilon} \\int_{\\epsilon<|x|<1}|\\nabla v(x)|^2 \\mathrm{~d} x=\\int_{\\epsilon<|x|<1}|\\nabla u(x)|^2 \\mathrm{~d} x\n",
    "$$\n",
    "\n",
    "---\n",
    "\n",
    "- Define $ J(f) $ for a function $ f $ as:\n",
    "  $$J(f) = \\int_{\\epsilon<|x|<1}|\\nabla f(x)|^2 \\, dx. $$\n",
    "\n",
    "**Expanding $ J(v) $:**\\\n",
    "For functions $ v $ in $ V_\\epsilon $:\n",
    "$$J(v) = \\int_{\\epsilon<|x|<1} \\nabla v(x) \\cdot \\nabla v(x) \\, dx. $$\n",
    "*Now we know that if we \"unpack\" $J$ its dependent on the gradients of $v$.*\n",
    "\n",
    "---\n",
    "\n",
    "**Strategy for Minimization:**\\\n",
    "We introduce some function $g_\\theta(x) = u(x) + \\theta \\eta(x)$, and compute $J(g_\\theta)$:\n",
    "\n",
    "$$\n",
    "\\begin{aligned}\n",
    "J(g_\\theta) &= J(u) + \\int_{\\epsilon<|x|<1} 2 \\theta \\nabla \\eta(x) \\cdot \\nabla u(x) \\, dx + \\int_{\\epsilon<|x|<1} \\theta^2 \\nabla \\eta(x) \\cdot \\nabla \\eta(x) \\, dx \\\\\n",
    "&\\geq J(u) + \\int_{\\epsilon<|x|<1} 2 \\theta \\nabla \\eta(x) \\cdot \\nabla u(x) \\, dx,\n",
    "\\end{aligned}\n",
    "$$\n",
    "\n",
    "---\n",
    "\n",
    "**Using the Differential Equation:**\\\n",
    "Given $u$ satisfies the differential equation:\n",
    "\n",
    "$$\n",
    "A(u, v) = \\int_{\\epsilon<|x|<1} \\nabla u \\cdot \\nabla v \\, dx = L(v) = 0\n",
    "$$\n",
    "\n",
    "specifically for $v = \\eta$, we get:\n",
    "$$\n",
    "\\int_{\\epsilon<|x|<1} \\nabla u \\cdot \\nabla \\eta \\, dx = 0\n",
    "$$\n",
    "\n",
    "---\n",
    "\n",
    "**Conclusion:**\\\n",
    "It follows that $ J(g_\\theta) \\geq J(u) $ for all $ \\theta $, indicating $ u $ minimizes $J$ in $V_\\epsilon$:\n",
    "\n",
    "$$\n",
    "\\min _{v \\in V_\\epsilon} \\int_{\\epsilon<|x|<1}|\\nabla v(x)|^2 \\, dx = \\int_{\\epsilon<|x|<1}|\\nabla u(x)|^2 \\, dx\n",
    "$$\n",
    "\n",
    "---\n",
    "\n",
    "**Solving the PDE:**\n",
    "- Transforming the Laplace equation $ \\Delta u = 0 $ into polar coordinates and assuming rotational symmetry, it simplifies to:\n",
    "  $$u''(r) + \\frac{1}{r} u'(r) = 0. $$\n",
    "- Reduce the order by setting $ v(r) = u'(r) $:\n",
    "  $$r v'(r) + v(r) = 0. $$\n",
    "- Solving this gives $ v(r) = \\frac{C}{r} $, and integrating yields $ u(r) = C \\ln(r) + D $.\n",
    "- Applying boundary conditions $ u(\\epsilon) = 1 $ and $ u(1) = 0 $, we find $ C = \\frac{1}{\\ln(\\epsilon)} $ and $ D = 0 $, leading to the solution:\n",
    "  $$\n",
    "  u(r) = \\frac{\\ln(r)}{\\ln(\\epsilon)}. \n",
    "  $$"
   ]
  },
  {
   "cell_type": "markdown",
   "metadata": {},
   "source": [
    "#### What happens as $\\epsilon \\rightarrow 0^+$"
   ]
  },
  {
   "cell_type": "markdown",
   "metadata": {},
   "source": [
    "As $\\epsilon$ approaches $0^+$, the tent modeled by the function $ u(r) = \\frac{\\ln(r)}{\\ln(\\epsilon)} $ exhibits significant transformations:\n",
    "\n",
    "- **Increasing Sharpness and Distinct Peak**: The tent becomes progressively sharper, both in terms of overall shape and at the top. As $\\epsilon$ nears zero, the height at points close to $\\epsilon$ notably increases, leading to a more distinct and pronounced peak at the center of the tent.\n",
    "\n",
    "- **Height Variations at Center and Edge**: \n",
    "   - At the center, where $ |x| = \\epsilon $, the height consistently remains 1. However, as $\\epsilon$ approaches zero, this central point turns into a singular peak.\n",
    "   - At the edge of the tent ($ |x| = 1 $), the height of the tent fabric $ u(x) $ remains 0, maintaining this value irrespective of $\\epsilon$.\n",
    "\n",
    "- **Shape Transformation to a Flat Circle**: In the limit, as $\\epsilon$ approaches $0^+$, the tent's shape evolves into a nearly flat circle, except for the singular peak at the origin. This change results in the tent flattening out except for this pointed peak at the center.\n",
    "\n",
    "- **Model Breakdown and Non-Solution in $ V_\\epsilon $**: In this extreme case, the function $ u $ ceases to provide a valid solution within the set $ V_\\epsilon $. This is because it fails to attain the value 1 at any point, particularly not at $ x = 0 $ where $ |x| = \\epsilon = 0 $. This signifies a breakdown in the physical realism of the model when $\\epsilon$ is extremely small, underscoring the limitations of the model in this asymptotic scenario. \n",
    "\n",
    "123"
   ]
  },
  {
   "cell_type": "markdown",
   "metadata": {},
   "source": [
    "#### What does the maximum principle say about the height of the tent fabric $u$?"
   ]
  },
  {
   "cell_type": "markdown",
   "metadata": {},
   "source": [
    "The maximum principle, as applied to the function $ u(x) = \\frac{\\ln (|x|)}{\\ln (\\epsilon)} $ in this problem, provides important insights into the behavior of $ u $, which represents the height of the tent fabric:\n",
    "\n",
    "- **Boundary Value Behavior and Maxima/Minima**:\n",
    "  - The function $ u $ reaches its maximum and minimum values on the boundary of the domain $ \\Omega_\\epsilon \\backslash \\partial \\Omega_\\epsilon $, which is open, connected, and bounded.\n",
    "  - Specifically, $ u(x) = 0 $ for all $ x $ such that $ |x| = 1 $, which represents the outer boundary.\n",
    "  - On the inner boundary, where $ |x| = \\epsilon $, $ u(x) = 1 $.\n",
    "\n",
    "- **Behavior Inside the Domain**: \n",
    "  - For points within the domain, where $ |x| $ lies between $\\epsilon$ and 1, $ u(x) $ takes values between 0 and 1. This is due to the logarithmic nature of $ u(x) $, ensuring that it remains within these bounds inside the tent's domain.\n",
    "  - The logarithms of $ |x| $ and $ \\epsilon $ share the same sign, but the absolute value of the logarithm of $ \\epsilon $ is greater than that of $ |x| $, which keeps $ u(x) $ within the range of 0 to 1.\n",
    "\n",
    "- **Conclusion and Implications**:\n",
    "  - According to the maximum principle, the height of the tent fabric $ u $ varies smoothly from 1 at the center to 0 at the edge, adhering to the boundary conditions.\n",
    "  - In the limit case as $ \\epsilon \\rightarrow 0^+ $, the boundary becomes the set of points where $ |x| = 1 $. Here, the maximum principle still applies, but the maximum and minimum values of $ u $ are both 0, resulting in the height of the tent fabric being consistently zero. This scenario contrasts the conditions in $ V_\\epsilon $, demonstrating a limitation in the model as $ \\epsilon $ approaches zero.\n",
    "\n",
    "In summary, the maximum principle reveals that the height of the tent fabric $ u $ is determined by its values at the boundary of the domain, smoothly transitioning between these values within the domain, and underscores the limitations of the model in the extreme case as $ \\epsilon $ approaches zero."
   ]
  }
 ],
 "metadata": {
  "language_info": {
   "name": "python"
  }
 },
 "nbformat": 4,
 "nbformat_minor": 2
}
