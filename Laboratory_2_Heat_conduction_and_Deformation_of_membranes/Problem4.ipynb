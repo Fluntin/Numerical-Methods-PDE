{
 "cells": [
  {
   "cell_type": "markdown",
   "metadata": {},
   "source": [
    "### Problem Statement"
   ]
  },
  {
   "cell_type": "markdown",
   "metadata": {},
   "source": [
    "Consider an almost conical tent as a stretched membrane, where the height above the ground of the tent fabric, denoted as $u(x_1, x_2)$ at the point $(x_1, x_2) \\in \\mathbb{R}^2$, satisfies the following:\n",
    "\n",
    "$$\n",
    "\\begin{aligned}\n",
    "-\\Delta u(x_1, x_2) = 0, & \\epsilon^2 < x_1^2 + x_2^2 < 1, \\\\\n",
    "u(x_1, x_2) = 1, & x_1^2 + x_2^2 = \\epsilon^2, \\\\\n",
    "u(x_1, x_2) = 0, & x_1^2 + x_2^2 = 1.\n",
    "\\end{aligned}\n",
    "$$\n",
    "\n",
    "Let $0 < \\epsilon < 1$, and define $\\Omega_\\epsilon := \\left\\{x \\in \\mathbb{R}^2: \\epsilon \\leq |x| \\leq 1\\right\\}$. Show that $u: \\Omega_\\epsilon \\rightarrow \\mathbb{R}$ satisfies:\n",
    "\n",
    "$$\n",
    "\\min _{v \\in V_\\epsilon} \\int_{\\epsilon<|x|<1}|\\nabla v(x)|^2 \\mathrm{~d} x=\\int_{\\epsilon<|x|<1}|\\nabla u(x)|^2 \\mathrm{~d} x\n",
    "$$\n",
    "\n",
    "where \n",
    "\n",
    "$$\n",
    "V_\\epsilon:=\\left\\{v: \\Omega_\\epsilon \\rightarrow \\mathbb{R}: \\int_{\\epsilon<|x|<1}|\\nabla v(x)|^2 \\mathrm{~d} x<\\infty, v(x)=0 \\text { for }|x|=1 \\text {, and } v(x)=1 \\text { for }|x|=\\epsilon\\right\\}\n",
    "$$\n",
    "\n",
    "- Determine the solution $u$ analytically. \n",
    "- What happens as $\\epsilon \\rightarrow 0^+$? \n",
    "- What does the maximum principle say about the height of the tent fabric $u$?"
   ]
  },
  {
   "cell_type": "markdown",
   "metadata": {},
   "source": [
    "### Solution"
   ]
  },
  {
   "cell_type": "markdown",
   "metadata": {},
   "source": []
  }
 ],
 "metadata": {
  "language_info": {
   "name": "python"
  }
 },
 "nbformat": 4,
 "nbformat_minor": 2
}
