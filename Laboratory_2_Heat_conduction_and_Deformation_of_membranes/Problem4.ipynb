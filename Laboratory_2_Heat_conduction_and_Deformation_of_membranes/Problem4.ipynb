{
 "cells": [
  {
   "cell_type": "markdown",
   "metadata": {},
   "source": [
    "### Problem Statement"
   ]
  },
  {
   "cell_type": "markdown",
   "metadata": {},
   "source": [
    "Consider an almost conical tent as a stretched membrane, where the height above the ground of the tent fabric, denoted as $u(x_1, x_2)$ at the point $(x_1, x_2) \\in \\mathbb{R}^2$, satisfies the following:\n",
    "\n",
    "$$\n",
    "\\begin{aligned}\n",
    "-\\Delta u(x_1, x_2) = 0, & \\epsilon^2 < x_1^2 + x_2^2 < 1, \\\\\n",
    "u(x_1, x_2) = 1, & x_1^2 + x_2^2 = \\epsilon^2, \\\\\n",
    "u(x_1, x_2) = 0, & x_1^2 + x_2^2 = 1.\n",
    "\\end{aligned}\n",
    "$$\n",
    "\n",
    "Let $0 < \\epsilon < 1$, and define $\\Omega_\\epsilon := \\left\\{x \\in \\mathbb{R}^2: \\epsilon \\leq |x| \\leq 1\\right\\}$. Show that $u: \\Omega_\\epsilon \\rightarrow \\mathbb{R}$ satisfies:\n",
    "\n",
    "$$\n",
    "\\min _{v \\in V_\\epsilon} \\int_{\\epsilon<|x|<1}|\\nabla v(x)|^2 \\mathrm{~d} x=\\int_{\\epsilon<|x|<1}|\\nabla u(x)|^2 \\mathrm{~d} x\n",
    "$$\n",
    "\n",
    "where \n",
    "\n",
    "$$\n",
    "V_\\epsilon:=\\left\\{v: \\Omega_\\epsilon \\rightarrow \\mathbb{R}: \\int_{\\epsilon<|x|<1}|\\nabla v(x)|^2 \\mathrm{~d} x<\\infty, v(x)=0 \\text { for }|x|=1 \\text {, and } v(x)=1 \\text { for }|x|=\\epsilon\\right\\}\n",
    "$$\n",
    "\n",
    "- Determine the solution $u$ analytically. \n",
    "- What happens as $\\epsilon \\rightarrow 0^+$? \n",
    "- What does the maximum principle say about the height of the tent fabric $u$?"
   ]
  },
  {
   "cell_type": "markdown",
   "metadata": {},
   "source": [
    "### Solution"
   ]
  },
  {
   "cell_type": "markdown",
   "metadata": {},
   "source": [
    "\n",
    "---\n",
    "\n",
    "#### Analytical solution $u$ "
   ]
  },
  {
   "cell_type": "markdown",
   "metadata": {},
   "source": [
    "We want to demostrate that a specific function $u$, which adheres to a given differential equation, minimizes a particular integral $J$ within a set $ V_\\epsilon $.\n",
    "\n",
    "$$\n",
    "\\min _{v \\in V_\\epsilon} \\int_{\\epsilon<|x|<1}|\\nabla v(x)|^2 \\mathrm{~d} x=\\int_{\\epsilon<|x|<1}|\\nabla u(x)|^2 \\mathrm{~d} x\n",
    "$$\n",
    "\n",
    "---\n",
    "\n",
    "- Define $ J(f) $ for a function $ f $ as:\n",
    "  $$J(f) = \\int_{\\epsilon<|x|<1}|\\nabla f(x)|^2 \\, dx. $$\n",
    "\n",
    "**Expanding $ J(v) $:**\\\n",
    "For functions $ v $ in $ V_\\epsilon $:\n",
    "$$J(v) = \\int_{\\epsilon<|x|<1} \\nabla v(x) \\cdot \\nabla v(x) \\, dx. $$\n",
    "*Now we know that if we \"unpack\" $J$ its dependent on the gradients of $v$.*\n",
    "\n",
    "---\n",
    "\n",
    "**Strategy for Minimization:**\\\n",
    "We introduce some function $g_\\theta(x) = u(x) + \\theta \\eta(x)$, and compute $J(g_\\theta)$:\n",
    "\n",
    "$$\n",
    "\\begin{aligned}\n",
    "J(g_\\theta) &= J(u) + \\int_{\\epsilon<|x|<1} 2 \\theta \\nabla \\eta(x) \\cdot \\nabla u(x) \\, dx + \\int_{\\epsilon<|x|<1} \\theta^2 \\nabla \\eta(x) \\cdot \\nabla \\eta(x) \\, dx \\\\\n",
    "&\\geq J(u) + \\int_{\\epsilon<|x|<1} 2 \\theta \\nabla \\eta(x) \\cdot \\nabla u(x) \\, dx,\n",
    "\\end{aligned}\n",
    "$$\n",
    "\n",
    "---\n",
    "\n",
    "**Using the Differential Equation:**\\\n",
    "Given $u$ satisfies the differential equation:\n",
    "\n",
    "$$\n",
    "A(u, v) = \\int_{\\epsilon<|x|<1} \\nabla u \\cdot \\nabla v \\, dx = L(v) = 0\n",
    "$$\n",
    "\n",
    "specifically for $v = \\eta$, we get:\n",
    "$$\n",
    "\\int_{\\epsilon<|x|<1} \\nabla u \\cdot \\nabla \\eta \\, dx = 0\n",
    "$$\n",
    "\n",
    "---\n",
    "\n",
    "**Conclusion:**\\\n",
    "It follows that $ J(g_\\theta) \\geq J(u) $ for all $ \\theta $, indicating $ u $ minimizes $J$ in $V_\\epsilon$:\n",
    "\n",
    "$$\n",
    "\\min _{v \\in V_\\epsilon} \\int_{\\epsilon<|x|<1}|\\nabla v(x)|^2 \\, dx = \\int_{\\epsilon<|x|<1}|\\nabla u(x)|^2 \\, dx\n",
    "$$\n",
    "\n",
    "---\n",
    "\n",
    "**Solving the PDE:**\n",
    "- Transforming the Laplace equation $ \\Delta u = 0 $ into polar coordinates and assuming rotational symmetry, it simplifies to:\n",
    "  $$u''(r) + \\frac{1}{r} u'(r) = 0. $$\n",
    "- Reduce the order by setting $ v(r) = u'(r) $:\n",
    "  $$r v'(r) + v(r) = 0. $$\n",
    "- Solving this gives $ v(r) = \\frac{C}{r} $, and integrating yields $ u(r) = C \\ln(r) + D $.\n",
    "- Applying boundary conditions $ u(\\epsilon) = 1 $ and $ u(1) = 0 $, we find $ C = \\frac{1}{\\ln(\\epsilon)} $ and $ D = 0 $, leading to the solution:\n",
    "  $$\n",
    "  u(r) = \\frac{\\ln(r)}{\\ln(\\epsilon)}. \n",
    "  $$"
   ]
  }
 ],
 "metadata": {
  "language_info": {
   "name": "python"
  }
 },
 "nbformat": 4,
 "nbformat_minor": 2
}
