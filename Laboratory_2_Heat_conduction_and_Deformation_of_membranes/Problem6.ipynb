{
 "cells": [
  {
   "cell_type": "markdown",
   "metadata": {},
   "source": [
    "### Problem Statement"
   ]
  },
  {
   "cell_type": "markdown",
   "metadata": {},
   "source": [
    "- Write a MATLAB program to numerically approximate:\n",
    "\n",
    "$$\n",
    "\\int_{\\epsilon<|x|<1}|\\nabla u(x)|^2 \\mathrm{~d} x=2 \\pi \\min _{v \\in \\hat{V}_\\epsilon} \\int_\\epsilon^1\\left(v^{\\prime}(r)\\right)^2 r \\mathrm{~d} r\n",
    "$$\n",
    "\n",
    "Using the finite element method as follows:\n",
    "\n",
    "$$\n",
    "U(x) = \\sum_{i=0}^N u_i \\varphi_i(x),\n",
    "$$\n",
    "$$u_0=1$$ \n",
    "$$u_N=0$$\n",
    "\n",
    "Where $\\varphi_i$ are piecewise linear basis functions satisfying $\\varphi_i(x_j)=0$ for $i \\neq j$ and $\\varphi_i(x_i)=1$ at the nodal points $x(i) = c + i(1-c)/N$.\n",
    "\n",
    "- Show that the minimization problem:\n",
    "\n",
    "$$\n",
    "\\min _{\\left(u_1, \\ldots, u_{N-1}\\right) \\in \\mathbb{R}^{N-1}} \\int_\\epsilon^1 x\\left(U^{\\prime}(x)\\right)^2 \\mathrm{~d} x\n",
    "$$\n",
    "\n",
    "can be written as:\n",
    "\n",
    "$$\n",
    "\\min _{\\left(u_1, \\ldots, u_{N-1}\\right) \\in \\mathbb{R}^{N-1}} \\sum_{i=0}^N \\sum_{j=0}^N A_{i j} u_i u_j,\n",
    "$$\n",
    "\n",
    "and it leads to the equation system:\n",
    "\n",
    "$$\n",
    "\\sum_{j=1}^{N-1} A_{i j} u_j = -A_{i 0}, \\quad i=1, \\ldots, N-1,\n",
    "$$\n",
    "\n",
    "where $A_{i j} = \\int_\\epsilon^1 x \\varphi_i^{\\prime}(x) \\varphi_j^{\\prime}(x) \\mathrm{d} x$. \n",
    "\n",
    "- Display figures showing the solution $U$ for various values of $\\epsilon$."
   ]
  },
  {
   "cell_type": "markdown",
   "metadata": {},
   "source": [
    "### Solution"
   ]
  },
  {
   "cell_type": "markdown",
   "metadata": {},
   "source": []
  }
 ],
 "metadata": {
  "language_info": {
   "name": "python"
  }
 },
 "nbformat": 4,
 "nbformat_minor": 2
}
