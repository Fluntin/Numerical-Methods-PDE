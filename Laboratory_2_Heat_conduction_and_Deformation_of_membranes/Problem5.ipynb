{
 "cells": [
  {
   "cell_type": "markdown",
   "metadata": {},
   "source": [
    "### Problem Statement"
   ]
  },
  {
   "cell_type": "markdown",
   "metadata": {},
   "source": [
    "In polar coordinates, for $0 < \\epsilon < 1$, we have:\n",
    "\n",
    "$$\n",
    "\\int_{\\epsilon<|x|<1}|\\nabla u(x)|^2 \\mathrm{~d} x = 2 \\pi \\min _{v \\in \\hat{V}_\\epsilon} \\int_\\epsilon^1\\left(v^{\\prime}(r)\\right)^2 r \\mathrm{~d} r\n",
    "$$\n",
    "\n",
    "where $\\hat{V}_\\epsilon:=\\left\\{v:[\\epsilon, 1] \\rightarrow \\mathbb{R}: \\int_\\epsilon^1\\left((v(r))^2+\\left(v^{\\prime}(r)\\right)^2\\right) \\mathrm{d} r<\\infty, v(1)=0\\right.$ and $\\left.v(\\epsilon)=1\\right\\}$, and $u$ solves (2). What does the Lax-Milgram theorem say about the question of the existence and uniqueness of solutions $w \\in \\hat{V}_0$ to:\n",
    "\n",
    "$$\n",
    "\\int_0^1\\left(w^{\\prime}(r)\\right)^2 r \\mathrm{~d} r=\\min _{v \\in \\hat{V}_0} \\int_0^1\\left(v^{\\prime}(r)\\right)^2 r \\mathrm{~d} r?\n",
    "$$\n",
    "\n",
    "- In other words, relate the conclusion in problem 4 to problem and the conditions for the existence and uniqueness of solutions in Theorem 2.1 in C-J (or Theorem 1.3 in \"A short introduction to the finite element method\").\n",
    "\n",
    "---\n"
   ]
  },
  {
   "cell_type": "markdown",
   "metadata": {},
   "source": [
    "### Theory"
   ]
  },
  {
   "cell_type": "markdown",
   "metadata": {},
   "source": [
    "##### Theorem 1.3 - Lax-Milgram. \n",
    "\n",
    "Let $V$ be a Hilbert space with norm $\\|\\cdot\\|_V$ and scalar product $(\\cdot, \\cdot)_V$ and assume that $A$ is a bilinear functional and $L$ is a linear functional that satisfy:\n",
    "\n",
    "1.  $A$ is **symmetric**, i.e. $A(v, w)=A(w, v) \\quad \\forall v, w \\in V$;\n",
    "2.  $A$ is $V$-**ellipti**c, i.e. $\\exists \\alpha>0$ such that $A(v, v) \\geq \\alpha\\|v\\|_V^2 \\quad \\forall v \\in V$;\n",
    "3.  A is **continuous**, i.e. $\\exists C \\in \\mathbb{R}$ such that $|A(v, w)| \\leq C\\|v\\|_V\\|w\\|_V$; and\n",
    "4.  $L$ is **continuous**, i.e. $\\exists \\Lambda \\in \\mathbb{R}$ such that $|L(v)| \\leq \\Lambda\\|v\\|_V \\quad \\forall v \\in V$.\n",
    "\n",
    "Then there is a unique function $u \\in V$ such that $A(u, v)=L(v) \\quad \\forall v \\in V$, and the stability estimate $\\|u\\|_V \\leq \\Lambda / \\alpha$ holds.\n",
    "\n",
    "---"
   ]
  },
  {
   "cell_type": "markdown",
   "metadata": {},
   "source": [
    "\n",
    "### Solution"
   ]
  },
  {
   "cell_type": "markdown",
   "metadata": {},
   "source": [
    "We start with the integral:\n",
    "\n",
    "$$\n",
    "\\int_{\\epsilon<|x|<1}|\\nabla u(x)|^2 \\mathrm{~d} x = 2 \\pi \\min _{v \\in \\hat{V}_\\epsilon} \\int_\\epsilon^1\\left(v^{\\prime}(r)\\right)^2 r \\mathrm{~d} r\n",
    "$$\n",
    "\n",
    "Here, $\\hat{V}_\\epsilon$ is a set of functions defined on the interval $[\\epsilon, 1]$ with certain properties, and $u$ is a solution to a given problem. We are interested in examining the existence and uniqueness of solutions $w \\in \\hat{V}_0$ to a minimization problem under the framework of the Lax-Milgram theorem.\n",
    "\n",
    "---"
   ]
  },
  {
   "cell_type": "markdown",
   "metadata": {},
   "source": [
    "**The Gradient in Polar Coordinates**\n",
    "\n",
    "The gradient of a function $v(x)$ in polar coordinates is given by:\n",
    "\n",
    "$$\n",
    "\\nabla v(x)=\\hat{\\mathbf{e}}_r \\frac{\\partial v}{\\partial r}+\\hat{\\mathbf{e}}_\\theta \\frac{1}{r} \\frac{\\partial v}{\\partial \\theta},\n",
    "$$\n",
    "\n",
    "where $\\hat{\\mathbf{e}}_r$ and $\\hat{\\mathbf{e}}_\\theta$ are the unit vectors in the radial and angular directions, respectively.\n",
    "\n",
    "---"
   ]
  },
  {
   "cell_type": "markdown",
   "metadata": {},
   "source": [
    "\n",
    "**Integral Expression**\n",
    "\n",
    "The integral of interest, denoted as $I$, is:\n",
    "\n",
    "$$\n",
    "I=\\min _{v \\in V_c} \\int_{c<|x|<1}|\\nabla v(x)|^2 d x\n",
    "$$\n",
    "\n",
    "This can be expanded using the expression for the gradient in polar coordinates:\n",
    "\n",
    "$$\n",
    "=\\min _{v \\in V_\\epsilon} \\int_{c<|x|<1}\\left(\\frac{\\partial v}{\\partial r}\\right)^2+\\frac{1}{r^2}\\left(\\frac{\\partial v}{\\partial \\theta}\\right)^2 d x\n",
    "$$\n",
    "\n",
    "This further simplifies to:\n",
    "\n",
    "$$\n",
    "=\\min _{v \\in V_\\epsilon} \\int_c^1 \\int_0^{2 \\pi} r\\left(\\frac{\\partial v}{\\partial r}\\right)^2+\\frac{1}{r}\\left(\\frac{\\partial v}{\\partial \\theta}\\right)^2 d \\theta d r .\n",
    "$$\n",
    "\n",
    "---"
   ]
  },
  {
   "cell_type": "markdown",
   "metadata": {},
   "source": [
    "**Simplification for Rotationally Symmetric Solutions**\n",
    "\n",
    "We established that the solution $u \\in V_\\epsilon$ that minimizes the integral is rotationally symmetric in Cartesian coordinates. This implies that the partial derivative with respect to $\\theta$, $\\frac{\\partial v}{\\partial \\theta}$, can be set to zero without affecting the solution. Therefore, the integral simplifies to:\n",
    "\n",
    "$$\n",
    "I =\\min _{v \\in V_\\epsilon} \\int_{\\epsilon<r<1} 2 \\pi r\\left(\\frac{\\partial v}{\\partial r}\\right)^2 d r = 2 \\pi \\min _{v \\in \\hat{V}_\\epsilon} \\int_\\epsilon^1 r \\left(v^{\\prime}(r)\\right)^2  d r .\n",
    "$$\n",
    "\n",
    "---"
   ]
  },
  {
   "cell_type": "markdown",
   "metadata": {},
   "source": [
    "**Examining the Existence of a Solution $w \\in \\hat{V}_0$**\n",
    "\n",
    "To conclude whether a solution $w \\in \\hat{V}_0$ to the minimization problem exists, we consider two approaches:\n",
    "\n",
    "Let's delve into a more detailed, step-by-step explanation of the concepts and mathematics in your query. I will present this in a structured format suitable for your Markdown report.\n",
    "\n",
    "**Approach 1: Limit Analysis as $ \\epsilon \\rightarrow 0+ $**\n",
    "- When considering the limit as $ \\epsilon $ approaches 0 from the positive side, the behavior of a solution $ u \\in \\hat{V}_\\epsilon $ is critical.\n",
    "- As $ \\epsilon $ gets smaller, the inner boundary of the domain effectively vanishes, causing the value of the solution to become zero across the entire boundary.\n",
    "- By the maximum principle for harmonic functions, this implies that the solution must be constant and equal to zero across the entire domain.\n",
    "\n",
    "**Approach 2: Contradiction Analysis**\n",
    "- Suppose a solution $ w \\in \\hat{V}_0 $ exists.\n",
    "- Since $ w $ is harmonic, it must be at least continuous.\n",
    "- $ w $ then satisfies the mean value property for harmonic functions, i.e., $ \\Delta w = 0 $ for $ |x| < 1 $ and $ w $ is continuous for $ |x| \\leq 1 $.\n",
    "- According to Poisson's formula, the value of $ w $ at the origin (0) should be equal to the average value over the boundary $ |x| = 1 $.\n",
    "- However, $ w $ is zero over the entire boundary circle. Thus, $ w(0) = 0 $, which contradicts the condition $ w(0) \\neq 1 $ for $ w \\in \\hat{V}_0 $.\n",
    "- Therefore, no solution $ w \\in \\hat{V}_0 $ exists for the minimization problem.\n",
    "\n",
    "---"
   ]
  },
  {
   "cell_type": "markdown",
   "metadata": {},
   "source": [
    "**Relation to the Lax-Milgram Theorem**\n",
    "\n",
    "- The Lax-Milgram theorem stipulates conditions for the existence and uniqueness of solutions to certain problems.\n",
    "- In a similar boundary value problem involving Poisson's equation studied earlier in the course, the theorem's conditions were met with $ A(u, v) = \\int_0^1 (u' v')^2 dx $.\n",
    "- In the current context, the bilinear form would be $ A(u, v) = \\int_0^1 (u' v')^2 r dr $.\n",
    "- While $ A $ is symmetric, it is likely not $ \\hat{V}_0 $-elliptic. This can be conjectured by finding a function $ v $ such that the squared norm of $ v $ is large, but in $ A(v, v) $, the derivative and multiplication by $ r $ sufficiently temper this magnitude.\n",
    "- It is notable that $ \\int_0^1 k^2 r dr \\leq \\int_0^1 k^2 dr $ for any quantity $ k $ since $ k^2 $ is positive and $ r \\leq 1 $ on the interval $[0,1]$.\n",
    "\n",
    "---"
   ]
  }
 ],
 "metadata": {
  "language_info": {
   "name": "python"
  }
 },
 "nbformat": 4,
 "nbformat_minor": 2
}
