{
 "cells": [
  {
   "cell_type": "markdown",
   "metadata": {},
   "source": [
    "### Problem Statement"
   ]
  },
  {
   "cell_type": "markdown",
   "metadata": {},
   "source": [
    "In polar coordinates, for $0 < \\epsilon < 1$, we have:\n",
    "\n",
    "$$\n",
    "\\int_{\\epsilon<|x|<1}|\\nabla u(x)|^2 \\mathrm{~d} x = 2 \\pi \\min _{v \\in \\hat{V}_\\epsilon} \\int_\\epsilon^1\\left(v^{\\prime}(r)\\right)^2 r \\mathrm{~d} r\n",
    "$$\n",
    "\n",
    "where $\\hat{V}_\\epsilon:=\\left\\{v:[\\epsilon, 1] \\rightarrow \\mathbb{R}: \\int_\\epsilon^1\\left((v(r))^2+\\left(v^{\\prime}(r)\\right)^2\\right) \\mathrm{d} r<\\infty, v(1)=0\\right.$ and $\\left.v(\\epsilon)=1\\right\\}$, and $u$ solves (2). What does the Lax-Milgram theorem say about the question of the existence and uniqueness of solutions $w \\in \\hat{V}_0$ to:\n",
    "\n",
    "$$\n",
    "\\int_0^1\\left(w^{\\prime}(r)\\right)^2 r \\mathrm{~d} r=\\min _{v \\in \\hat{V}_0} \\int_0^1\\left(v^{\\prime}(r)\\right)^2 r \\mathrm{~d} r?\n",
    "$$\n",
    "\n",
    "- In other words, relate the conclusion in problem 4 to problem and the conditions for the existence and uniqueness of solutions in Theorem 2.1 in C-J (or Theorem 1.3 in \"A short introduction to the finite element method\")."
   ]
  },
  {
   "cell_type": "markdown",
   "metadata": {},
   "source": [
    "### Theory"
   ]
  },
  {
   "cell_type": "markdown",
   "metadata": {},
   "source": [
    "##### Theorem 1.3 - Lax-Milgram. \n",
    "\n",
    "Let $V$ be a Hilbert space with norm $\\|\\cdot\\|_V$ and scalar product $(\\cdot, \\cdot)_V$ and assume that $A$ is a bilinear functional and $L$ is a linear functional that satisfy:\n",
    "\n",
    "1.  $A$ is **symmetric**, i.e. $A(v, w)=A(w, v) \\quad \\forall v, w \\in V$;\n",
    "2.  $A$ is $V$-**ellipti**c, i.e. $\\exists \\alpha>0$ such that $A(v, v) \\geq \\alpha\\|v\\|_V^2 \\quad \\forall v \\in V$;\n",
    "3.  A is **continuous**, i.e. $\\exists C \\in \\mathbb{R}$ such that $|A(v, w)| \\leq C\\|v\\|_V\\|w\\|_V$; and\n",
    "4.  $L$ is **continuous**, i.e. $\\exists \\Lambda \\in \\mathbb{R}$ such that $|L(v)| \\leq \\Lambda\\|v\\|_V \\quad \\forall v \\in V$.\n",
    "\n",
    "Then there is a unique function $u \\in V$ such that $A(u, v)=L(v) \\quad \\forall v \\in V$, and the stability estimate $\\|u\\|_V \\leq \\Lambda / \\alpha$ holds."
   ]
  },
  {
   "cell_type": "markdown",
   "metadata": {},
   "source": [
    "### Solution"
   ]
  },
  {
   "cell_type": "markdown",
   "metadata": {},
   "source": [
    "$$\n",
    "\\nabla v(x)=\\hat{\\mathbf{e}}_r \\frac{\\partial v}{\\partial r}+\\hat{\\mathbf{e}}_\\theta \\frac{1}{r} \\frac{\\partial v}{\\partial \\theta},\n",
    "$$\n",
    "\n",
    "$$\n",
    "I=\\min _{v \\in V_c} \\int_{c<|x|<1}|\\nabla v(x)|^2 d x\n",
    "$$\n",
    "\n",
    "$$\n",
    "=\\min _{v \\in V_\\epsilon} \\int_{c<|x|<1}\\left(\\frac{\\partial v}{\\partial r}\\right)^2+\\frac{1}{r^2}\\left(\\frac{\\partial v}{\\partial \\theta}\\right)^2 d x\n",
    "$$\n",
    "\n",
    "$$\n",
    "=\\min _{v \\in V_\\epsilon} \\int_c^1 \\int_0^{2 \\pi} r\\left(\\frac{\\partial v}{\\partial r}\\right)^2+\\frac{1}{r}\\left(\\frac{\\partial v}{\\partial \\theta}\\right)^2 d \\theta d r .\n",
    "$$"
   ]
  },
  {
   "cell_type": "markdown",
   "metadata": {},
   "source": []
  },
  {
   "cell_type": "markdown",
   "metadata": {},
   "source": []
  }
 ],
 "metadata": {
  "language_info": {
   "name": "python"
  }
 },
 "nbformat": 4,
 "nbformat_minor": 2
}
