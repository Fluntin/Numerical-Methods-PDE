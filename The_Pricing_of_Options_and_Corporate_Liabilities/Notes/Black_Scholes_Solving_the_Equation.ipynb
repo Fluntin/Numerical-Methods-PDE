{
 "cells": [
  {
   "cell_type": "markdown",
   "metadata": {},
   "source": [
    "$$\n",
    "\\frac{\\partial V}{\\partial t}+\\frac{1}{2} \\sigma^2 S^2 \\frac{\\partial^2 V}{\\partial S^2}+r S \\frac{\\partial V}{\\partial S}-r V=0\n",
    "$$"
   ]
  },
  {
   "cell_type": "markdown",
   "metadata": {},
   "source": [
    "Substitution:\n",
    "\n",
    "$$V=e^{-r(T-t)} U(S, \\tau)$$\n",
    "\n",
    "$\\tau$ - The time left...\n",
    "\n",
    "$\\tau=T-t$"
   ]
  },
  {
   "cell_type": "markdown",
   "metadata": {},
   "source": [
    "Taking Derivatives:\n",
    "\n",
    "$\\frac{\\partial V}{\\partial t}=r e^{-r(T-t)} U+e^{-r(T-t)} U_t$\n",
    "\n",
    "$\\frac{\\partial V}{\\partial S}=e^{-r(T-t)} U_S$\n",
    "\n",
    "$\\frac{\\partial^2 V}{\\partial S^2}=e^{-r(T-t)} U_{S S}$\n",
    "\n"
   ]
  },
  {
   "cell_type": "markdown",
   "metadata": {},
   "source": [
    "Putting everything back into original equation:\n",
    "\n",
    "$r e^{-r(T-t)} U+e^{-r(T-t)} U_t+\\frac{1}{2} \\sigma^2 S^2 e^{-r(T-t)} U_{S S}+r S e^{-r(T-t)} U_S-r e^{-r(T-t)} U=0$ \n",
    "\n",
    "$e^{-r(T-t)} U_t+\\frac{1}{2} \\sigma^2 S^2 e^{-r(T-t)} U_{S S}+r S e^{-r(T-t)} U_S=0$\n",
    "\n",
    "$U_t+\\frac{1}{2} \\sigma^2 S^2 U_{S S}+r S U_S=0$\n"
   ]
  },
  {
   "cell_type": "markdown",
   "metadata": {},
   "source": [
    "$\\frac{\\partial U}{\\partial t}=-\\frac{\\partial U}{\\partial \\tau}$\n",
    "\n",
    "$$\n",
    "\\frac{1}{2} \\sigma^2 S^2 U_{S S}+r S U_S=U_\\tau\n",
    "$$"
   ]
  },
  {
   "cell_type": "markdown",
   "metadata": {},
   "source": [
    "Thinking of stock as an $S=e^{\\xi}, \\xi=\\ln S$:\n",
    "\n",
    "\n",
    "$$\n",
    "U(S, \\tau)=U\\left(e^{\\xi}, \\tau\\right)\n",
    "$$\n",
    "\n",
    "$$\n",
    "\\frac{\\partial U}{\\partial \\xi}=U_S e^{\\xi}\n",
    "$$\n",
    "\n",
    "$$\n",
    "e^{-\\xi} U_{\\xi}=U_S\n",
    "$$\n",
    "\n",
    "$$\n",
    "U_{S S}=-e^{-\\xi} \\frac{1}{S} U_{\\xi}+e^{-\\xi} U_{\\xi \\xi} \\frac{1}{S}\n",
    "$$"
   ]
  },
  {
   "cell_type": "markdown",
   "metadata": {},
   "source": [
    "Working on the equation:\n",
    "\n",
    "$$\n",
    "\\frac{1}{2} \\sigma^2 S^2 U_{S S}+r S U_S=U_\\tau\n",
    "$$\n",
    "\n",
    "$$\n",
    "\\frac{1}{2} \\sigma^2 S^2\\left(-e^{-\\xi} \\frac{1}{S} U_{\\xi}+e^{-\\xi} U_{\\xi \\xi} \\frac{1}{S}\\right)+r S e^{-\\xi} U_{\\xi}=U_\\tau\n",
    "$$\n",
    "\n",
    "$$\n",
    "\\frac{1}{2} \\sigma^2\\left(-U_{\\xi}+U_{\\xi \\xi}\\right)+r U_{\\xi}=U_\\tau\n",
    "$$\n",
    "\n",
    "Now we have that all of the coefficients are constant!\n",
    "\n",
    "$$\n",
    "\\left(r-\\frac{1}{2} \\sigma^2\\right) U_{\\xi}+\\frac{1}{2} \\sigma^2 U_{\\xi \\xi}=U_\\tau\n",
    "$$"
   ]
  },
  {
   "cell_type": "markdown",
   "metadata": {},
   "source": [
    "Now we need to solve this differential equation for some function \n",
    "\n",
    "$$\n",
    "U(\\xi, \\tau)\n",
    "$$\n",
    "\n",
    "We use a substitution: \n",
    "\n",
    "$$\n",
    "x=\\xi+\\left(r-\\frac{1}{2} \\sigma^2\\right) \\tau\n",
    "$$\n",
    "\n",
    "$$\n",
    "U(\\xi, \\tau)=U\\left(x-\\left(r-\\frac{1}{2} \\sigma^2\\right) \\tau, \\tau\\right)\n",
    "$$"
   ]
  },
  {
   "cell_type": "markdown",
   "metadata": {},
   "source": [
    "This way we get:\n",
    "\n",
    "$$\n",
    "U_x=U_{\\xi}\n",
    "$$\n",
    "\n",
    "$$\n",
    "U_\\tau=-\\left(r-\\frac{1}{2} \\sigma^2\\right) U_{\\xi}+U_A(1)\n",
    "$$\n",
    "\n",
    "$$\n",
    "\\left(r-\\frac{1}{2} \\sigma^2\\right) U_x+\\frac{1}{2} \\sigma^2 U_x=U_A=U_\\tau+\\left(r-\\frac{1}{2} \\sigma^2\\right) U_x\n",
    "$$\n",
    "\n",
    "$$\n",
    "\\frac{1}{2} \\sigma^2 U_{x x}=U_\\tau\n",
    "$$"
   ]
  },
  {
   "cell_type": "markdown",
   "metadata": {},
   "source": [
    "This looks like the Heat-equation!\n",
    "\n",
    "$$\n",
    "\\frac{1}{2} \\sigma^2 U_{x x}=U_\\tau\n",
    "$$\n",
    "\n",
    "$$\n",
    "\\int_{-\\infty}^{\\infty} U(x, \\tau) d x=\\text { constant }\n",
    "$$\n",
    "\n",
    "We know that:\n",
    "\n",
    "$U(x, \\tau)=\\tau^a f\\left(\\frac{x-x^{\\prime}}{\\tau^\\beta}\\right)$\n",
    "\n",
    "$\\eta=\\frac{x-x^{\\prime}}{\\tau^\\beta}$\n",
    "\n",
    "$$\n",
    "\\frac{1}{2} \\sigma^2 \\tau^a \\frac{d^2 f}{d \\eta^2} \\tau^{-2 \\beta}=a \\tau^{a-1} f\\left(\\frac{x-x^{\\prime}}{\\tau^\\beta}\\right)-\\beta \\tau^a \\frac{d f}{d \\eta} \\frac{x-x^{\\prime}}{\\tau^\\beta} \\frac{1}{\\tau}\n",
    "$$\n",
    "\n",
    "$$\n",
    "\\frac{1}{2} \\sigma^2 \\tau^a \\frac{d^2 f}{d \\eta^2} \\tau^{-2 \\beta}=a \\tau^{a-1} f\\left(\\frac{x-x^{\\prime}}{\\tau^\\beta}\\right)-\\beta \\tau^a \\frac{d f}{d \\eta} \\eta\n",
    "$$\n",
    "\n",
    "$$\n",
    "\\int_{-\\infty}^{\\infty} U(x, \\tau) d x=\\text { constant }=\\int_{-\\infty}^{\\infty} \\tau^a f\\left(\\frac{x-x^{\\prime}}{\\tau^\\beta}\\right) d x=\\int_{-\\infty}^{\\infty} \\tau^a f(\\eta) d \\eta\n",
    "$$\n",
    "\n",
    "$\\eta=\\frac{x-x^{\\prime}}{\\tau^\\beta}$\n",
    "\n",
    "$\\frac{d \\eta}{d x}=\\tau^{-\\beta}$\n",
    "\n",
    "$\\int_{-\\infty}^{\\infty} U(x, \\tau) d x=$ constant $=\\int_{-\\infty}^{\\infty} \\tau^a f\\left(\\frac{x-x^{\\prime}}{\\tau^\\beta}\\right) d x=\\int_{-\\infty}^{\\infty} \\tau^{a+\\beta} f(\\eta) d \\eta$\n",
    "\n",
    "\n",
    "$$\n",
    "a=-\\beta\n",
    "$$\n",
    "\n",
    "$$\n",
    "\\frac{1}{2} \\sigma^2 \\tau^{-3 \\beta} \\frac{d^2 f}{d \\eta^2}=-\\beta \\tau^{-\\beta-1}\\left(f(\\eta)+\\frac{d f}{d \\eta} \\eta\\right)\n",
    "$$\n",
    "\n",
    "$$\n",
    "\\frac{1}{2} \\sigma^2 \\tau^{-3 \\beta} \\frac{d^2 f}{d \\eta^2}=-\\beta \\tau^{-\\beta-1}\\left(f(\\eta)+\\frac{d f}{d \\eta} \\eta\\right)\n",
    "$$\n",
    "\n",
    "$$\n",
    "\\sigma^2 \\frac{d^2 f}{d \\eta^2}=-\\left(f(\\eta)+\\frac{d f}{d \\eta} \\eta\\right)\n",
    "$$\n",
    "\n",
    "$$\n",
    "f(\\eta)=\\frac{1}{\\sqrt{2 \\pi} \\sigma} e^{\\frac{-\\eta^2}{2 \\sigma^2}}\n",
    "$$\n",
    "\n",
    "$$\n",
    "U(x, \\tau)=\\frac{1}{\\sqrt{T-t}} \\frac{1}{\\sqrt{2 \\pi} \\sigma} e^{-\\frac{\\left(\\frac{\\ln S+\\left(r-\\frac{1}{2} \\sigma^2\\right)(T-t)-x^{\\prime}}{\\sqrt{T-t}}\\right)^2}{2 \\sigma^2}}\n",
    "$$"
   ]
  },
  {
   "cell_type": "markdown",
   "metadata": {},
   "source": [
    "\n",
    "---\n",
    "\n",
    "$$\n",
    "V(S, t)=e^{-r(T-t)} \\frac{1}{\\sqrt{T-t}} \\frac{1}{\\sqrt{2 \\pi} \\sigma} e^{-\\frac{\\left(\\frac{\\ln S+\\left(r-\\frac{1}{2} \\sigma^2\\right)(T-t)-x^{\\prime}}{\\sqrt{T-t}}\\right)^2}{2 \\sigma^2}}\n",
    "$$\n",
    "\n",
    "$$\n",
    "V(S, t)=\\sum K_i e^{-r(T-t)} \\frac{1}{\\sqrt{T-t}} \\frac{1}{\\sqrt{2 \\pi} \\sigma} e^{-\\frac{\\left(\\frac{\\ln S+\\left(r-\\frac{1}{2} \\sigma^2\\right)(T-t)-x_1^{\\prime}}{\\sqrt{T-t}}\\right)^2}{2 \\sigma^2}}\n",
    "$$\n",
    "\n",
    "$$\n",
    "V(S, t)=\\int K(x) e^{-r(T-t)} \\frac{1}{\\sqrt{T-t}} \\frac{1}{\\sqrt{2 \\pi} \\sigma} e^{-\\frac{\\left(\\frac{\\left(\\frac{1}{\\mathbf{S}}+\\left(r-\\frac{1}{2} \\sigma^2\\right)(T-t)-x_i^{\\prime}\\right.}{\\sqrt{T-t}}\\right)^2}{2 \\sigma^2}} d x\n",
    "$$\n",
    "\n",
    "$\\lim _{t \\rightarrow T} V(S, t)=$ payoff $(S)$\n",
    "\n",
    "$$\n",
    "V(S, t)=\\int_0^{\\infty} \\operatorname{Payoff}\\left(S^{\\prime}\\right) e^{-r(T-t)} \\frac{1}{\\sqrt{T-t}} \\frac{1}{\\sqrt{2 \\pi} \\sigma} e^{\\frac{-\\left(\\frac{\\ln S+\\left(r-\\frac{1}{2} \\sigma^2\\right)(T-t)-\\ln S^{\\prime}+\\left(r-\\frac{1}{2} \\sigma^2\\right)(T-t)}{\\sqrt{T-t}}\\right)^2}{2 \\sigma^2}} \\frac{d S^{\\prime}}{S}\n",
    "$$\n",
    "\n",
    "$$\n",
    "V(S, t)=\\int_0^{\\infty} \\text { Payoff }\\left(S^{\\prime}\\right) e^{-r(T-t)} \\frac{1}{\\sqrt{T-t}} \\frac{1}{\\sqrt{2 \\pi} \\sigma} e^{\\frac{-\\left(\\ln S+\\left(r-\\frac{1}{2} \\sigma^2\\right)(T-t)-\\ln S^{\\prime}\\right)^2}{2 \\sigma^2(t-t)}} \\frac{d S^{\\prime}}{S}\n",
    "$$"
   ]
  }
 ],
 "metadata": {
  "kernelspec": {
   "display_name": "Python 3",
   "language": "python",
   "name": "python3"
  },
  "language_info": {
   "name": "python",
   "version": "3.10.11"
  }
 },
 "nbformat": 4,
 "nbformat_minor": 2
}
