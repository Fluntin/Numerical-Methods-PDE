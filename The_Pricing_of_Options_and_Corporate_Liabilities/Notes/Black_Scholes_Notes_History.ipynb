{
 "cells": [
  {
   "cell_type": "markdown",
   "metadata": {},
   "source": [
    "Louis Bachelier publishes:\"Theorié de la Spéculation\" in 1900\n",
    "Bacchelier's major assumption:\n",
    "\n",
    "- Stock Price Movments are simmilar to Arithmetic Browninan motion.\n",
    "- Movements are random and not correlated with the true calue of an asset.\n",
    "- Present price is independent of the Sock price in the past!\n",
    "- Asset prices are random variables\n",
    "- This would mean that asset prices have nothing to do with the value of te asset\n",
    "- If we then apply the central limit theorem to asset prices we get that stock prices are normaly distributted.\n",
    "\n",
    "Bacchelier concludes that prices are quite evenly distributed around their average and don't reguary deviat from this value.\n",
    "\n",
    "\n",
    "1950 P. Samuelson realizes that arithemtic brownian mpotion theoreticaly allwed stock prices to move to negative values so samuelson fomulated Geometric brownian motion (GBM)\n",
    "\n",
    "\n",
    "1973 Fischer Black, Robert C. Morton and Myron Scholes authored \"The Pricing\n",
    "of Options and Corporate\n",
    "Liabilities\"\n",
    "\n",
    "1997  awarded theNobel Memorial Prize in Economic Sciences for their work in finding a new method to determine the value of derivatives.\n",
    "\n",
    "\n"
   ]
  }
 ],
 "metadata": {
  "language_info": {
   "name": "python"
  }
 },
 "nbformat": 4,
 "nbformat_minor": 2
}
