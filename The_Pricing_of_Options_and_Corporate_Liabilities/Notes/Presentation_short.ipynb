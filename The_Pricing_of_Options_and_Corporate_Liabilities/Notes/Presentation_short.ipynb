{
 "cells": [
  {
   "cell_type": "markdown",
   "metadata": {},
   "source": [
    "### English:\n",
    "\n",
    "**[Introduction: Historical Background]**\n",
    "\n",
    "\"In 1900, Louis Bachelier pioneered the concept of treating asset prices as random variables and introduced the random walk hypothesis, laying the groundwork for future financial models. His theories anticipated the normal distribution of stock prices, setting the stage for the Black-Scholes model. Later, in 1950, Paul Samuelson further advanced these ideas, influencing the adoption of Geometric Brownian Motion, which became a key component of modern financial modeling developed by Black, Scholes, and Merton.\"\n",
    "\n",
    "**[Transition to Practical Application]**\n",
    "\n",
    "\"Moving into how these theories are applied, we use various financial instruments, particularly options. An option gives the holder the right, though not the obligation, to buy or sell an asset at a predetermined price before a specified date. There are two main types of options: Call options, allowing buyers to purchase assets at a set price, and put options, allowing sales at a set price. These options' values are influenced by the asset's current price, the strike price, and the time until the option's expiration.\"\n",
    "\n",
    "**[Derivation and Methodology]**\n",
    "\n",
    "\"To manage and price these options, financial analysts rely on models like the Black-Scholes equation, which uses variables such as stock price, strike price, volatility, risk-free rate, and time to expiration to calculate a theoretical price of options. When implementing this model, we often turn to numerical methods like the Crank-Nicolson finite difference method. This method is a blend of implicit and explicit finite difference methods, providing stability and accuracy by approximating derivatives using grid points on a structured lattice.\"\n",
    "\n",
    "**[Application of Crank-Nicolson Method]**\n",
    "\n",
    "\"In practical terms, the Crank-Nicolson method discretizes the Black-Scholes Partial Differential Equation (PDE) on a grid where option values are calculated backward from expiration to the present, taking into account both the asset's expected path and volatility. It’s especially useful for handling the complexities of option valuation in a fluctuating market.\"\n",
    "\n",
    "**[Graphical Analysis]**\n",
    "\n",
    "\"Let's visualize this. Imagine a graph with the stock price on the x-axis, time to maturity on the y-axis, and option value on the z-axis. As the stock price increases, the value of a call option rises, particularly when the stock price is above the strike price. Conversely, the value decreases as the option approaches expiration, a phenomenon known as time decay, which is clearly depicted on our graph.\"\n",
    "\n",
    "**[Evaluation of Results and Model Limitations]**\n",
    "\n",
    "\"However, despite its robustness, the Black-Scholes model isn't perfect. It assumes constant volatility and interest rates, ignores transaction costs, dividends, and does not account for early exercise of options. These limitations can lead to discrepancies between theoretical and actual option prices, as seen in different stock option evaluations.\"\n",
    "\n",
    "**[Conclusion]**\n",
    "\n",
    "\"In conclusion, while the Black-Scholes model and the Crank-Nicolson method provide foundational tools for option pricing, understanding their limitations and conditions under which they work best is crucial for accurate financial modeling and decision-making. These tools are not just calculations but reflections of market dynamics and investor behavior.\n",
    "\n",
    "---\n"
   ]
  },
  {
   "cell_type": "markdown",
   "metadata": {},
   "source": [
    "### Swedish:\n",
    "\n",
    "**[Introduktion: Historisk bakgrund]**\n",
    "\n",
    "\"År 1900 banade Louis Bachelier väg för behandlingen av tillgångspriser som slumpmässiga variabler och introducerade hypotesen om slumpmässig vandring, vilket lade grunden för framtida finansiella modeller. Hans teorier förutsåg den normala fördelningen av aktiepriser, vilket banade väg för Black-Scholes-modellen. Senare, år 1950, förde Paul Samuelson dessa idéer vidare och påverkade antagandet av Geometrisk Browiniansk rörelse, vilket blev en nyckelkomponent i modern finansiell modellering utvecklad av Black, Scholes och Merton.\"\n",
    "\n",
    "**[Övergång till praktisk tillämpning]**\n",
    "\n",
    "\"När vi tillämpar dessa teorier använder vi olika finansiella instrument, särskilt optioner. En option ger innehavaren rätten, men inte skyldigheten, att köpa eller sälja en tillgång till ett förutbestämt pris före ett angivet datum. Det finns två huvudtyper av optioner: köpoptioner, som tillåter köpare att köpa tillgångar till ett fast pris, och säljoptioner, som tillåter försäljning till ett fast pris. Värdet på dessa optioner påverkas av tillgångens nuvarande pris, lösenpriset och tiden till optionens utgång.\"\n",
    "\n",
    "**[Utledning och metodik]**\n",
    "\n",
    "\"För att hantera och prissätta dessa optioner förlitar sig finansanalytiker på modeller som Black-Scholes-ekvationen, som använder variabler som aktiekurs, lösenpris, volatilitet, riskfri ränta och tid till utgång för att beräkna ett teoretiskt pris på optioner. När vi implementerar denna modell vänder vi oss ofta till numeriska metoder som Crank-Nicolsons finita differensmetod. Denna metod är en blandning av implicita och explicita finita differensmetoder, som ger stabilitet och noggrannhet genom att approximera derivat med hjälp av rutnätspunkter på ett strukturerat rutnät.\"\n",
    "\n",
    "**[Tillämpning av Crank-Nicolson-metoden]**\n",
    "\n",
    "\"I praktiska termer diskretiserar Crank-Nicolson-metoden Black-Scholes partiella differentialekvation (PDE) på ett rutnät där optionsvärden beräknas bakåt från utgången till nutiden, med beaktande av både tillgångens förväntade bana och volatilitet. Den är särskilt användbar för att hantera komplexiteten i värderingen av optioner i en fluktuerande marknad.\"\n",
    "\n",
    "**[Grafisk analys]**\n",
    "\n",
    "\"Låt oss visualisera detta. Föreställ dig en graf med aktiepriset på x-axeln, tiden till mognad på y-axeln och optionsvärdet på z-axeln. När aktiepriset ökar, stiger värdet på en köpoption, särskilt när aktiepriset är över lösenpriset. Tvärtom minskar värdet när optionen närmar sig utgången, ett fenomen känt som tidsförfall, vilket tydligt framgår på vår graf.\"\n",
    "\n",
    "**[Utvärdering av resultat och modellbegränsningar]**\n",
    "\n",
    "\"Trots sin robusthet är Black-Scholes-modellen inte perfekt. Den antar konstant volatilitet och räntor, ignorerar transaktionskostnader, utdelningar och tar inte hänsyn till tidig utövning av optioner. Dessa begränsningar kan leda till skillnader mellan teoretiska och faktiska optionspriser, som ses i olika aktieoptionsevaluationer.\"\n",
    "\n",
    "**[Slutsats]**\n",
    "\n",
    "\"Sammanfattningsvis, även om Black-Scholes-modellen och Crank-Nicolson-metoden ger grundläggande verktyg för prissättning av optioner, är det avgörande att förstå deras begränsningar och under vilka förh ållanden de fungerar bäst för att säkerställa noggrann finansiell modellering och beslutsfattande. Dessa verktyg är inte bara beräkningar utan speglar marknadsdynamik och investerarbeteende.\""
   ]
  }
 ],
 "metadata": {
  "language_info": {
   "name": "python"
  }
 },
 "nbformat": 4,
 "nbformat_minor": 2
}
