{
 "cells": [
  {
   "cell_type": "markdown",
   "metadata": {},
   "source": [
    "### English:\n",
    "\n",
    "**[Introduction: Historical Background]**\n",
    "\n",
    "\"In 1900, Louis Bachelier pioneered the concept of treating asset prices as random variables and introduced the random walk hypothesis, laying the groundwork for future financial models. His theories anticipated the normal distribution of stock prices, setting the stage for the Black-Scholes model. Later, in 1950, Paul Samuelson further advanced these ideas, influencing the adoption of Geometric Brownian Motion, which became a key component of modern financial modeling developed by Black, Scholes, and Merton.\"\n",
    "\n",
    "**[Transition to Practical Application]**\n",
    "\n",
    "\"Moving into how these theories are applied, we use various financial instruments, particularly options. An option gives the holder the right, though not the obligation, to buy or sell an asset at a predetermined price before a specified date. There are two main types of options: Call options, allowing buyers to purchase assets at a set price, and put options, allowing sales at a set price. These options' values are influenced by the asset's current price, the strike price, and the time until the option's expiration.\"\n",
    "\n",
    "**[Derivation and Methodology]**\n",
    "\n",
    "\"To manage and price these options, financial analysts rely on models like the Black-Scholes equation, which uses variables such as stock price, strike price, volatility, risk-free rate, and time to expiration to calculate a theoretical price of options. When implementing this model, we often turn to numerical methods like the Crank-Nicolson finite difference method. This method is a blend of implicit and explicit finite difference methods, providing stability and accuracy by approximating derivatives using grid points on a structured lattice.\"\n",
    "\n",
    "**[Application of Crank-Nicolson Method]**\n",
    "\n",
    "\"In practical terms, the Crank-Nicolson method discretizes the Black-Scholes Partial Differential Equation (PDE) on a grid where option values are calculated backward from expiration to the present, taking into account both the asset's expected path and volatility. It’s especially useful for handling the complexities of option valuation in a fluctuating market.\"\n",
    "\n",
    "**[Graphical Analysis]**\n",
    "\n",
    "\"Let's visualize this. Imagine a graph with the stock price on the x-axis, time to maturity on the y-axis, and option value on the z-axis. As the stock price increases, the value of a call option rises, particularly when the stock price is above the strike price. Conversely, the value decreases as the option approaches expiration, a phenomenon known as time decay, which is clearly depicted on our graph.\"\n",
    "\n",
    "**[Evaluation of Results and Model Limitations]**\n",
    "\n",
    "\"However, despite its robustness, the Black-Scholes model isn't perfect. It assumes constant volatility and interest rates, ignores transaction costs, dividends, and does not account for early exercise of options. These limitations can lead to discrepancies between theoretical and actual option prices, as seen in different stock option evaluations.\"\n",
    "\n",
    "**[Conclusion]**\n",
    "\n",
    "\"In conclusion, while the Black-Scholes model and the Crank-Nicolson method provide foundational tools for option pricing, understanding their limitations and conditions under which they work best is crucial for accurate financial modeling and decision-making. These tools are not just calculations but reflections of market dynamics and investor behavior.\n"
   ]
  },
  {
   "cell_type": "markdown",
   "metadata": {},
   "source": [
    "### Swedish:\n",
    "\n"
   ]
  }
 ],
 "metadata": {
  "language_info": {
   "name": "python"
  }
 },
 "nbformat": 4,
 "nbformat_minor": 2
}
