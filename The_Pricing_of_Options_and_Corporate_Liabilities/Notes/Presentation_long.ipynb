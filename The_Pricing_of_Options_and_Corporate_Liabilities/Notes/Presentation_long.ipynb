{
 "cells": [
  {
   "cell_type": "markdown",
   "metadata": {},
   "source": [
    "#### History:\n",
    "\n",
    "- Louise Bachelier's 1900 work laid foundational theories for financial markets, treating asset prices as random variables and introducing the random walk hypothesis, suggesting that stock prices are independent over time and typically move randomly. \n",
    "\n",
    "- His ideas anticipated the behavior of stock price fluctuations as approximating a normal distribution under certain assumptions. \n",
    "\n",
    "- Later, Paul Samuelson built on these concepts in 1950, significantly influencing the adoption of Geometric Brownian Motion by Black, Scholes, and Merton, shaping modern financial modeling.\n",
    "\n",
    "---"
   ]
  },
  {
   "cell_type": "markdown",
   "metadata": {},
   "source": [
    "#### Derivation:\n",
    "\n",
    "1. **Hedged Portfolio**:\\\n",
    "    **Balances options and stocks to manage risk as market conditions change.**\n",
    "   \"If you want to balance the option and stock to reduce risk, you would start by creating a hedged portfolio. This approach ensures that your investment in options is offset by investments in stocks, allowing you to manage the risk effectively. As market conditions change, such as fluctuations in stock prices, your portfolio's overall value remains more stable compared to holding options or stocks alone.\"\n",
    "\n",
    "2. **Return on Portfolio**:\\\n",
    "    **Monitors how the portfolio's value responds to changes in option and stock prices.**\\\n",
    "   \"Next, to understand how your portfolio's value is changing, you would track the returns on your portfolio. This involves observing how changes in the option and stock prices affect the overall value of your investments.\"\n",
    "    \n",
    "3. **Itô's Lemma**:\\\n",
    "    **Analyzes how market volatility and time impact option values for strategic adjustments.**\\\n",
    "   \"To further refine your strategy, you'd apply concepts like Itô's lemma, which helps you understand how different factors like market volatility and the passage of time impact your option's value. This insight allows you to adjust your holdings to respond to market predictions or actual movements.\"\n",
    "    \n",
    "4. **Brownian Motion with Drift**:\\\n",
    "    **Adjust strategies based on stock price trends and random shocks.**\\\n",
    "   \"In environments where stock prices show a mix of predictable trends and random fluctuations, described by Brownian Motion with Drift, you'd adjust your strategy to either capitalize on the trends or shield your portfolio from negative impacts.\"\n",
    "\n",
    "5. **Simplified Return on Hedged Portfolio**:\\\n",
    "    **Focuses on stable factors affecting the portfolio, minimizing unpredictability.**\n",
    "   \"For a steadier approach, focusing on deterministic factors—those that can be more reliably predicted—you'd look at the simplified returns on your hedged portfolio. This helps focus on stable influences, setting aside the unpredictable elements.\"\n",
    "\n",
    "6. **Return on a Risk-Free Portfolio**:\\\n",
    "    **Compares hedged investments to risk-free growth to gauge safety and profitability.**\\\n",
    "   \"Comparatively, if you're looking at a risk-free investment, you'd calculate the return on a risk-free portfolio to understand how your hedged investments stack up against a guaranteed growth option, providing a benchmark for safety and profitability.\"\n",
    "\n",
    "7. **Black-Scholes Equation**:\\\n",
    "   \"Finally, all these strategies and observations would culminate in using a model like the Black-Scholes equation to price options accurately. This model integrates your observations about market volatility, time effects, and risk management into a coherent pricing strategy that helps you make informed investment decisions.\"\n",
    "\n",
    "   ---"
   ]
  },
  {
   "cell_type": "markdown",
   "metadata": {},
   "source": [
    "#### Boundary conditions and Key concepts\n",
    "\n",
    "In options trading, call options enable buyers to purchase assets at a predetermined price before they expire, while put options allow selling under similar terms. The strike price defines the transaction price, and the maturity date marks when the option ceases. Boundary conditions for these options define their values at different asset prices: call options gain value as asset prices rise above the strike, while put options gain as prices fall below the strike, adjusting for time decay and interest rates accordingly.\n",
    "\n",
    "---"
   ]
  },
  {
   "cell_type": "markdown",
   "metadata": {},
   "source": [
    "### Crank-Nicolson FDM\n",
    "\n",
    "So now that we have our PDE, we can dive into the Crank-Nicolson finite difference method.\n",
    "\n",
    "1. **Discretizing the PDE**: Using the Black-Scholes-Merton framework, the Crank-Nicolson method sets up a grid system on which the option's value is calculated at different time and asset price points.\n",
    "\n",
    "2. **Central Approximations**: At each grid node, it uses central approximations to estimate the first derivative with respect to time and space, offering a good balance between forward and backward estimations used in other methods.\n",
    "\n",
    "3. **Standard Approximation**: It applies a standard formula for the second derivative with respect to the asset's price, crucial for handling the curvature in the option's value relative to price changes.\n",
    "\n",
    "4. **Simultaneous Equations**: By setting up a series of simultaneous equations, the method efficiently computes the option values at each grid point, accounting for all neighboring values to ensure accuracy.\n",
    "\n",
    "5. **Backward Calculation**: Starting from the option's known values at expiry, the method works backwards through the grid, iteratively calculating prices up to the current day.\n",
    "\n",
    "This structured approach allows for precise calculations of option prices under various market conditions.\n",
    "\n",
    "\n",
    "---"
   ]
  },
  {
   "cell_type": "markdown",
   "metadata": {},
   "source": [
    "### Graph\n",
    "\n",
    "1. **Option Value Increase with Stock Price**: Point out how the value of the call option increases as the stock price increases. This reflects the inherent value gain of a call option as the underlying asset's price approaches and surpasses the strike price.\n",
    "\n",
    "2. **Time Decay Visualization**: Emphasize how the option value changes as the time to maturity decreases. Typically, the value of a call option might decrease as it approaches expiration due to time decay (Theta), especially if it is out of the money. However, if it is in the money, the value might not decay as rapidly. This variation should be visible on the graph.\n",
    "\n",
    "3. **Strike Price Indicator**: It's useful to indicate where the strike price is on the x-axis. This will help viewers quickly identify regions where the option is in-the-money (stock price > strike price) versus out-of-the-money (stock price < strike price).\n",
    "\n",
    "4. **Volatility Impact (if available)**: If the graph can show different volatility scenarios, point out how higher volatility increases the option's value due to the greater probability of the stock price moving above the strike price.\n",
    "\n",
    "5. **3D Surface or Contour Characteristics**: Explain any contours or shapes seen in the 3D surface. Peaks, valleys, and slopes can indicate how sensitive the option is to changes in the stock price and time. The steeper parts might indicate areas of higher sensitivity to changes in the underlying asset's price.\n",
    "\n",
    "6. **Zero Value Regions**: Specifically highlight any areas where the option value approaches zero, particularly as it relates to the time to maturity and stock prices significantly below the strike price. These areas show where the option is likely to expire worthless.\n",
    "\n",
    "7. **Interpretation of Time and Price Movements**: Guide viewers through understanding how movements along the x-axis (stock price changes) and y-axis (time changes) influence the z-axis (option value). This helps in understanding the dynamics of option pricing in relation to its expiration and underlying stock price movements.\n",
    "\n",
    "---"
   ]
  },
  {
   "cell_type": "markdown",
   "metadata": {},
   "source": [
    "### Control\n",
    "\n",
    "So if we want to check our formula for pricing European call options, understanding $N(d_1)$ and $N(d_2)$ becomes crucial. These elements in the Black-Scholes model use the cumulative distribution function of the standard normal distribution to represent key probabilities:\n",
    "\n",
    "- $N(d_1)$ calculates the probability of the option being exercised, assuming it proceeds to maturity. It reflects the expected value of owning the stock, conditional on the option ending in the money (stock price above the strike price).\n",
    "- $N(d_2)$, on the other hand, is adjusted for the risk-free rate and represents the probability, under risk-neutral conditions, that the stock price will exceed the strike price at the time of the option's expiration.\n",
    "\n",
    "---"
   ]
  },
  {
   "cell_type": "markdown",
   "metadata": {},
   "source": [
    "### Results:\n",
    "The Black-Scholes model provides theoretical prices for options based on assumptions about market behavior and stock characteristics. For the SOBI stock options, the model's prices are relatively close to the market buy and sell prices, suggesting that the assumptions — like log-normal distribution of stock prices, constant volatility, and no dividends — are reasonably met.\n",
    "\n",
    "However, for the SINCH stock options, there's a noticeable discrepancy between the model's prices and the actual trading prices. This could indicate that the assumptions of the Black-Scholes model aren't as well-aligned with the actual market conditions or stock behavior of SINCH. Factors like fluctuating volatility, dividend payments, or other market inefficiencies could be influencing the SINCH stock's pricing dynamics differently, leading to the model underestimating the option values.\n",
    "\n",
    "Such discrepancies highlight the importance of adapting or recalibrating the model based on specific stock characteristics and market conditions. It's crucial to perform sensitivity analyses and consider enhancements or alternative models that can accommodate variations in market dynamics more effectively.\n",
    "\n",
    "---\n"
   ]
  },
  {
   "cell_type": "markdown",
   "metadata": {},
   "source": [
    "### Weaknesses of the Black-Scholes model\n",
    "\n",
    "The Black-Scholes model, has several limitations that may impact its accuracy in real-world applications. \n",
    "\n",
    "- First, it does not accommodate the early exercising of American-style options. \n",
    "\n",
    "- The model assumes constant volatility and interest rates, which is often unrealistic in dynamic markets. \n",
    "\n",
    "- It also presupposes continuous trading without accounting for market closures or transaction costs, potentially skewing profitability analyses.\n",
    "\n",
    "- Further, it overlooks bid/ask spreads and assumes a lognormal distribution for stock prices, which may not capture extreme market movements or \"fat tails.\" \n",
    "\n",
    "- The model also ignores dividends and assumes ideal market conditions without arbitrage, which are not always reflective of actual market scenarios."
   ]
  }
 ],
 "metadata": {
  "language_info": {
   "name": "python"
  }
 },
 "nbformat": 4,
 "nbformat_minor": 2
}
