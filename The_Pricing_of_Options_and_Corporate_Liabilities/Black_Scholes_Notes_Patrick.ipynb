{
 "cells": [
  {
   "cell_type": "markdown",
   "metadata": {},
   "source": [
    "Assumptions:\n",
    "\n",
    "- that mu and Sigma are constants and they don't change over the life of the auction.\n",
    "- there are no transaction costs or taxes. Now, of course, that's not the real world, but it's necessary in order to price an option in one small formula.\n",
    "- there are no differences in stock, meaning this model is not suitable for pricing options on dividend-paying underlines, so we'll have to use a different method.\n",
    "- there are no arbitrage opportunities in the market.\n",
    "\n",
    "1. Constant volatility - The most significant assumption is that volatility is constant over time.\n",
    "2. Efficient markets - The Black-Scholes model assumes stocks move in a random walk.\n",
    "3. No dividends - not suitable for pricing options on dividend payments - no arbitrage.\n",
    "4. Constant and known interest rates.\n",
    "5. Lognormally distributed returns.\n",
    "6. No commissions and transaction costs.\n",
    "7. Liquidity - Markets are perfectly liquid.\n",
    "\n",
    "Assumes that it trades between prices => Continuous time model. No Arbitrage -> Portfolio with the amount of stocks that's riskless. We can discount that to the present value. But it relies on the idea that there exist portfolios where we have delta times the stock and then trading continuously.\n",
    "\n",
    "- The assumption is that trading is continuous. By \"continuous trading,\" I mean:\n",
    "    1. The market in the underlying and the option never closes, so there's no period in which it's closed.\n",
    "    2. Each price point that the underlying trades up means that there's no gap.\n",
    "    \n",
    "What we're doing here is moving from a discrete-time model (like the binomial tree approach) to a continuous-time model (like the Black-Scholes model). We have this idea of continuous trading.\n",
    "\n",
    "Finally, we have borrowing and lending occurring at the same risk-free rate, which, once again, is a constant and can't change over the life of the option. So, the no-arbitrage argument for the Black-Scholes is kind of what we worked through in the binomial tree approach, which is that if you could have a portfolio with some amount of stock, let's call it a delta amount of stock and options that's riskless, we can discount that back to the present value. Though we can do the same sort of calculation in the binomial tree, we present value it. But it relies on this idea, and this is a big part of the breakthrough, that there are portfolios where you have Delta x the stock and the options all held as one portfolio. Once you're able to hedge this, it's then reasonable to say that all of the risks of the option are offset by the offsetting position in the stock, and thus we can have this riskless portfolio that we can then present value at the risk-free rate. So, we don't have to take all of the time periods of each riskless portfolio down to being instantaneous and continuously rebalance.\n",
    "\n",
    "We're continuously rebalancing our portfolio to maintain that riskless nature, and we'll learn more about dynamic hedging.\n",
    "\n",
    "The respective cash flows at the end of each momentary node can be discounted at, or which is the risk-free rate. The Black-Scholes Model now has actually sort of two models: one for a European call and one for a European PUT. But actually, they're the same model; the difference between them is just the put-call parity formula has kind of been built into one of them to convert one into the other.\n",
    "\n",
    "First, we have to calculate D1 and D2, then we're using n of D1 and n of D2, with n being the cumulative probability function for a standardized normal variable.\n",
    "\n",
    "#### Interpretation:\n",
    "Calculating weighted probabilities and values of the various share price outcomes versus the strike price. The Black-Scholes model tells us that we can perfectly price European-style options as long as the underlying asset moves in a Brownian motion-like manner, which means that it moves with a certain drift or expected return, which we call mu, and with a stationary volatility, which we call Sigma (standard deviation). In practice, this isn't a perfect explanation of how stock prices move, but it's a reasonable proxy. Since the Black-Scholes model, there have been a host of other models that are all the same but slightly modified.\n",
    "\n",
    "Like any model, the Black-Scholes model is a simplification of a very complex system. Okay, and that's always going to be the case with anything we do in financial mathematics where we're going to have to simplify because we can't perfectly model all of these things. If we did, we would know the future. But it's such a good model that we use it. All other models are developments of the Black-Scholes model.\n",
    "\n",
    "#### Volatility:\n",
    "One detail that's not observable in the market is Sigma, the volatility of the underlying. If you remember when we looked at our binomial tree approaches as well, we had that all we needed to know to price an option was the price of the underlying and its volatility.\n",
    "\n",
    "The question then we have to ask ourselves is: What do we mean by volatility? Where do we get that from?\n",
    "\n",
    "The easy way you might try to answer that question is to say, well, volatility is the standard deviation of the underlying. So all we need to do is get a time series of the underlying, calculate the standard deviation, and then we know the volatility!\n",
    "\n",
    "However, there are a few problems with that. If we were to download the data, say, from Yahoo Finance, and get stock price data for all of these stocks, we can calculate its standard deviation. But if you were to download one year's data, you'd get one standard deviation; five years, ten years, thirty years of data, you'd get different standard deviations. Which one is most relevant? The company might have changed!\n",
    "\n",
    "So, we don't use any of those standard deviations. The one we need for the formula is a forward-looking standard deviation over the life of the options, a standard deviation that hasn't happened yet!\n",
    "\n",
    "So, using a bunch of data available in the marketplace, plus one number that's not available - the forward-looking standard deviation - we can price an option. What's available is that you can't know how volatile something's going to be.\n",
    "\n",
    "We don't know the volatility, but we do know the price of the option. What do we do with that information? Considering we do know the actual price of the option, instead of a sole thing, the Black-Scholes model to get the price of the option, what we can do is we can put the price of the option in there and solve for what the volatility is. Now, is that useful? It actually is quite useful because it allows us to compare the price of a whole bunch of different options to each other. It allows us to understand how much people think the underlying is about to move, how volatile it's likely to be. So, the volatility that we back out using the Black-Scholes model is what we call the implied volatility. It's how volatile the market thinks this underlying will be given the price that people are paying or offering to sell options for. That is sort of the sum of everyone's best guess as to how risky this is.\n",
    "\n",
    "This implied volatility is actually such an important feature of options markets that most options are quoted based on implied volatility alone. So, if you, maybe not on a retail trading platform, but for institutional options trading, if you call up a derivatives broker and ask for a"
   ]
  }
 ],
 "metadata": {
  "language_info": {
   "name": "python"
  }
 },
 "nbformat": 4,
 "nbformat_minor": 2
}
