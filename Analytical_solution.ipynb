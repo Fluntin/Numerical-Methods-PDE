{
 "cells": [
  {
   "cell_type": "markdown",
   "metadata": {},
   "source": [
    "## 1. Convection problem"
   ]
  },
  {
   "cell_type": "markdown",
   "metadata": {},
   "source": [
    "### Problem"
   ]
  },
  {
   "cell_type": "markdown",
   "metadata": {},
   "source": [
    "This task is about the concentration $ u: \\Omega \\rightarrow \\mathbb{R} $ of fire smoke that satisfies the partial differential equation $ v \\cdot \\nabla u = f $ in an area $ \\Omega $. \n",
    "\n",
    "- For simplicity, we assume that the wind, $ v: \\Omega \\rightarrow \\mathbb{R}^2 $, and smoke production, $ f: \\Omega \\rightarrow \\mathbb{R} $, are time-independent in the area $ \\Omega \\subset \\mathbb{R}^2 $.\n",
    "\n",
    "1. First assume that:\n",
    "$$\n",
    "\\begin{aligned}\n",
    "u(x_1, 1) & = g(x_1), \\quad \\Omega := \\{ (x_1, x_2) \\in \\mathbb{R}^2: x_1 \\in \\mathbb{R}, x_2 > 1 \\}, \\\\\n",
    "v(x_1, x_2) & = (x_1, x_2), \\\\\n",
    "f(x_1, x_2) & = 2 u(x_1, x_2),\n",
    "\\end{aligned}\n",
    "$$\n",
    "\n",
    "where $ g: \\mathbb{R} \\rightarrow \\mathbb{R} $ is a given function. \n",
    "Use the method of characteristics to analytically solve the convection problem\n",
    "\n",
    "$$\n",
    "v(x) \\cdot \\nabla u(x) = 2 u(x)\n",
    "$$\n"
   ]
  },
  {
   "cell_type": "markdown",
   "metadata": {},
   "source": [
    "### Solution\n"
   ]
  },
  {
   "cell_type": "markdown",
   "metadata": {},
   "source": [
    "#### Setup:\n",
    "\n",
    "We want to solve the equation:\n",
    "$$\n",
    "v(x) \\cdot \\nabla u(x)=2 u(x)\n",
    "$$\n",
    "\n",
    "The boundary conditions are given as:\n",
    "$$\n",
    "u\\left(x_1, 1\\right)=g\\left(x_1\\right)\n",
    "$$\n",
    "Where $g(x)$ is a known function.\\\\\n",
    "The wind velocity is given by:\n",
    "$$\n",
    "v\\left(x_1, x_2\\right)=\\left(x_1, x_2\\right)\n",
    "$$\n",
    "Our region of interest is:\n",
    "$$\n",
    "\\Omega:=\\left\\{\\left(x_1, x_2\\right) \\in \\mathbb{R}^2: x_1 \\in \\mathbb{R}, x_2>1\\right\\}\n",
    "$$\n"
   ]
  },
  {
   "cell_type": "markdown",
   "metadata": {},
   "source": [
    "#### Method of Characteristics:\n",
    "\n",
    "The change of $u$ along the curve $\\mathbb{X}(s)$ equals the product of the velocity of the curve $\\mathbb{X}^{\\prime}(s)$ and the gradient of $u$ at $\\mathbb{X}(s)$.\n",
    "\n",
    "$$\n",
    "\\frac{d}{ds} u(\\mathbb{X}(s)) = \\nabla u(\\mathbb{X}(s)) \\cdot \\mathbb{X}'(s)\n",
    "$$\n",
    "\n",
    "$$\n",
    "\\mathbb{X}'(s) = v(\\mathbb{X}(s))\n",
    "$$\n",
    "$$\n",
    "\\Rightarrow \\frac{d}{ds} u(\\mathbb{X}(s)) = v(\\mathbb{X}(s)) \\cdot \\nabla u(\\mathbb{X}(s))\n",
    "$$\n",
    "$$\n",
    "\\frac{d}{d s} u(\\mathbb{X}(s))=\\mathbb{X}^{\\prime}(s) \\cdot \\nabla u(\\mathbb{X}(s))=v(\\mathbb{X}(s)) \\cdot \\nabla u(\\mathbb{X}(s))\n",
    "$$\n",
    "\n",
    "$\\mathbb{X}(s)$ represents the characteristic curve parameterized by $s$, and $\\mathbb{X}^{\\prime}(s)$ is its derivative with respect to $s$.\\\n",
    "$\\text { This implies } \\mathbb{X}^{\\prime}(s)=v(\\mathbb{X}(s))=\\mathbb{X}(s) \\text {, leading to a system of differential equations. }$\\\n",
    "\n",
    "1. Given the system of ODEs:\n",
    "   $$\n",
    "   \\mathbb{X}_1'(s) = \\mathbb{X}_1(s), \\quad \\mathbb{X}_2'(s) = \\mathbb{X}_2(s)\n",
    "   $$\n",
    "\n",
    "2. Solve each ODE:\n",
    "   $$\n",
    "   \\mathbb{X}_1(s) = \\mathbb{X}_1(0) e^s, \\quad \\mathbb{X}_2(s) = \\mathbb{X}_2(0) e^s\n",
    "   $$\n",
    "\n",
    "3. Combine solutions into vector form:\n",
    "   $$\n",
    "   \\mathbb{X}(s) = \\left(\\mathbb{X}_1(0) e^s, \\mathbb{X}_2(0) e^s\\right)^T\n",
    "   $$\n",
    "\n",
    "Solving:\n",
    "\n",
    "1. We start with the differential equation:\n",
    "   $$ \\frac{d}{ds} u(\\mathbb{X}(s)) = 2 u(\\mathbb{X}(s)) $$\n",
    "\n",
    "2. Find the general solution for $ y' = ky $ is $ y = Ce^{ks} $\n",
    "   $$ u(\\mathbb{X}(s)) = Ce^{2s} $$\n",
    "\n",
    "3. Initial condition $ u(\\mathbb{X}(0)) $ to find $ C $:\n",
    "   $$ u(\\mathbb{X}(0)) = Ce^{2 \\cdot 0} \\Rightarrow C = u(\\mathbb{X}(0)) $$\n",
    "\n",
    "4. Final solution:\n",
    "   $$ u(\\mathbb{X}(s)) = u(\\mathbb{X}(0)) e^{2s} $$\n",
    "\n",
    "Now we can proceed to finding $u$:\n",
    "$$\n",
    "\\mathbb{X}(0)=\\left(x_1, x_2\\right)\n",
    "$$\n",
    "Function $u$ at different points along the characteristic curve and at the original point $\\left(x_1, x_2\\right)$.\n",
    "$$\n",
    "u\\left(x_1 \\mathrm{e}^s, x_2 \\mathrm{e}^s\\right) \\mathrm{e}^{-2 s}=u\\left(x_1, x_2\\right) \\forall s \\in \\mathbb{R} .\n",
    "$$\n",
    "We had $u\\left(x_1 e^s, x_2 e^s\\right) e^{-2 s}=u\\left(x_1, x_2\\right)$ that we want to connect to the boundary condition.\n",
    "So point $\\left(x_1 e^s, x_2 e^s\\right)$ to boundary condition at $x_2=1$.\\\n",
    "$u\\left(x_1, 1\\right)=g\\left(x_1\\right)$...\\\n",
    "\n",
    "Here's the mathematical process for the substitution and solution:\n",
    "\n",
    "1. Substitution:\n",
    "   $$ s = -\\log(x_2) $$\n",
    "\n",
    "2. Applying the substitution to the equation:\n",
    "   $$ u\\left(x_1 e^s, x_2 e^s\\right) e^{-2s} = u\\left(x_1, x_2\\right) $$\n",
    "   $$ u\\left(x_1 e^{-\\log(x_2)}, x_2 e^{-\\log(x_2)}\\right) e^{-2(-\\log(x_2))} $$\n",
    "\n",
    "3. Simplifying the substitution:\n",
    "   $$ u\\left(\\frac{x_1}{x_2}, 1\\right) x_2^2 $$\n",
    "\n",
    "4. Equating both sides:\n",
    "   $$ u\\left(\\frac{x_1}{x_2}, 1\\right) x_2^2 = u\\left(x_1, x_2\\right) $$\n",
    "\n",
    "5. Applying the boundary condition:\n",
    "   $$ u\\left(\\frac{x_1}{x_2}, 1\\right) = g\\left(\\frac{x_1}{x_2}\\right) $$\n",
    "\n",
    "6. Final solution:\n",
    "   $$ u(x_1, x_2) = g\\left(\\frac{x_1}{x_2}\\right) x_2^2 $$\n",
    "\n",
    "\n",
    "\n"
   ]
  },
  {
   "cell_type": "markdown",
   "metadata": {},
   "source": []
  }
 ],
 "metadata": {
  "language_info": {
   "name": "python"
  }
 },
 "nbformat": 4,
 "nbformat_minor": 2
}
